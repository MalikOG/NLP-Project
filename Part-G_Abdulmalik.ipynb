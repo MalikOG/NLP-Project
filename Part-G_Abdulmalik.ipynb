{
 "cells": [
  {
   "cell_type": "markdown",
   "metadata": {},
   "source": [
    "# Part-G\n"
   ]
  },
  {
   "cell_type": "code",
   "execution_count": 54,
   "metadata": {},
   "outputs": [
    {
     "name": "stdout",
     "output_type": "stream",
     "text": [
      "لعبه رائعه وسريعه\n",
      "[0 0 1 0]\n"
     ]
    }
   ],
   "source": [
    "# load the data, take random 100 samples from the validation\n",
    "import pickle\n",
    "\n",
    "label2idx = {\n",
    "    \"bug_report\": 1,\n",
    "    \"improvement_request\": 2,\n",
    "    \"rating\": 3,\n",
    "    \"others\": 4,\n",
    "}\n",
    "idx2label = {value: key for key, value in label2idx.items()}\n",
    "# read the train/test data\n",
    "with open(\"Data/multilabel_train.pkl\", \"rb\") as f:\n",
    "    X_train, y_train = pickle.load(f)\n",
    "\n",
    "# split into 85% train/ 15% validation\n",
    "import numpy as np\n",
    "from sklearn.model_selection import train_test_split\n",
    "\n",
    "# Split into train/validation sets\n",
    "X_train, X_val, y_train, y_val = train_test_split(\n",
    "    X_train, y_train, test_size=0.15, random_state=777\n",
    ")\n",
    "# Take 100 random samples from validation set\n",
    "random_indices = np.random.choice(len(X_val), size=100, replace=False)\n",
    "X_val_sample = [X_val[i] for i in random_indices]\n",
    "y_val_sample = y_val[random_indices]\n",
    "print(X_val_sample[1])\n",
    "print(y_val_sample[1])"
   ]
  },
  {
   "cell_type": "code",
   "execution_count": 10,
   "metadata": {},
   "outputs": [
    {
     "name": "stderr",
     "output_type": "stream",
     "text": [
      "/tmp/ipykernel_1919/3167523967.py:8: LangChainDeprecationWarning: The class `ChatOpenAI` was deprecated in LangChain 0.0.10 and will be removed in 1.0. An updated version of the class exists in the :class:`~langchain-openai package and should be used instead. To use it run `pip install -U :class:`~langchain-openai` and import as `from :class:`~langchain_openai import ChatOpenAI``.\n",
      "  llm = ChatOpenAI(\n"
     ]
    }
   ],
   "source": [
    "from langchain.chat_models import ChatOpenAI\n",
    "\n",
    "# Define the OpenAI API key and model arguments\n",
    "from langchain.schema import HumanMessage\n",
    "\n",
    "llm = ChatOpenAI(\n",
    "    openai_api_key=KEY,\n",
    "    model=\"gpt-3.5-turbo\",\n",
    "    temperature=0,\n",
    "    max_tokens=100,\n",
    ")\n"
   ]
  },
  {
   "cell_type": "markdown",
   "metadata": {},
   "source": [
    "#  **Zero-shot Classification**\n"
   ]
  },
  {
   "cell_type": "markdown",
   "metadata": {},
   "source": [
    "# English prompting"
   ]
  },
  {
   "cell_type": "code",
   "execution_count": 19,
   "metadata": {},
   "outputs": [],
   "source": [
    "from langchain.prompts import PromptTemplate\n",
    "from langchain.chat_models import ChatOpenAI\n",
    "from pydantic import BaseModel, Field\n",
    "from langchain.chains import LLMChain\n",
    "from langchain.output_parsers import PydanticOutputParser\n"
   ]
  },
  {
   "cell_type": "code",
   "execution_count": 26,
   "metadata": {},
   "outputs": [],
   "source": [
    "class ResponseFormatter(BaseModel):\n",
    "    bug_report: int = Field(description=\"1 if review reports bugs/errors, 0 otherwise\")\n",
    "    improvement_request: int = Field(description=\"1 if review requests new features/improvements, 0 otherwise\")\n",
    "    rating: int = Field(description=\"1 if review contains opinions about the app, 0 otherwise\")\n",
    "    others: int = Field(description=\"1 if review is spam/irrelevant/uncategorizable, 0 otherwise\")\n",
    "\n",
    "parser = PydanticOutputParser(pydantic_object=ResponseFormatter)\n",
    "format_instructions = parser.get_format_instructions()"
   ]
  },
  {
   "cell_type": "code",
   "execution_count": 60,
   "metadata": {},
   "outputs": [],
   "source": [
    "prompt_template=r\"\"\"\n",
    "You are an expert app review classifier. Your task is to analyze a user's app review and output a JSON object indicating which categories the review belongs to.\n",
    "Use the following keys with values 0 or 1, where 1 means the review falls into that category and 0 means it does not:\n",
    "\n",
    "{{\n",
    "    \"bug_report\": 1,          # Reporting issues like bugs or errors\n",
    "    \"improvement_request\": 0,  # Requests for new features or improvements\n",
    "    \"rating\": 1,              # Positive or negative opinions on the app\n",
    "    \"others\": 0               # Spam, irrelevant, or uncategorizable reviews\n",
    "}}\n",
    "\n",
    "Please analyze the following review and return only the JSON object as shown above, without any additional text or explanation.\n",
    "\n",
    "Review: {text}\n",
    "JSON:\n",
    "\"\"\"\n",
    "zero_shot_prompt_en = PromptTemplate(\n",
    "    input_variables=[\"text\"],\n",
    "    template=prompt_template,\n",
    ")\n",
    "chain = LLMChain(llm=llm, prompt=zero_shot_prompt_en)"
   ]
  },
  {
   "cell_type": "code",
   "execution_count": 61,
   "metadata": {},
   "outputs": [],
   "source": [
    "prompt_template_bonus=r\"\"\"\n",
    "You are an expert app review classifier. Your task is to analyze a user's app review and output a JSON object indicating which categories the review belongs to.\n",
    "Use the following keys with values 0 or 1, where 1 means the review falls into that category and 0 means it does not:\n",
    "\n",
    "{{\n",
    "    \"bug_report\": 1,          # Reporting issues like bugs or errors\n",
    "    \"improvement_request\": 0,  # Requests for new features or improvements\n",
    "    \"rating\": 1,              # Positive or negative opinions on the app\n",
    "    \"others\": 0               # Spam, irrelevant, or uncategorizable reviews\n",
    "}}\n",
    "\n",
    "Please analyze the following review and return only the JSON object as shown above, without any additional text or explanation.\n",
    "\n",
    "Review: {text}\n",
    "JSON:\n",
    "Let's think step by step:\n",
    "\"\"\"\n",
    "zero_shot_prompt_en_bonus = PromptTemplate(\n",
    "    input_variables=[\"text\"],\n",
    "    template=prompt_template_bonus,\n",
    ")\n",
    "chain_bonus = LLMChain(llm=llm, prompt=zero_shot_prompt_en_bonus)"
   ]
  },
  {
   "cell_type": "code",
   "execution_count": 30,
   "metadata": {},
   "outputs": [
    {
     "name": "stdout",
     "output_type": "stream",
     "text": [
      "Raw model output: {\n",
      "    \"bug_report\": 1,\n",
      "    \"improvement_request\": 0,\n",
      "    \"rating\": 1,\n",
      "    \"others\": 0\n",
      "}\n",
      "Structured prediction: {\"bug_report\":1,\"improvement_request\":0,\"rating\":1,\"others\":0}\n"
     ]
    },
    {
     "name": "stderr",
     "output_type": "stream",
     "text": [
      "/tmp/ipykernel_1919/1844307504.py:10: PydanticDeprecatedSince20: The `json` method is deprecated; use `model_dump_json` instead. Deprecated in Pydantic V2.0 to be removed in V3.0. See Pydantic V2 Migration Guide at https://errors.pydantic.dev/2.11/migration/\n",
      "  print(\"Structured prediction:\", structured_res.json())\n"
     ]
    }
   ],
   "source": [
    "review = \"The app crashes every time I try to upload a file. Please fix it!\"\n",
    "raw_output = chain.run(text=review)\n",
    "print(\"Raw model output:\", raw_output)\n",
    "structured_res = parser.parse(raw_output)\n",
    "print(\"Structured prediction:\", structured_res.json())"
   ]
  },
  {
   "cell_type": "markdown",
   "metadata": {},
   "source": [
    "### **Get Model's Predictions**\n"
   ]
  },
  {
   "cell_type": "code",
   "execution_count": 62,
   "metadata": {},
   "outputs": [
    {
     "name": "stderr",
     "output_type": "stream",
     "text": [
      "Classifying reviews: 100%|████████████████████████████████████████████████████████████| 100/100 [01:26<00:00,  1.16it/s]"
     ]
    },
    {
     "name": "stdout",
     "output_type": "stream",
     "text": [
      "Batch predictions shape: (100, 4)\n"
     ]
    },
    {
     "name": "stderr",
     "output_type": "stream",
     "text": [
      "\n"
     ]
    }
   ],
   "source": [
    "from tqdm import tqdm\n",
    "val_predictions = []\n",
    "for review_text in tqdm(X_val_sample, desc=\"Classifying reviews\"):\n",
    "    raw = chain.run(text=review_text)\n",
    "    res = parser.parse(raw)\n",
    "    val_predictions.append([\n",
    "        res.bug_report,\n",
    "        res.improvement_request,\n",
    "        res.rating,\n",
    "        res.others,\n",
    "    ])\n",
    "\n",
    "val_array = np.array(val_predictions)\n",
    "print(f\"Batch predictions shape: {val_array.shape}\")"
   ]
  },
  {
   "cell_type": "code",
   "execution_count": 63,
   "metadata": {},
   "outputs": [
    {
     "name": "stderr",
     "output_type": "stream",
     "text": [
      "Classifying reviews: 100%|████████████████████████████████████████████████████████████| 100/100 [01:21<00:00,  1.22it/s]"
     ]
    },
    {
     "name": "stdout",
     "output_type": "stream",
     "text": [
      "Batch predictions shape: (100, 4)\n"
     ]
    },
    {
     "name": "stderr",
     "output_type": "stream",
     "text": [
      "\n"
     ]
    }
   ],
   "source": [
    "from tqdm import tqdm\n",
    "val_predictions_bonus = []\n",
    "for review_text in tqdm(X_val_sample, desc=\"Classifying reviews\"):\n",
    "    raw = chain_bonus.run(text=review_text)\n",
    "    res = parser.parse(raw)\n",
    "    val_predictions_bonus.append([\n",
    "        res.bug_report,\n",
    "        res.improvement_request,\n",
    "        res.rating,\n",
    "        res.others,\n",
    "    ])\n",
    "\n",
    "val_array_bonus = np.array(val_predictions)\n",
    "print(f\"Batch predictions shape: {val_array_bonus.shape}\")"
   ]
  },
  {
   "cell_type": "markdown",
   "metadata": {},
   "source": [
    "### **Model Evaluation**\n"
   ]
  },
  {
   "cell_type": "code",
   "execution_count": 64,
   "metadata": {},
   "outputs": [
    {
     "name": "stdout",
     "output_type": "stream",
     "text": [
      "evaluated 100 reviews\n",
      "Test Classification Report:\n",
      "                     precision    recall  f1-score   support\n",
      "\n",
      "         bug_report       0.81      0.65      0.72        40\n",
      "improvement_request       0.94      0.35      0.51        46\n",
      "             rating       0.77      0.98      0.87        62\n",
      "             others       1.00      0.12      0.22        32\n",
      "\n",
      "          micro avg       0.81      0.59      0.69       180\n",
      "          macro avg       0.88      0.53      0.58       180\n",
      "       weighted avg       0.86      0.59      0.63       180\n",
      "        samples avg       0.83      0.68      0.71       180\n",
      "\n",
      "--------------------------------------------------\n",
      "Test Confusion Matrix:\n",
      "\n",
      "Confusion Matrix for bug_report:\n",
      "[[54  6]\n",
      " [14 26]]\n",
      "\n",
      "Confusion Matrix for improvement_request:\n",
      "[[53  1]\n",
      " [30 16]]\n",
      "\n",
      "Confusion Matrix for rating:\n",
      "[[20 18]\n",
      " [ 1 61]]\n",
      "\n",
      "Confusion Matrix for others:\n",
      "[[68  0]\n",
      " [28  4]]\n"
     ]
    }
   ],
   "source": [
    "from sklearn.metrics import classification_report, confusion_matrix\n",
    "\n",
    "print(f\"evaluated {len(val_array)} reviews\")\n",
    "\n",
    "print(\"Test Classification Report:\")\n",
    "print(\n",
    "    classification_report(\n",
    "        y_val_sample,\n",
    "        val_array,\n",
    "        target_names=[\"bug_report\", \"improvement_request\", \"rating\", \"others\"],\n",
    "        zero_division=0,\n",
    "    )\n",
    ")\n",
    "print(\"-\" * 50)\n",
    "\n",
    "print(\"Test Confusion Matrix:\")\n",
    "# calculate confusion matrix for each class\n",
    "for i, class_name in enumerate(\n",
    "    [\"bug_report\", \"improvement_request\", \"rating\", \"others\"]\n",
    "):\n",
    "    print(f\"\\nConfusion Matrix for {class_name}:\")\n",
    "    y_true = [y[i] for y in y_val_sample]\n",
    "    y_pred = [y[i] for y in val_array]\n",
    "    print(confusion_matrix(y_true, y_pred))"
   ]
  },
  {
   "cell_type": "code",
   "execution_count": 65,
   "metadata": {},
   "outputs": [
    {
     "name": "stdout",
     "output_type": "stream",
     "text": [
      "evaluated 100 reviews\n",
      "Test Classification Report:\n",
      "                     precision    recall  f1-score   support\n",
      "\n",
      "         bug_report       0.81      0.65      0.72        40\n",
      "improvement_request       0.94      0.35      0.51        46\n",
      "             rating       0.77      0.98      0.87        62\n",
      "             others       1.00      0.12      0.22        32\n",
      "\n",
      "          micro avg       0.81      0.59      0.69       180\n",
      "          macro avg       0.88      0.53      0.58       180\n",
      "       weighted avg       0.86      0.59      0.63       180\n",
      "        samples avg       0.83      0.68      0.71       180\n",
      "\n",
      "--------------------------------------------------\n",
      "Test Confusion Matrix:\n",
      "\n",
      "Confusion Matrix for bug_report:\n",
      "[[54  6]\n",
      " [14 26]]\n",
      "\n",
      "Confusion Matrix for improvement_request:\n",
      "[[53  1]\n",
      " [30 16]]\n",
      "\n",
      "Confusion Matrix for rating:\n",
      "[[20 18]\n",
      " [ 1 61]]\n",
      "\n",
      "Confusion Matrix for others:\n",
      "[[68  0]\n",
      " [28  4]]\n"
     ]
    }
   ],
   "source": [
    "from sklearn.metrics import classification_report, confusion_matrix\n",
    "\n",
    "print(f\"evaluated {len(val_array)} reviews\")\n",
    "\n",
    "print(\"Test Classification Report:\")\n",
    "print(\n",
    "    classification_report(\n",
    "        y_val_sample,\n",
    "        val_array_bonus,\n",
    "        target_names=[\"bug_report\", \"improvement_request\", \"rating\", \"others\"],\n",
    "        zero_division=0,\n",
    "    )\n",
    ")\n",
    "print(\"-\" * 50)\n",
    "\n",
    "print(\"Test Confusion Matrix:\")\n",
    "# calculate confusion matrix for each class\n",
    "for i, class_name in enumerate(\n",
    "    [\"bug_report\", \"improvement_request\", \"rating\", \"others\"]\n",
    "):\n",
    "    print(f\"\\nConfusion Matrix for {class_name}:\")\n",
    "    y_true = [y[i] for y in y_val_sample]\n",
    "    y_pred = [y[i] for y in val_array_bonus]\n",
    "    print(confusion_matrix(y_true, y_pred))"
   ]
  },
  {
   "cell_type": "markdown",
   "metadata": {},
   "source": [
    "# Few-shot Learning"
   ]
  },
  {
   "cell_type": "code",
   "execution_count": 46,
   "metadata": {},
   "outputs": [],
   "source": [
    "def get_prompt(num_examples):\n",
    "    input_vars = [\"text\"] + [f\"example{i}\" for i in range(1, num_examples + 1)]\n",
    "    examples_block = \"\".join(\n",
    "        f\"Example{i}:\\n{{example{i}}}\\n\\n\" for i in range(1, num_examples + 1)\n",
    "    )\n",
    "    template = (\n",
    "        \"You are an expert app review classifier. Your task is to analyze a user's app review \"\n",
    "        \"and output a JSON object indicating which categories the review belongs to.\\n\"\n",
    "        \"Use the following keys with values 0 or 1, where 1 means the review falls into that category \"\n",
    "        \"and 0 means it does not:\\n\"\n",
    "        \"{{\\n\"\n",
    "        '    \"bug_report\": 1,          # Reporting issues like bugs or errors\\n'\n",
    "        '    \"improvement_request\": 0,  # Requests for new features or improvements\\n'\n",
    "        '    \"rating\": 1,              # Positive or negative opinions on the app\\n'\n",
    "        '    \"others\": 0               # Spam, irrelevant, or uncategorizable reviews\\n'\n",
    "        \"}}\\n\\n\"\n",
    "        f\"{examples_block}\"\n",
    "        \"Please analyze the following review and return only the JSON object as shown above, \"\n",
    "        \"without any additional text or explanation.\\n\"\n",
    "        \"Review: {text}\\n\"\n",
    "        \"JSON: \\n \"\n",
    "    )\n",
    "    return PromptTemplate(input_variables=input_vars, template=template)\n"
   ]
  },
  {
   "cell_type": "code",
   "execution_count": 52,
   "metadata": {},
   "outputs": [
    {
     "name": "stdout",
     "output_type": "stream",
     "text": [
      "bug_report=1 improvement_request=0 rating=0 others=0\n"
     ]
    }
   ],
   "source": [
    "# Prepare one-shot example from first validation sample\n",
    "one_shot_chain = LLMChain(llm=llm, prompt=get_prompt(1))\n",
    "\n",
    "example_labels = y_val_sample[0]\n",
    "label_dict = {\n",
    "    \"bug_report\": int(example_labels[0]),\n",
    "    \"improvement_request\": int(example_labels[1]),\n",
    "    \"rating\": int(example_labels[2]),\n",
    "    \"others\": int(example_labels[3]),\n",
    "}\n",
    "example1 = f\"Review: {X_val_sample[0]}\\nJSON:{json.dumps(label_dict)}\"\n",
    "raw = one_shot_chain.run(text=review_text, example1=example1)\n",
    "parsed = parser.parse(raw)\n",
    "print(parsed)"
   ]
  },
  {
   "cell_type": "code",
   "execution_count": 111,
   "metadata": {},
   "outputs": [],
   "source": [
    "# Take random samples from x_train and y_train to use as few-shot examples\n",
    "shots = [1, 2, 3]\n",
    "results = [(i, None) for i in shots]\n",
    "\n",
    "indices = np.random.choice(len(X_train), size=max(shots), replace=False)\n",
    "example_reviews = X_train[indices]\n",
    "example_categories = y_train[indices]"
   ]
  },
  {
   "cell_type": "markdown",
   "metadata": {},
   "source": [
    "# Get predictions and evaluate"
   ]
  },
  {
   "cell_type": "code",
   "execution_count": 114,
   "metadata": {},
   "outputs": [
    {
     "name": "stderr",
     "output_type": "stream",
     "text": [
      "100%|██████████| 100/100 [00:53<00:00,  1.89it/s]\n",
      "100%|██████████| 100/100 [00:50<00:00,  1.97it/s]\n",
      "100%|██████████| 100/100 [00:53<00:00,  1.88it/s]\n"
     ]
    }
   ],
   "source": [
    "from tqdm import tqdm\n",
    "\n",
    "# Loop through different numbers of few-shot examples\n",
    "for num_ex in [1, 2, 3]:\n",
    "    # Get the few-shot prompt for current number of examples\n",
    "    few_shot_prompt = get_prompt(num_ex)\n",
    "\n",
    "    # Create prompt with examples\n",
    "    prompt_args = {\"text\": \"\"}\n",
    "    for i in range(num_ex):\n",
    "        prompt_args[f\"example{i+1}\"] = (\n",
    "            f\"Review: {example_reviews[i]}\\n JSON:{json.dumps({k:int(v) for k,v in zip(label2idx.keys(), example_categories[i])})}\"\n",
    "        )\n",
    "\n",
    "    val_predictions_few = []\n",
    "\n",
    "    # Get predictions for validation set\n",
    "    for i in tqdm(range(len(X_val_sample))):\n",
    "        review_text = X_val_sample[i]\n",
    "        prompt_args[\"text\"] = review_text\n",
    "\n",
    "        prediction = llm.invoke(few_shot_prompt.format(**prompt_args))\n",
    "        val_predictions_few.append(\n",
    "            [\n",
    "                prediction.bug_report,\n",
    "                prediction.improvement_request,\n",
    "                prediction.rating,\n",
    "                prediction.others,\n",
    "            ]\n",
    "        )\n",
    "\n",
    "        # # rotate the API key every 15 requests\n",
    "        # if (i + 1) % 15 == 0:\n",
    "        #     current_key = (current_key + 1) % len(KEYS)\n",
    "        #     llm = ChatGoogleGenerativeAI(google_api_key=KEYS[current_key], **args)\n",
    "\n",
    "    # Store results for this number of examples\n",
    "    results[num_ex - 1] = (num_ex, val_predictions_few)"
   ]
  },
  {
   "cell_type": "code",
   "execution_count": 55,
   "metadata": {},
   "outputs": [
    {
     "name": "stdout",
     "output_type": "stream",
     "text": [
      "\n",
      "Running 1-shot inference…\n"
     ]
    },
    {
     "name": "stderr",
     "output_type": "stream",
     "text": [
      "1-shot: 100%|█████████████████████████████████████████████████████████████████████████| 100/100 [01:20<00:00,  1.25it/s]\n"
     ]
    },
    {
     "name": "stdout",
     "output_type": "stream",
     "text": [
      "1-shot batch shape: (100, 4)\n",
      "\n",
      "Running 2-shot inference…\n"
     ]
    },
    {
     "name": "stderr",
     "output_type": "stream",
     "text": [
      "2-shot: 100%|█████████████████████████████████████████████████████████████████████████| 100/100 [01:18<00:00,  1.27it/s]\n"
     ]
    },
    {
     "name": "stdout",
     "output_type": "stream",
     "text": [
      "2-shot batch shape: (100, 4)\n",
      "\n",
      "Running 3-shot inference…\n"
     ]
    },
    {
     "name": "stderr",
     "output_type": "stream",
     "text": [
      "3-shot: 100%|█████████████████████████████████████████████████████████████████████████| 100/100 [01:20<00:00,  1.25it/s]"
     ]
    },
    {
     "name": "stdout",
     "output_type": "stream",
     "text": [
      "3-shot batch shape: (100, 4)\n"
     ]
    },
    {
     "name": "stderr",
     "output_type": "stream",
     "text": [
      "\n"
     ]
    }
   ],
   "source": [
    "shots = [1, 2, 3]\n",
    "results = {}\n",
    "\n",
    "indices = np.random.choice(len(X_train), size=max(shots), replace=False)\n",
    "example_reviews   = [X_train[i] for i in indices]\n",
    "example_categories = [y_train[i] for i in indices]\n",
    "\n",
    "for num_ex in shots:\n",
    "    print(f\"\\nRunning {num_ex}-shot inference…\")\n",
    "    # build a new chain with num_ex examples in the prompt\n",
    "    few_shot_chain = LLMChain(llm=llm, prompt=get_prompt(num_ex))\n",
    "    val_preds = []\n",
    "\n",
    "    for rev in tqdm(X_val_sample, desc=f\"{num_ex}-shot\"):\n",
    "        # assemble the prompt arguments\n",
    "        args = {\"text\": rev}\n",
    "        for i in range(num_ex):\n",
    "            lbls = example_categories[i]\n",
    "            label_dict = {\n",
    "                \"bug_report\":           int(lbls[0]),\n",
    "                \"improvement_request\":  int(lbls[1]),\n",
    "                \"rating\":               int(lbls[2]),\n",
    "                \"others\":               int(lbls[3]),\n",
    "            }\n",
    "            args[f\"example{i+1}\"] = (\n",
    "                f\"Review: {example_reviews[i]}\\n\"\n",
    "                f\"JSON:{json.dumps(label_dict)}\"\n",
    "            )\n",
    "\n",
    "        # run and parse\n",
    "        raw = few_shot_chain.run(**args)\n",
    "        parsed = parser.parse(raw)\n",
    "        val_preds.append([\n",
    "            parsed.bug_report,\n",
    "            parsed.improvement_request,\n",
    "            parsed.rating,\n",
    "            parsed.others,\n",
    "        ])\n",
    "\n",
    "    # store results as a NumPy array\n",
    "    results[num_ex] = np.array(val_preds)\n",
    "    print(f\"{num_ex}-shot batch shape: {results[num_ex].shape}\")"
   ]
  },
  {
   "cell_type": "code",
   "execution_count": 59,
   "metadata": {},
   "outputs": [
    {
     "name": "stdout",
     "output_type": "stream",
     "text": [
      "\n",
      "Classification report for 1-shot\n",
      "--------------------------------------------------\n",
      "                     precision    recall  f1-score   support\n",
      "\n",
      "         bug_report       0.96      0.65      0.78        40\n",
      "improvement_request       0.71      0.65      0.68        46\n",
      "             rating       0.89      0.87      0.88        62\n",
      "             others       1.00      0.16      0.27        32\n",
      "\n",
      "          micro avg       0.85      0.64      0.73       180\n",
      "          macro avg       0.89      0.58      0.65       180\n",
      "       weighted avg       0.88      0.64      0.70       180\n",
      "        samples avg       0.88      0.72      0.76       180\n",
      "\n",
      "\n",
      "Classification report for 2-shot\n",
      "--------------------------------------------------\n",
      "                     precision    recall  f1-score   support\n",
      "\n",
      "         bug_report       0.96      0.68      0.79        40\n",
      "improvement_request       0.85      0.61      0.71        46\n",
      "             rating       0.87      0.74      0.80        62\n",
      "             others       0.75      0.19      0.30        32\n",
      "\n",
      "          micro avg       0.88      0.59      0.71       180\n",
      "          macro avg       0.86      0.55      0.65       180\n",
      "       weighted avg       0.86      0.59      0.69       180\n",
      "        samples avg       0.89      0.69      0.74       180\n",
      "\n",
      "\n",
      "Classification report for 3-shot\n",
      "--------------------------------------------------\n",
      "                     precision    recall  f1-score   support\n",
      "\n",
      "         bug_report       0.93      0.70      0.80        40\n",
      "improvement_request       0.85      0.50      0.63        46\n",
      "             rating       0.76      0.84      0.80        62\n",
      "             others       0.70      0.22      0.33        32\n",
      "\n",
      "          micro avg       0.81      0.61      0.70       180\n",
      "          macro avg       0.81      0.56      0.64       180\n",
      "       weighted avg       0.81      0.61      0.67       180\n",
      "        samples avg       0.84      0.69      0.72       180\n",
      "\n"
     ]
    },
    {
     "data": {
      "image/png": "[encoded data removed]",
      "text/plain": [
       "<Figure size 800x600 with 1 Axes>"
      ]
     },
     "metadata": {},
     "output_type": "display_data"
    }
   ],
   "source": [
    "from sklearn.metrics import classification_report\n",
    "import matplotlib.pyplot as plt\n",
    "\n",
    "# Assuming `results` is a dict mapping shot counts to NumPy arrays of predictions,\n",
    "# and `y_val_subset` holds the corresponding ground-truth labels for the 100 samples.\n",
    "\n",
    "f1_scores = []\n",
    "num_shots = []\n",
    "\n",
    "for n, preds in results.items():\n",
    "    num_shots.append(n)\n",
    "    # Convert preds (shape [100, 4]) to list of lists for sklearn\n",
    "    pred_list = preds.tolist()\n",
    "    \n",
    "    # Compute classification report\n",
    "    report_dict = classification_report(\n",
    "        y_val_sample,\n",
    "        pred_list,\n",
    "        target_names=[\"bug_report\", \"improvement_request\", \"rating\", \"others\"],\n",
    "        zero_division=0,\n",
    "        output_dict=True\n",
    "    )\n",
    "    \n",
    "    # Print detailed report\n",
    "    print(f\"\\nClassification report for {n}-shot\")\n",
    "    print(\"-\" * 50)\n",
    "    print(classification_report(\n",
    "        y_val_sample,\n",
    "        pred_list,\n",
    "        target_names=[\"bug_report\", \"improvement_request\", \"rating\", \"others\"],\n",
    "        zero_division=0\n",
    "    ))\n",
    "    \n",
    "    # Collect weighted F1\n",
    "    f1_scores.append(report_dict[\"weighted avg\"][\"f1-score\"])\n",
    "\n",
    "# Plot performance curve\n",
    "plt.figure(figsize=(8, 6))\n",
    "plt.plot(num_shots, f1_scores, marker=\"o\")\n",
    "plt.xlabel(\"Number of Demonstration Examples (shots)\")\n",
    "plt.ylabel(\"Weighted F1 Score\")\n",
    "plt.title(\"Few-Shot Performance on 100 Validation Samples\")\n",
    "plt.grid(True)\n",
    "plt.show()\n"
   ]
  }
 ],
 "metadata": {
  "kernelspec": {
   "display_name": "venv",
   "language": "python",
   "name": "venv"
  },
  "language_info": {
   "codemirror_mode": {
    "name": "ipython",
    "version": 3
   },
   "file_extension": ".py",
   "mimetype": "text/x-python",
   "name": "python",
   "nbconvert_exporter": "python",
   "pygments_lexer": "ipython3",
   "version": "3.10.12"
  }
 },
 "nbformat": 4,
 "nbformat_minor": 2
}
