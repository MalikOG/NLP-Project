{
 "cells": [
  {
   "cell_type": "markdown",
   "id": "ee81e187",
   "metadata": {},
   "source": [
    "# Read Data"
   ]
  },
  {
   "cell_type": "code",
   "execution_count": 1,
   "id": "c7ee8c7a",
   "metadata": {},
   "outputs": [],
   "source": [
    "import numpy as np\n",
    "import pandas as pd"
   ]
  },
  {
   "cell_type": "code",
   "execution_count": 2,
   "id": "94b9a4c9",
   "metadata": {},
   "outputs": [
    {
     "data": {
      "text/plain": [
       "7130"
      ]
     },
     "execution_count": 2,
     "metadata": {},
     "output_type": "execute_result"
    }
   ],
   "source": [
    "train_balanced = pd.read_pickle('train_balanced.pkl')\n",
    "val_balanced = pd.read_pickle('val_balanced.pkl')\n",
    "test_balanced = pd.read_pickle('test_balanced.pkl')\n",
    "VOCAB_BALANCED_SIZE = set()\n",
    "for tokenized in train_balanced.tokenized:\n",
    "    for token in tokenized:\n",
    "        VOCAB_BALANCED_SIZE.add(token)\n",
    "max(VOCAB_BALANCED_SIZE)     "
   ]
  },
  {
   "cell_type": "code",
   "execution_count": 3,
   "id": "43d1882f-56e7-4d0b-a5ab-468e578ea62b",
   "metadata": {},
   "outputs": [
    {
     "data": {
      "text/plain": [
       "6767"
      ]
     },
     "execution_count": 3,
     "metadata": {},
     "output_type": "execute_result"
    }
   ],
   "source": [
    "train_unbalanced = pd.read_pickle('train_unbalanced.pkl')\n",
    "val_unbalanced = pd.read_pickle('val_unbalanced.pkl')\n",
    "test_unbalanced = pd.read_pickle('test_unbalanced.pkl')\n",
    "\n",
    "VOCAB_UNBALANCED_SIZE = set()\n",
    "for tokenized in train_unbalanced.tokenized:\n",
    "    for token in tokenized:\n",
    "        VOCAB_UNBALANCED_SIZE.add(token)\n",
    "\n",
    "max(VOCAB_UNBALANCED_SIZE)"
   ]
  },
  {
   "cell_type": "code",
   "execution_count": 4,
   "id": "1bf95f08-2550-4772-a006-0aa15359e107",
   "metadata": {},
   "outputs": [],
   "source": [
    "from datasets import Dataset"
   ]
  },
  {
   "cell_type": "code",
   "execution_count": 5,
   "id": "a12c23de-e2d5-4bb8-b7d2-849b8808a641",
   "metadata": {},
   "outputs": [],
   "source": [
    "train_dataset_unbalanced = Dataset.from_dict({\"input_ids\": [x['input_ids'] for x in train_unbalanced.marbert_tokens], \n",
    "                                   \"label\": train_unbalanced['MultiLabel'], \n",
    "                                   'attention_mask':[x['attention_mask'] for x in train_unbalanced.marbert_tokens]})\n",
    "val_dataset_unbalanced = Dataset.from_dict({\"input_ids\": [x['input_ids'] for x in val_unbalanced.marbert_tokens], \n",
    "                                 \"label\": val_unbalanced['MultiLabel'], \n",
    "                                 'attention_mask':[x['attention_mask'] for x in val_unbalanced.marbert_tokens]})\n",
    "test_dataset_unbalanced = Dataset.from_dict({\"input_ids\": [x['input_ids'] for x in test_unbalanced.marbert_tokens], \n",
    "                                  \"label\": test_unbalanced['MultiLabel'], \n",
    "                                  'attention_mask':[x['attention_mask'] for x in test_unbalanced.marbert_tokens]})"
   ]
  },
  {
   "cell_type": "code",
   "execution_count": 6,
   "id": "f84dc1a2-b377-4d18-8620-02f5487ca942",
   "metadata": {},
   "outputs": [],
   "source": [
    "train_dataset_balanced = Dataset.from_dict({\"input_ids\": [x['input_ids'] for x in train_balanced.marbert_tokens], \n",
    "                                   \"label\": train_balanced['MultiLabel'], \n",
    "                                   'attention_mask':[x['attention_mask'] for x in train_balanced.marbert_tokens]})\n",
    "val_dataset_balanced = Dataset.from_dict({\"input_ids\": [x['input_ids'] for x in val_balanced.marbert_tokens], \n",
    "                                 \"label\": val_balanced['MultiLabel'], \n",
    "                                 'attention_mask':[x['attention_mask'] for x in val_balanced.marbert_tokens]})\n",
    "test_dataset_balanced = Dataset.from_dict({\"input_ids\": [x['input_ids'] for x in test_balanced.marbert_tokens], \n",
    "                                  \"label\": test_balanced['MultiLabel'], \n",
    "                                  'attention_mask':[x['attention_mask'] for x in test_balanced.marbert_tokens]})"
   ]
  },
  {
   "cell_type": "code",
   "execution_count": 7,
   "id": "2da385d9-5365-4684-8e67-7cea9aa08585",
   "metadata": {},
   "outputs": [
    {
     "name": "stderr",
     "output_type": "stream",
     "text": [
      "2025-05-10 23:51:15.535034: E external/local_xla/xla/stream_executor/cuda/cuda_fft.cc:467] Unable to register cuFFT factory: Attempting to register factory for plugin cuFFT when one has already been registered\n",
      "WARNING: All log messages before absl::InitializeLog() is called are written to STDERR\n",
      "E0000 00:00:1746910275.548486   20102 cuda_dnn.cc:8579] Unable to register cuDNN factory: Attempting to register factory for plugin cuDNN when one has already been registered\n",
      "E0000 00:00:1746910275.552047   20102 cuda_blas.cc:1407] Unable to register cuBLAS factory: Attempting to register factory for plugin cuBLAS when one has already been registered\n",
      "W0000 00:00:1746910275.561128   20102 computation_placer.cc:177] computation placer already registered. Please check linkage and avoid linking the same target more than once.\n",
      "W0000 00:00:1746910275.561145   20102 computation_placer.cc:177] computation placer already registered. Please check linkage and avoid linking the same target more than once.\n",
      "W0000 00:00:1746910275.561147   20102 computation_placer.cc:177] computation placer already registered. Please check linkage and avoid linking the same target more than once.\n",
      "W0000 00:00:1746910275.561148   20102 computation_placer.cc:177] computation placer already registered. Please check linkage and avoid linking the same target more than once.\n",
      "2025-05-10 23:51:15.564430: I tensorflow/core/platform/cpu_feature_guard.cc:210] This TensorFlow binary is optimized to use available CPU instructions in performance-critical operations.\n",
      "To enable the following instructions: AVX2 FMA, in other operations, rebuild TensorFlow with the appropriate compiler flags.\n",
      "/home/malik/.local/lib/python3.10/site-packages/matplotlib/projections/__init__.py:63: UserWarning: Unable to import Axes3D. This may be due to multiple versions of Matplotlib being installed (e.g. as a system package and as a pip package). As a result, the 3D projection is not available.\n",
      "  warnings.warn(\"Unable to import Axes3D. This may be due to multiple versions of \"\n"
     ]
    }
   ],
   "source": [
    "import evaluate\n",
    "import numpy as np\n",
    "from transformers import Trainer\n",
    "\n",
    "clf_metrics = evaluate.combine([\"accuracy\", \"f1\", \"precision\", \"recall\"])\n",
    "\n",
    "\n",
    "def sigmoid(x):\n",
    "    return 1 / (1 + np.exp(-x))\n",
    "\n",
    "\n",
    "def compute_metrics(eval_pred):\n",
    "\n",
    "    predictions, labels = eval_pred\n",
    "    predictions = sigmoid(predictions)\n",
    "    predictions = (predictions > 0.5).astype(int).reshape(-1)\n",
    "    return clf_metrics.compute(\n",
    "        predictions=predictions, references=labels.astype(int).reshape(-1)\n",
    "    )\n",
    "\n",
    "\n",
    "import torch\n",
    "from transformers import Trainer\n",
    "\n",
    "eps = 1e-8\n",
    "y_unbalanced=np.stack(train_unbalanced['MultiLabel'].to_numpy())\n",
    "y_balanced=np.stack(train_balanced['MultiLabel'].to_numpy())\n",
    "pos_weight_unbalanced = (y_unbalanced.shape[0] - y_unbalanced.sum(axis=0)) / (y_balanced.sum(axis=0) + 0.0000001)\n",
    "pos_weight_unbalanced = torch.tensor(pos_weight_unbalanced, dtype=torch.float32).to(\"cuda\")  # or your device\n",
    "\n",
    "pos_weight_balanced = (y_balanced.shape[0] - y_balanced.sum(axis=0)) / (y_balanced.sum(axis=0) + 0.0000001)\n",
    "pos_weight_balanced = torch.tensor(pos_weight_balanced, dtype=torch.float32).to(\"cuda\")  # or your device\n",
    "\n",
    "\n",
    "class WeightedTrainer(Trainer):\n",
    "    def compute_loss(self, model, inputs, return_outputs=False, **kwargs):\n",
    "        labels = inputs.pop(\"labels\")\n",
    "        outputs = model(**inputs)\n",
    "        logits = outputs.logits\n",
    "        loss_fct = torch.nn.BCEWithLogitsLoss(pos_weight=pos_weight)\n",
    "        \n",
    "        loss = loss_fct(logits, labels)\n",
    "\n",
    "        return (loss, outputs) if return_outputs else loss"
   ]
  },
  {
   "cell_type": "code",
   "execution_count": 8,
   "id": "91bc3fd5-bf17-4064-baf8-f7f0486b0385",
   "metadata": {},
   "outputs": [
    {
     "name": "stderr",
     "output_type": "stream",
     "text": [
      "Some weights of BertForSequenceClassification were not initialized from the model checkpoint at UBC-NLP/MARBERTv2 and are newly initialized: ['classifier.bias', 'classifier.weight']\n",
      "You should probably TRAIN this model on a down-stream task to be able to use it for predictions and inference.\n"
     ]
    }
   ],
   "source": [
    "from transformers import (\n",
    "    AutoModelForSequenceClassification,\n",
    "    TrainingArguments,\n",
    ")\n",
    "# define model\n",
    "MODEL_PATH = \"UBC-NLP/MARBERTv2\"\n",
    "# set up the model, training args\n",
    "model_balanced = AutoModelForSequenceClassification.from_pretrained(\n",
    "    MODEL_PATH,\n",
    "    num_labels=4,\n",
    "    problem_type=\"multi_label_classification\",  # use this for CrossEntropyLoss\n",
    "    hidden_dropout_prob=0.2,\n",
    "    attention_probs_dropout_prob=0.2,\n",
    ")\n",
    "\n",
    "for param in model_balanced.parameters(): param.data = param.data.contiguous()"
   ]
  },
  {
   "cell_type": "code",
   "execution_count": 9,
   "id": "3b882d1d-ace3-4573-9962-42f46fd9659b",
   "metadata": {},
   "outputs": [
    {
     "name": "stderr",
     "output_type": "stream",
     "text": [
      "/home/malik/.local/lib/python3.10/site-packages/transformers/training_args.py:1525: FutureWarning: `evaluation_strategy` is deprecated and will be removed in version 4.46 of 🤗 Transformers. Use `eval_strategy` instead\n",
      "  warnings.warn(\n"
     ]
    },
    {
     "data": {
      "text/html": [
       "\n",
       "    <div>\n",
       "      \n",
       "      <progress value='800' max='800' style='width:300px; height:20px; vertical-align: middle;'></progress>\n",
       "      [800/800 08:26, Epoch 10/10]\n",
       "    </div>\n",
       "    <table border=\"1\" class=\"dataframe\">\n",
       "  <thead>\n",
       " <tr style=\"text-align: left;\">\n",
       "      <th>Epoch</th>\n",
       "      <th>Training Loss</th>\n",
       "      <th>Validation Loss</th>\n",
       "      <th>Accuracy</th>\n",
       "      <th>F1</th>\n",
       "      <th>Precision</th>\n",
       "      <th>Recall</th>\n",
       "    </tr>\n",
       "  </thead>\n",
       "  <tbody>\n",
       "    <tr>\n",
       "      <td>1</td>\n",
       "      <td>0.721100</td>\n",
       "      <td>0.668319</td>\n",
       "      <td>0.720326</td>\n",
       "      <td>0.704777</td>\n",
       "      <td>0.646552</td>\n",
       "      <td>0.774527</td>\n",
       "    </tr>\n",
       "    <tr>\n",
       "      <td>2</td>\n",
       "      <td>0.659200</td>\n",
       "      <td>0.580076</td>\n",
       "      <td>0.760386</td>\n",
       "      <td>0.731057</td>\n",
       "      <td>0.708065</td>\n",
       "      <td>0.755594</td>\n",
       "    </tr>\n",
       "    <tr>\n",
       "      <td>3</td>\n",
       "      <td>0.606000</td>\n",
       "      <td>0.518584</td>\n",
       "      <td>0.810831</td>\n",
       "      <td>0.778838</td>\n",
       "      <td>0.784965</td>\n",
       "      <td>0.772806</td>\n",
       "    </tr>\n",
       "    <tr>\n",
       "      <td>4</td>\n",
       "      <td>0.559500</td>\n",
       "      <td>0.499998</td>\n",
       "      <td>0.824926</td>\n",
       "      <td>0.796552</td>\n",
       "      <td>0.797927</td>\n",
       "      <td>0.795181</td>\n",
       "    </tr>\n",
       "    <tr>\n",
       "      <td>5</td>\n",
       "      <td>0.543500</td>\n",
       "      <td>0.474032</td>\n",
       "      <td>0.829377</td>\n",
       "      <td>0.800347</td>\n",
       "      <td>0.807356</td>\n",
       "      <td>0.793460</td>\n",
       "    </tr>\n",
       "    <tr>\n",
       "      <td>6</td>\n",
       "      <td>0.485300</td>\n",
       "      <td>0.467445</td>\n",
       "      <td>0.840504</td>\n",
       "      <td>0.813206</td>\n",
       "      <td>0.821053</td>\n",
       "      <td>0.805508</td>\n",
       "    </tr>\n",
       "    <tr>\n",
       "      <td>7</td>\n",
       "      <td>0.484200</td>\n",
       "      <td>0.481735</td>\n",
       "      <td>0.836053</td>\n",
       "      <td>0.809318</td>\n",
       "      <td>0.811419</td>\n",
       "      <td>0.807229</td>\n",
       "    </tr>\n",
       "    <tr>\n",
       "      <td>8</td>\n",
       "      <td>0.477000</td>\n",
       "      <td>0.490370</td>\n",
       "      <td>0.826409</td>\n",
       "      <td>0.799314</td>\n",
       "      <td>0.796581</td>\n",
       "      <td>0.802065</td>\n",
       "    </tr>\n",
       "    <tr>\n",
       "      <td>9</td>\n",
       "      <td>0.472900</td>\n",
       "      <td>0.482815</td>\n",
       "      <td>0.833828</td>\n",
       "      <td>0.807890</td>\n",
       "      <td>0.805128</td>\n",
       "      <td>0.810671</td>\n",
       "    </tr>\n",
       "    <tr>\n",
       "      <td>10</td>\n",
       "      <td>0.476700</td>\n",
       "      <td>0.486157</td>\n",
       "      <td>0.830119</td>\n",
       "      <td>0.803433</td>\n",
       "      <td>0.801370</td>\n",
       "      <td>0.805508</td>\n",
       "    </tr>\n",
       "  </tbody>\n",
       "</table><p>"
      ],
      "text/plain": [
       "<IPython.core.display.HTML object>"
      ]
     },
     "metadata": {},
     "output_type": "display_data"
    },
    {
     "data": {
      "text/plain": [
       "TrainOutput(global_step=800, training_loss=0.5539595425128937, metrics={'train_runtime': 506.8302, 'train_samples_per_second': 50.234, 'train_steps_per_second': 1.578, 'total_flos': 2616768656736000.0, 'train_loss': 0.5539595425128937, 'epoch': 10.0})"
      ]
     },
     "execution_count": 9,
     "metadata": {},
     "output_type": "execute_result"
    }
   ],
   "source": [
    "pos_weight = pos_weight_balanced   \n",
    "training_args = TrainingArguments(\n",
    "    output_dir=\"./results\",\n",
    "    save_strategy='epoch',\n",
    "    load_best_model_at_end=True,\n",
    "    metric_for_best_model='eval_f1',\n",
    "    greater_is_better=True,\n",
    "    evaluation_strategy='epoch',\n",
    "    per_device_train_batch_size=32,\n",
    "    per_device_eval_batch_size=32,\n",
    "    learning_rate=2e-5,\n",
    "    num_train_epochs=10,\n",
    "    logging_strategy='steps',\n",
    "    logging_steps=10,\n",
    ")\n",
    "\n",
    "\n",
    "trainer = WeightedTrainer(\n",
    "    model=model_balanced,\n",
    "    args=training_args,\n",
    "    train_dataset=train_dataset_balanced,\n",
    "    eval_dataset=val_dataset_balanced,\n",
    "    compute_metrics=compute_metrics,\n",
    ")\n",
    "trainer.train()"
   ]
  },
  {
   "cell_type": "code",
   "execution_count": 10,
   "id": "3773e12a-dee2-427f-9f26-83eca35d3904",
   "metadata": {},
   "outputs": [
    {
     "name": "stderr",
     "output_type": "stream",
     "text": [
      "Some weights of BertForSequenceClassification were not initialized from the model checkpoint at UBC-NLP/MARBERTv2 and are newly initialized: ['classifier.bias', 'classifier.weight']\n",
      "You should probably TRAIN this model on a down-stream task to be able to use it for predictions and inference.\n"
     ]
    }
   ],
   "source": [
    "model_unbalanced = AutoModelForSequenceClassification.from_pretrained(\n",
    "    MODEL_PATH,\n",
    "    num_labels=4,\n",
    "    problem_type=\"multi_label_classification\",\n",
    "    hidden_dropout_prob=0.2,\n",
    "    attention_probs_dropout_prob=0.2,\n",
    ")\n",
    "for param in model_unbalanced.parameters(): param.data = param.data.contiguous()\n"
   ]
  },
  {
   "cell_type": "code",
   "execution_count": 16,
   "id": "573435fa-3417-4343-af76-37e96b21f9cb",
   "metadata": {},
   "outputs": [
    {
     "data": {
      "text/html": [
       "\n",
       "    <div>\n",
       "      \n",
       "      <progress value='300' max='300' style='width:300px; height:20px; vertical-align: middle;'></progress>\n",
       "      [300/300 03:44, Epoch 5/5]\n",
       "    </div>\n",
       "    <table border=\"1\" class=\"dataframe\">\n",
       "  <thead>\n",
       " <tr style=\"text-align: left;\">\n",
       "      <th>Epoch</th>\n",
       "      <th>Training Loss</th>\n",
       "      <th>Validation Loss</th>\n",
       "      <th>Accuracy</th>\n",
       "      <th>F1</th>\n",
       "      <th>Precision</th>\n",
       "      <th>Recall</th>\n",
       "    </tr>\n",
       "  </thead>\n",
       "  <tbody>\n",
       "    <tr>\n",
       "      <td>1</td>\n",
       "      <td>0.392100</td>\n",
       "      <td>0.407131</td>\n",
       "      <td>0.814540</td>\n",
       "      <td>0.766355</td>\n",
       "      <td>0.838446</td>\n",
       "      <td>0.705680</td>\n",
       "    </tr>\n",
       "    <tr>\n",
       "      <td>2</td>\n",
       "      <td>0.369000</td>\n",
       "      <td>0.401249</td>\n",
       "      <td>0.830119</td>\n",
       "      <td>0.788940</td>\n",
       "      <td>0.849206</td>\n",
       "      <td>0.736661</td>\n",
       "    </tr>\n",
       "    <tr>\n",
       "      <td>3</td>\n",
       "      <td>0.321600</td>\n",
       "      <td>0.399189</td>\n",
       "      <td>0.846439</td>\n",
       "      <td>0.810959</td>\n",
       "      <td>0.863813</td>\n",
       "      <td>0.764200</td>\n",
       "    </tr>\n",
       "    <tr>\n",
       "      <td>4</td>\n",
       "      <td>0.291900</td>\n",
       "      <td>0.405966</td>\n",
       "      <td>0.847923</td>\n",
       "      <td>0.813127</td>\n",
       "      <td>0.864341</td>\n",
       "      <td>0.767642</td>\n",
       "    </tr>\n",
       "    <tr>\n",
       "      <td>5</td>\n",
       "      <td>0.258300</td>\n",
       "      <td>0.401153</td>\n",
       "      <td>0.849407</td>\n",
       "      <td>0.814612</td>\n",
       "      <td>0.867704</td>\n",
       "      <td>0.767642</td>\n",
       "    </tr>\n",
       "  </tbody>\n",
       "</table><p>"
      ],
      "text/plain": [
       "<IPython.core.display.HTML object>"
      ]
     },
     "metadata": {},
     "output_type": "display_data"
    },
    {
     "data": {
      "text/plain": [
       "TrainOutput(global_step=300, training_loss=0.33379445791244505, metrics={'train_runtime': 224.8123, 'train_samples_per_second': 42.391, 'train_steps_per_second': 1.334, 'total_flos': 979489603248000.0, 'train_loss': 0.33379445791244505, 'epoch': 5.0})"
      ]
     },
     "execution_count": 16,
     "metadata": {},
     "output_type": "execute_result"
    }
   ],
   "source": [
    "pos_weight = pos_weight_unbalanced   \n",
    "training_args = TrainingArguments(\n",
    "    output_dir=\"./results\",\n",
    "    save_strategy='epoch',\n",
    "    load_best_model_at_end=True,\n",
    "    metric_for_best_model='eval_f1',\n",
    "    greater_is_better=True,\n",
    "    evaluation_strategy='epoch',\n",
    "    per_device_train_batch_size=32,\n",
    "    per_device_eval_batch_size=32,\n",
    "    learning_rate=2e-5,\n",
    "    num_train_epochs=10,\n",
    "    logging_strategy='steps',\n",
    "    logging_steps=10,\n",
    ")\n",
    "\n",
    "trainer_unbalanced = WeightedTrainer(\n",
    "    model=model_unbalanced,\n",
    "    args=training_args,\n",
    "    train_dataset=train_dataset_unbalanced,\n",
    "    eval_dataset=val_dataset_unbalanced,\n",
    "    compute_metrics=compute_metrics,\n",
    ")\n",
    "\n",
    "trainer_unbalanced.train()"
   ]
  },
  {
   "cell_type": "code",
   "execution_count": 12,
   "id": "9d9f930f-f348-4ed9-b993-7a3a1479223f",
   "metadata": {},
   "outputs": [],
   "source": [
    "from sklearn.metrics import classification_report, multilabel_confusion_matrix\n",
    "from tqdm import tqdm\n",
    "import torch\n",
    "import numpy as np"
   ]
  },
  {
   "cell_type": "code",
   "execution_count": 13,
   "id": "25ec61b6-f572-46fb-b7a3-d801badf4a50",
   "metadata": {},
   "outputs": [],
   "source": [
    "\n",
    "\n",
    "def test(trainer, test_dataset, threshold=0.5):\n",
    "    preds = []\n",
    "    true = []\n",
    "\n",
    "    model = trainer.model\n",
    "    model.eval()\n",
    "\n",
    "    with torch.no_grad():\n",
    "        for sample in tqdm(test_dataset):\n",
    "            input_ids = torch.tensor(sample['input_ids'], dtype=torch.long).unsqueeze(0).to('cuda')\n",
    "            attention_mask = torch.tensor(sample['attention_mask'], dtype=torch.long).unsqueeze(0).to('cuda')\n",
    "\n",
    "            outputs = model(input_ids=input_ids, attention_mask=attention_mask)\n",
    "            probs = torch.sigmoid(outputs.logits).cpu().numpy() \n",
    "            pred_labels = (probs > threshold).astype(int)\n",
    "\n",
    "            preds.append(pred_labels[0])\n",
    "            true.append(np.array(sample['label']))\n",
    "\n",
    "    y_true = np.array(true)\n",
    "    y_pred = np.array(preds)\n",
    "\n",
    "    print(classification_report(y_true=y_true, y_pred=y_pred, zero_division=0))\n",
    "    print(multilabel_confusion_matrix(y_true=y_true, y_pred=y_pred))\n"
   ]
  },
  {
   "cell_type": "code",
   "execution_count": 17,
   "id": "2c72667d-023f-4c97-b75c-bdd02dbe43a3",
   "metadata": {},
   "outputs": [
    {
     "name": "stderr",
     "output_type": "stream",
     "text": [
      "100%|█████████████████████████████████████████████████████████████████████████████████| 561/561 [00:06<00:00, 93.30it/s]"
     ]
    },
    {
     "name": "stdout",
     "output_type": "stream",
     "text": [
      "              precision    recall  f1-score   support\n",
      "\n",
      "           0       0.84      0.79      0.82       229\n",
      "           1       0.69      0.70      0.70       215\n",
      "           2       0.87      0.89      0.88       387\n",
      "           3       0.80      0.46      0.59       151\n",
      "\n",
      "   micro avg       0.81      0.76      0.79       982\n",
      "   macro avg       0.80      0.71      0.75       982\n",
      "weighted avg       0.81      0.76      0.78       982\n",
      " samples avg       0.86      0.82      0.81       982\n",
      "\n",
      "[[[297  35]\n",
      "  [ 47 182]]\n",
      "\n",
      " [[278  68]\n",
      "  [ 64 151]]\n",
      "\n",
      " [[122  52]\n",
      "  [ 41 346]]\n",
      "\n",
      " [[393  17]\n",
      "  [ 81  70]]]\n"
     ]
    },
    {
     "name": "stderr",
     "output_type": "stream",
     "text": [
      "\n"
     ]
    }
   ],
   "source": [
    "test(trainer, test_dataset_balanced)"
   ]
  },
  {
   "cell_type": "code",
   "execution_count": 18,
   "id": "c00b85e1-b9cd-4166-b1d8-46b0e2627b30",
   "metadata": {},
   "outputs": [
    {
     "name": "stderr",
     "output_type": "stream",
     "text": [
      "100%|█████████████████████████████████████████████████████████████████████████████████| 561/561 [00:05<00:00, 99.41it/s]"
     ]
    },
    {
     "name": "stdout",
     "output_type": "stream",
     "text": [
      "              precision    recall  f1-score   support\n",
      "\n",
      "           0       0.84      0.81      0.83       229\n",
      "           1       0.76      0.65      0.70       215\n",
      "           2       0.94      0.80      0.87       387\n",
      "           3       0.77      0.51      0.61       151\n",
      "\n",
      "   micro avg       0.85      0.73      0.78       982\n",
      "   macro avg       0.83      0.69      0.75       982\n",
      "weighted avg       0.85      0.73      0.78       982\n",
      " samples avg       0.89      0.79      0.80       982\n",
      "\n",
      "[[[298  34]\n",
      "  [ 44 185]]\n",
      "\n",
      " [[301  45]\n",
      "  [ 76 139]]\n",
      "\n",
      " [[153  21]\n",
      "  [ 76 311]]\n",
      "\n",
      " [[387  23]\n",
      "  [ 74  77]]]\n"
     ]
    },
    {
     "name": "stderr",
     "output_type": "stream",
     "text": [
      "\n"
     ]
    }
   ],
   "source": [
    "test(trainer_unbalanced, test_dataset_unbalanced)"
   ]
  },
  {
   "cell_type": "code",
   "execution_count": null,
   "id": "e4df05a3-c111-4489-bb39-2d4b1822da95",
   "metadata": {},
   "outputs": [],
   "source": []
  }
 ],
 "metadata": {
  "kernelspec": {
   "display_name": "venv",
   "language": "python",
   "name": "venv"
  },
  "language_info": {
   "codemirror_mode": {
    "name": "ipython",
    "version": 3
   },
   "file_extension": ".py",
   "mimetype": "text/x-python",
   "name": "python",
   "nbconvert_exporter": "python",
   "pygments_lexer": "ipython3",
   "version": "3.10.12"
  }
 },
 "nbformat": 4,
 "nbformat_minor": 5
}
