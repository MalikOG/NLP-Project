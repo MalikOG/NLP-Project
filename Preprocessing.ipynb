{
 "cells": [
  {
   "cell_type": "markdown",
   "id": "9b4c3586",
   "metadata": {
    "vscode": {
     "languageId": "plaintext"
    }
   },
   "source": [
    "# EDA\n"
   ]
  },
  {
   "cell_type": "code",
   "execution_count": 67,
   "id": "f7a812ef",
   "metadata": {},
   "outputs": [],
   "source": [
    "import numpy as np\n",
    "import pandas as pd\n",
    "import seaborn as sns\n",
    "import matplotlib.pyplot as plt"
   ]
  },
  {
   "cell_type": "code",
   "execution_count": 101,
   "id": "4510c9ae",
   "metadata": {},
   "outputs": [],
   "source": [
    "# Importing Classification dataset\n",
    "df = pd.read_csv(\"./Data/App Reviews-SingleLabel-Multiclass.csv\")\n",
    "df_multilabel = pd.read_csv(\"Data/App Reviews-Multilabel.csv\")\n",
    "df_multilabel.drop(columns=['review'], inplace=True)"
   ]
  },
  {
   "cell_type": "code",
   "execution_count": 102,
   "id": "b13bfc80-b0bd-4ab7-9918-9738d2dda169",
   "metadata": {},
   "outputs": [
    {
     "data": {
      "text/html": [
       "<div>\n",
       "<style scoped>\n",
       "    .dataframe tbody tr th:only-of-type {\n",
       "        vertical-align: middle;\n",
       "    }\n",
       "\n",
       "    .dataframe tbody tr th {\n",
       "        vertical-align: top;\n",
       "    }\n",
       "\n",
       "    .dataframe thead th {\n",
       "        text-align: right;\n",
       "    }\n",
       "</style>\n",
       "<table border=\"1\" class=\"dataframe\">\n",
       "  <thead>\n",
       "    <tr style=\"text-align: right;\">\n",
       "      <th></th>\n",
       "      <th>bug_report</th>\n",
       "      <th>improvement_request</th>\n",
       "      <th>rating</th>\n",
       "      <th>others</th>\n",
       "    </tr>\n",
       "  </thead>\n",
       "  <tbody>\n",
       "    <tr>\n",
       "      <th>0</th>\n",
       "      <td>1</td>\n",
       "      <td>1</td>\n",
       "      <td>1</td>\n",
       "      <td>0</td>\n",
       "    </tr>\n",
       "    <tr>\n",
       "      <th>1</th>\n",
       "      <td>0</td>\n",
       "      <td>1</td>\n",
       "      <td>1</td>\n",
       "      <td>1</td>\n",
       "    </tr>\n",
       "    <tr>\n",
       "      <th>2</th>\n",
       "      <td>0</td>\n",
       "      <td>1</td>\n",
       "      <td>1</td>\n",
       "      <td>0</td>\n",
       "    </tr>\n",
       "    <tr>\n",
       "      <th>3</th>\n",
       "      <td>0</td>\n",
       "      <td>0</td>\n",
       "      <td>1</td>\n",
       "      <td>0</td>\n",
       "    </tr>\n",
       "    <tr>\n",
       "      <th>4</th>\n",
       "      <td>0</td>\n",
       "      <td>0</td>\n",
       "      <td>1</td>\n",
       "      <td>1</td>\n",
       "    </tr>\n",
       "  </tbody>\n",
       "</table>\n",
       "</div>"
      ],
      "text/plain": [
       "   bug_report  improvement_request  rating  others\n",
       "0           1                    1       1       0\n",
       "1           0                    1       1       1\n",
       "2           0                    1       1       0\n",
       "3           0                    0       1       0\n",
       "4           0                    0       1       1"
      ]
     },
     "execution_count": 102,
     "metadata": {},
     "output_type": "execute_result"
    }
   ],
   "source": [
    "df_multilabel.head()"
   ]
  },
  {
   "cell_type": "code",
   "execution_count": 103,
   "id": "c303077b",
   "metadata": {},
   "outputs": [
    {
     "data": {
      "text/html": [
       "<div>\n",
       "<style scoped>\n",
       "    .dataframe tbody tr th:only-of-type {\n",
       "        vertical-align: middle;\n",
       "    }\n",
       "\n",
       "    .dataframe tbody tr th {\n",
       "        vertical-align: top;\n",
       "    }\n",
       "\n",
       "    .dataframe thead th {\n",
       "        text-align: right;\n",
       "    }\n",
       "</style>\n",
       "<table border=\"1\" class=\"dataframe\">\n",
       "  <thead>\n",
       "    <tr style=\"text-align: right;\">\n",
       "      <th></th>\n",
       "      <th>review</th>\n",
       "      <th>Label</th>\n",
       "    </tr>\n",
       "  </thead>\n",
       "  <tbody>\n",
       "    <tr>\n",
       "      <th>0</th>\n",
       "      <td>يبيله تصليحات كثير</td>\n",
       "      <td>bug_report</td>\n",
       "    </tr>\n",
       "    <tr>\n",
       "      <th>1</th>\n",
       "      <td>ماتحملت ابدددددا ونا دفعت فلوس 🤔😕</td>\n",
       "      <td>rating</td>\n",
       "    </tr>\n",
       "    <tr>\n",
       "      <th>2</th>\n",
       "      <td>اتمنى منكم عمل خيار لتفضيل المسلسل بالكامل عوض...</td>\n",
       "      <td>improvement_request</td>\n",
       "    </tr>\n",
       "    <tr>\n",
       "      <th>3</th>\n",
       "      <td>ممتاز وبسيط وتشغيله لا يؤثر على سرعة الانترنت</td>\n",
       "      <td>rating</td>\n",
       "    </tr>\n",
       "    <tr>\n",
       "      <th>4</th>\n",
       "      <td>تبين م لي ي تم ل يب</td>\n",
       "      <td>others</td>\n",
       "    </tr>\n",
       "  </tbody>\n",
       "</table>\n",
       "</div>"
      ],
      "text/plain": [
       "                                              review                Label\n",
       "0                                 يبيله تصليحات كثير           bug_report\n",
       "1                  ماتحملت ابدددددا ونا دفعت فلوس 🤔😕               rating\n",
       "2  اتمنى منكم عمل خيار لتفضيل المسلسل بالكامل عوض...  improvement_request\n",
       "3      ممتاز وبسيط وتشغيله لا يؤثر على سرعة الانترنت               rating\n",
       "4                                تبين م لي ي تم ل يب               others"
      ]
     },
     "execution_count": 103,
     "metadata": {},
     "output_type": "execute_result"
    }
   ],
   "source": [
    "df.head()"
   ]
  },
  {
   "cell_type": "code",
   "execution_count": 104,
   "id": "b9dcd172",
   "metadata": {},
   "outputs": [
    {
     "name": "stdout",
     "output_type": "stream",
     "text": [
      "<class 'pandas.core.frame.DataFrame'>\n",
      "RangeIndex: 2900 entries, 0 to 2899\n",
      "Data columns (total 2 columns):\n",
      " #   Column  Non-Null Count  Dtype \n",
      "---  ------  --------------  ----- \n",
      " 0   review  2900 non-null   object\n",
      " 1   Label   2900 non-null   object\n",
      "dtypes: object(2)\n",
      "memory usage: 45.4+ KB\n"
     ]
    }
   ],
   "source": [
    "df.info()"
   ]
  },
  {
   "cell_type": "code",
   "execution_count": 105,
   "id": "774cf4b2",
   "metadata": {},
   "outputs": [
    {
     "data": {
      "image/png": "[encoded data removed]",
      "text/plain": [
       "<Figure size 800x800 with 1 Axes>"
      ]
     },
     "metadata": {},
     "output_type": "display_data"
    }
   ],
   "source": [
    "def label_function(val):\n",
    "    return f'{val / 100 * len(df):.0f}\\n{val:.0f}%'\n",
    "\n",
    "def check_target_dist(df: pd.DataFrame):\n",
    "\tcolors = sns.color_palette('bright')\n",
    "\tdf.groupby(\"Label\").size().plot(kind=\"pie\", autopct=label_function, colors=colors,\n",
    "\t\t\t\t\t\t\t\t wedgeprops = {'linewidth': 10}, legend=True, figsize=(8, 8))\n",
    "\t\n",
    "\tplt.show()\n",
    "check_target_dist(df)"
   ]
  },
  {
   "cell_type": "code",
   "execution_count": 106,
   "id": "646b31e0",
   "metadata": {},
   "outputs": [],
   "source": [
    "def sentence_length_data(data: pd.Series):\n",
    "\treturn df.review.apply(str.split).apply(len)\n",
    "\n",
    "def sentence_length_distribution(data: pd.Series):\n",
    "\tsns.violinplot(data)\n",
    "\tsns.boxplot(data)\n",
    "\tplt.show()"
   ]
  },
  {
   "cell_type": "code",
   "execution_count": 107,
   "id": "7cd8de9b",
   "metadata": {},
   "outputs": [
    {
     "name": "stdout",
     "output_type": "stream",
     "text": [
      "Longest Sentence: 576\n",
      "من فضلك أعد المحاولة\n",
      "من فضلك أعد المحاولة\n",
      "من فضلك أعد المحاولة\n",
      "من فضلك أعد المحاولة\n",
      "من فضلك أعد المحاولة\n",
      "من فضلك أعد المحاولة\n",
      "من فضلك أعد المحاولة\n",
      "من فضلك أعد المحاولة\n",
      "من فضلك أعد المحاولة\n",
      "من فضلك أعد المحاولة\n",
      "من فضلك أعد المحاولة\n",
      "من فضلك أعد المحاولة\n",
      "من فضلك أعد المحاولة\n",
      "من فضلك أعد المحاولة\n",
      "من فضلك أعد المحاولة\n",
      "من فضلك أعد المحاولة\n",
      "من فضلك أعد المحاولة\n",
      "من فضلك أعد المحاولة\n",
      "من فضلك أعد المحاولة\n",
      "من فضلك أعد المحاولة\n",
      "من فضلك أعد المحاولة\n",
      "من فضلك أعد المحاولة\n",
      "من فضلك أعد المحاولة\n",
      "من فضلك أعد المحاولة\n",
      "من فضلك أعد المحاولة\n",
      "من فضلك أعد المحاولة\n",
      "من فضلك أعد المحاولة\n",
      "من فضلك أعد المحاولة\n",
      "من فضلك أعد المحاولة\n",
      "من فضلك أعد المحاولة\n",
      "من فضلك أعد المحاولة\n",
      "من فضلك أعد المحاولة\n",
      "من فضلك أعد المحاولة\n",
      "من فضلك أعد المحاولة\n",
      "من فضلك أعد المحاولة\n",
      "من فضلك أعد المحاولة\n",
      "من فضلك أعد المحاولة\n",
      "من فضلك أعد المحاولة\n",
      "من فضلك أعد المحاولة\n",
      "من فضلك أعد المحاولة\n",
      "من فضلك أعد المحاولة\n",
      "من فضلك أعد المحاولة\n",
      "من فضلك أعد المحاولة\n",
      "من فضلك أعد المحاولة\n",
      "من فضلك أعد المحاولة\n",
      "من فضلك أعد المحاولة\n",
      "من فضلك أعد المحاولة\n",
      "من فضلك أعد المحاولة\n",
      "من فضلك أعد المحاولة\n",
      "من فضلك أعد المحاولة\n",
      "من فضلك أعد المحاولة\n",
      "من فضلك أعد المحاولة\n",
      "من فضلك أعد المحاولة\n",
      "من فضلك أعد المحاولة\n",
      "من فضلك أعد المحاولة\n",
      "من فضلك أعد المحاولة\n",
      "من فضلك أعد المحاولة\n",
      "من فضلك أعد المحاولة\n",
      "من فضلك أعد المحاولة\n",
      "من فضلك أعد المحاولة\n",
      "من فضلك أعد المحاولة\n",
      "من فضلك أعد المحاولة\n",
      "من فضلك أعد المحاولة\n",
      "من فضلك أعد المحاولة\n",
      "من فضلك أعد المحاولة\n",
      "من فضلك أعد المحاولة\n",
      "من فضلك أعد المحاولة\n",
      "من فضلك أعد المحاولة\n",
      "من فضلك أعد المحاولة\n",
      "من فضلك أعد المحاولة\n",
      "من فضلك أعد المحاولة\n",
      "من فضلك أعد المحاولة\n",
      "من فضلك أعد المحاولة\n",
      "من فضلك أعد المحاولة\n",
      "من فضلك أعد المحاولة\n",
      "من فضلك أعد المحاولة\n",
      "من فضلك أعد المحاولة\n",
      "من فضلك أعد المحاولة\n",
      "من فضلك أعد المحاولة\n",
      "من فضلك أعد المحاولة\n",
      "من فضلك أعد المحاولة\n",
      "من فضلك أعد المحاولة\n",
      "من فضلك أعد المحاولة\n",
      "من فضلك أعد المحاولة\n",
      "من فضلك أعد المحاولة\n",
      "من فضلك أعد المحاولة\n",
      "من فضلك أعد المحاولة\n",
      "من فضلك أعد المحاولة\n",
      "من فضلك أعد المحاولة\n",
      "من فضلك أعد المحاولة\n",
      "من فضلك أعد المحاولة\n",
      "من فضلك أعد المحاولة\n",
      "من فضلك أعد المحاولة\n",
      "من فضلك أعد المحاولة\n",
      "من فضلك أعد المحاولة\n",
      "من فضلك أعد المحاولة\n",
      "من فضلك أعد المحاولة\n",
      "من فضلك أعد المحاولة\n",
      "من فضلك أعد المحاولة\n",
      "من فضلك أعد المحاولة\n",
      "من فضلك أعد المحاولة\n",
      "من فضلك أعد المحاولة\n",
      "من فضلك أعد المحاولة\n",
      "من فضلك أعد المحاولة\n",
      "من فضلك أعد المحاولة\n",
      "من فضلك أعد المحاولة\n",
      "من فضلك أعد المحاولة\n",
      "من فضلك أعد المحاولة\n",
      "من فضلك أعد المحاولة\n",
      "من فضلك أعد المحاولة\n",
      "من فضلك أعد المحاولة\n",
      "من فضلك أعد المحاولة\n",
      "من فضلك أعد المحاولة\n",
      "من فضلك أعد المحاولة\n",
      "من فضلك أعد المحاولة\n",
      "من فضلك أعد المحاولة\n",
      "من فضلك أعد المحاولة\n",
      "من فضلك أعد المحاولة\n",
      "من فضلك أعد المحاولة\n",
      "من فضلك أعد المحاولة\n",
      "من فضلك أعد المحاولة\n",
      "من فضلك أعد المحاولة\n",
      "من فضلك أعد المحاولة\n",
      "من فضلك أعد المحاولة\n",
      "من فضلك أعد المحاولة\n",
      "من فضلك أعد المحاولة\n",
      "من فضلك أعد المحاولة\n",
      "من فضلك أعد المحاولة\n",
      "من فضلك أعد المحاولة\n",
      "من فضلك أعد المحاولة\n",
      "من فضلك أعد المحاولة\n",
      "من فضلك أعد المحاولة\n",
      "من فضلك أعد المحاولة\n",
      "من فضلك أعد المحاولة\n",
      "من فضلك أعد المحاولة\n",
      "من فضلك أعد المحاولة\n",
      "من فضلك أعد المحاولة\n",
      "من فضلك أعد المحاولة\n",
      "من فضلك أعد المحاولة\n",
      "من فضلك أعد المحاولة\n",
      "من فضلك أعد المحاولة\n",
      "من فضلك أعد المحاولة\n",
      "من فضلك أعد المحاولة\n",
      "من فضلك أعد المحاولة\n"
     ]
    }
   ],
   "source": [
    "sentence_length = sentence_length_data(df.review) \n",
    "longest_sentence = np.argmax(sentence_length)\n",
    "print(f\"Longest Sentence: {sentence_length[longest_sentence]}\\n{df.review[longest_sentence]}\")\n"
   ]
  },
  {
   "cell_type": "code",
   "execution_count": 108,
   "id": "eaa6a5c9",
   "metadata": {},
   "outputs": [
    {
     "name": "stdout",
     "output_type": "stream",
     "text": [
      "Number of empty Sentence: 0\n"
     ]
    }
   ],
   "source": [
    "empty_sentences = len(sentence_length[sentence_length < 2])\n",
    "print(f\"Number of empty Sentence: {empty_sentences}\")"
   ]
  },
  {
   "cell_type": "code",
   "execution_count": 109,
   "id": "b28203f1",
   "metadata": {},
   "outputs": [
    {
     "data": {
      "image/png": "[encoded data removed]",
      "text/plain": [
       "<Figure size 640x480 with 1 Axes>"
      ]
     },
     "metadata": {},
     "output_type": "display_data"
    }
   ],
   "source": [
    "sentence_length_distribution(sentence_length)"
   ]
  },
  {
   "cell_type": "code",
   "execution_count": 110,
   "id": "8b294e3f",
   "metadata": {},
   "outputs": [
    {
     "name": "stdout",
     "output_type": "stream",
     "text": [
      "Q1 6.0\n",
      "Q3 16.0\n",
      "Number of outliers:  281\n",
      "Percentage of Total Entries 9.689655172413794%\n"
     ]
    }
   ],
   "source": [
    "Q1 = sentence_length.quantile(0.25)\n",
    "Q3 = sentence_length.quantile(0.75)\n",
    "IQR = Q3 - Q1\n",
    "\n",
    "print(\"Q1\", Q1)\n",
    "print(\"Q3\", Q3)\n",
    "outliers = sentence_length[(sentence_length < Q1 - IQR) | (sentence_length > Q3 + IQR)]\n",
    "print(\"Number of outliers: \", len(outliers))\n",
    "print(f\"Percentage of Total Entries {len(outliers)/len(df) * 100}%\")"
   ]
  },
  {
   "cell_type": "code",
   "execution_count": 111,
   "id": "53e65df3",
   "metadata": {},
   "outputs": [
    {
     "data": {
      "text/html": [
       "<div>\n",
       "<style scoped>\n",
       "    .dataframe tbody tr th:only-of-type {\n",
       "        vertical-align: middle;\n",
       "    }\n",
       "\n",
       "    .dataframe tbody tr th {\n",
       "        vertical-align: top;\n",
       "    }\n",
       "\n",
       "    .dataframe thead th {\n",
       "        text-align: right;\n",
       "    }\n",
       "</style>\n",
       "<table border=\"1\" class=\"dataframe\">\n",
       "  <thead>\n",
       "    <tr style=\"text-align: right;\">\n",
       "      <th></th>\n",
       "      <th>review</th>\n",
       "      <th>Label</th>\n",
       "    </tr>\n",
       "  </thead>\n",
       "  <tbody>\n",
       "    <tr>\n",
       "      <th>23</th>\n",
       "      <td>والله فرحنا كثيراً بتطبيق مطبعة الملك فهد لكن ...</td>\n",
       "      <td>improvement_request</td>\n",
       "    </tr>\n",
       "    <tr>\n",
       "      <th>32</th>\n",
       "      <td>جيد بالنسبة إلى الأصدقاء الذين تعرفت عليهم وال...</td>\n",
       "      <td>improvement_request</td>\n",
       "    </tr>\n",
       "    <tr>\n",
       "      <th>34</th>\n",
       "      <td>المفروض بدل رأيك في الخدمات وملحقاتها مشكلتك ف...</td>\n",
       "      <td>improvement_request</td>\n",
       "    </tr>\n",
       "    <tr>\n",
       "      <th>55</th>\n",
       "      <td>شيء طالما انتظرناه مجهود جميل ورائع . إلى ما س...</td>\n",
       "      <td>improvement_request</td>\n",
       "    </tr>\n",
       "    <tr>\n",
       "      <th>73</th>\n",
       "      <td>ممتاز جدااا انصح استخدام البرنامج يحل لكم كل ا...</td>\n",
       "      <td>rating</td>\n",
       "    </tr>\n",
       "  </tbody>\n",
       "</table>\n",
       "</div>"
      ],
      "text/plain": [
       "                                               review                Label\n",
       "23  والله فرحنا كثيراً بتطبيق مطبعة الملك فهد لكن ...  improvement_request\n",
       "32  جيد بالنسبة إلى الأصدقاء الذين تعرفت عليهم وال...  improvement_request\n",
       "34  المفروض بدل رأيك في الخدمات وملحقاتها مشكلتك ف...  improvement_request\n",
       "55  شيء طالما انتظرناه مجهود جميل ورائع . إلى ما س...  improvement_request\n",
       "73  ممتاز جدااا انصح استخدام البرنامج يحل لكم كل ا...               rating"
      ]
     },
     "execution_count": 111,
     "metadata": {},
     "output_type": "execute_result"
    }
   ],
   "source": [
    "# See these sentences\n",
    "df_outliers =df.iloc[outliers.index, :]\n",
    "df_outliers.head()"
   ]
  },
  {
   "cell_type": "code",
   "execution_count": 112,
   "id": "bb54796f",
   "metadata": {},
   "outputs": [
    {
     "data": {
      "image/png": "[encoded data removed]",
      "text/plain": [
       "<Figure size 800x800 with 1 Axes>"
      ]
     },
     "metadata": {},
     "output_type": "display_data"
    }
   ],
   "source": [
    "check_target_dist(df)"
   ]
  },
  {
   "cell_type": "markdown",
   "id": "ceb02cb9",
   "metadata": {},
   "source": [
    "## Initial Analysis\n",
    "- Seems like there are no NaN values in our targets nor the predictors.\n",
    "- Imbalanced data as it is a classification task, this has to be remedied.\n",
    "- Seems like we have an outlier in the length of our sentences. This would cause problems as most of our data is within 6 to 16 length. The outliers count to around 10% of our sentences, which is too high. Best course is to set our own limit to reviews. The goal is to remove the biggest sentences while preserving as much data as possible and keeping average sentence length as small as possible.\n"
   ]
  },
  {
   "cell_type": "code",
   "execution_count": 113,
   "id": "1899d86d",
   "metadata": {},
   "outputs": [
    {
     "name": "stdout",
     "output_type": "stream",
     "text": [
      "Percentage of outliers with max length 20.0: 16.275862068965516%\n",
      "Percentage of outliers with max length 21.0: 14.931034482758621%\n",
      "Percentage of outliers with max length 22.0: 13.620689655172413%\n",
      "Percentage of outliers with max length 23.0: 12.586206896551724%\n",
      "Percentage of outliers with max length 24.0: 11.655172413793103%\n",
      "Percentage of outliers with max length 25.0: 10.724137931034484%\n",
      "Percentage of outliers with max length 26.0: 9.689655172413794%\n",
      "Percentage of outliers with max length 27.0: 9.137931034482758%\n",
      "Percentage of outliers with max length 28.0: 8.482758620689655%\n",
      "Percentage of outliers with max length 29.0: 7.827586206896552%\n",
      "Percentage of outliers with max length 30.0: 7.310344827586207%\n",
      "Percentage of outliers with max length 31.0: 6.862068965517241%\n",
      "Percentage of outliers with max length 32.0: 6.344827586206897%\n",
      "Percentage of outliers with max length 33.0: 5.827586206896552%\n",
      "Percentage of outliers with max length 34.0: 5.344827586206897%\n",
      "Percentage of outliers with max length 35.0: 5.103448275862069%\n",
      "Percentage of outliers with max length 36.0: 4.620689655172414%\n",
      "Percentage of outliers with max length 37.0: 4.241379310344827%\n",
      "Percentage of outliers with max length 38.0: 4.0%\n",
      "Percentage of outliers with max length 39.0: 3.896551724137931%\n",
      "Percentage of outliers with max length 40.0: 3.5517241379310347%\n",
      "Percentage of outliers with max length 41.0: 3.310344827586207%\n",
      "Percentage of outliers with max length 42.0: 2.9655172413793105%\n",
      "Percentage of outliers with max length 43.0: 2.896551724137931%\n",
      "Percentage of outliers with max length 44.0: 2.655172413793103%\n",
      "Percentage of outliers with max length 45.0: 2.379310344827586%\n",
      "Percentage of outliers with max length 46.0: 2.206896551724138%\n",
      "Percentage of outliers with max length 47.0: 2.103448275862069%\n",
      "Percentage of outliers with max length 48.0: 2.0344827586206895%\n",
      "Percentage of outliers with max length 49.0: 1.9655172413793103%\n",
      "Percentage of outliers with max length 50.0: 1.9310344827586208%\n",
      "Percentage of outliers with max length 51.0: 1.862068965517241%\n",
      "Percentage of outliers with max length 52.0: 1.8275862068965518%\n",
      "Percentage of outliers with max length 53.0: 1.7586206896551726%\n",
      "Percentage of outliers with max length 54.0: 1.7241379310344827%\n",
      "Percentage of outliers with max length 55.0: 1.689655172413793%\n",
      "Percentage of outliers with max length 56.0: 1.6551724137931034%\n",
      "Percentage of outliers with max length 57.0: 1.5862068965517242%\n",
      "Percentage of outliers with max length 58.0: 1.5517241379310345%\n",
      "Percentage of outliers with max length 59.0: 1.3793103448275863%\n",
      "Percentage of outliers with max length 60.0: 1.3448275862068966%\n"
     ]
    }
   ],
   "source": [
    "max_length = np.linspace(20, 60, 41) \n",
    "for length in max_length:\n",
    "\tprint(f\"Percentage of outliers with max length {length}: {len(sentence_length[sentence_length > length])/len(df) * 100}%\")"
   ]
  },
  {
   "cell_type": "code",
   "execution_count": 114,
   "id": "2df8a7e4",
   "metadata": {},
   "outputs": [],
   "source": [
    "df.drop(index=sentence_length[sentence_length > 38].index, axis=1, inplace=True)\n",
    "df_multilabel.drop(index=sentence_length[sentence_length > 38].index, axis=1, inplace=True)"
   ]
  },
  {
   "cell_type": "code",
   "execution_count": 115,
   "id": "c3fcefe6",
   "metadata": {},
   "outputs": [
    {
     "data": {
      "image/png": "[encoded data removed]",
      "text/plain": [
       "<Figure size 800x800 with 1 Axes>"
      ]
     },
     "metadata": {},
     "output_type": "display_data"
    }
   ],
   "source": [
    "check_target_dist(df)"
   ]
  },
  {
   "cell_type": "code",
   "execution_count": 116,
   "id": "1c83f236-e7df-4ae9-89b0-98ed8780eee0",
   "metadata": {},
   "outputs": [
    {
     "name": "stdout",
     "output_type": "stream",
     "text": [
      "[0.9521203830369357, 1.6893203883495145, 1.86096256684492, 0.5493291239147593]\n"
     ]
    }
   ],
   "source": [
    "total = len(df)\n",
    "num_classes = 4\n",
    "\n",
    "class_counts = {\n",
    "    \"rating\": 1267,\n",
    "    \"bug_report\": 731,\n",
    "    \"improvement_request\": 412,\n",
    "    \"others\": 374\n",
    "}\n",
    "\n",
    "weights = [\n",
    "    total / (num_classes * class_counts[\"bug_report\"]),\n",
    "    total / (num_classes * class_counts[\"improvement_request\"]),\n",
    "    total / (num_classes * class_counts[\"others\"]),\n",
    "    total / (num_classes * class_counts[\"rating\"])\n",
    "]\n",
    "print(weights)"
   ]
  },
  {
   "cell_type": "markdown",
   "id": "0ac0df12",
   "metadata": {},
   "source": [
    "## Preprocessing"
   ]
  },
  {
   "cell_type": "markdown",
   "id": "3d1ebf4c",
   "metadata": {},
   "source": [
    "### Label Encoding"
   ]
  },
  {
   "cell_type": "code",
   "execution_count": 117,
   "id": "b0a7e4d4",
   "metadata": {},
   "outputs": [],
   "source": [
    "labels = pd.get_dummies(df.Label, dtype=np.int32)"
   ]
  },
  {
   "cell_type": "code",
   "execution_count": 118,
   "id": "23fa963c",
   "metadata": {},
   "outputs": [
    {
     "data": {
      "text/html": [
       "<div>\n",
       "<style scoped>\n",
       "    .dataframe tbody tr th:only-of-type {\n",
       "        vertical-align: middle;\n",
       "    }\n",
       "\n",
       "    .dataframe tbody tr th {\n",
       "        vertical-align: top;\n",
       "    }\n",
       "\n",
       "    .dataframe thead th {\n",
       "        text-align: right;\n",
       "    }\n",
       "</style>\n",
       "<table border=\"1\" class=\"dataframe\">\n",
       "  <thead>\n",
       "    <tr style=\"text-align: right;\">\n",
       "      <th></th>\n",
       "      <th>bug_report</th>\n",
       "      <th>improvement_request</th>\n",
       "      <th>others</th>\n",
       "      <th>rating</th>\n",
       "    </tr>\n",
       "  </thead>\n",
       "  <tbody>\n",
       "    <tr>\n",
       "      <th>0</th>\n",
       "      <td>1</td>\n",
       "      <td>0</td>\n",
       "      <td>0</td>\n",
       "      <td>0</td>\n",
       "    </tr>\n",
       "    <tr>\n",
       "      <th>1</th>\n",
       "      <td>0</td>\n",
       "      <td>0</td>\n",
       "      <td>0</td>\n",
       "      <td>1</td>\n",
       "    </tr>\n",
       "    <tr>\n",
       "      <th>2</th>\n",
       "      <td>0</td>\n",
       "      <td>1</td>\n",
       "      <td>0</td>\n",
       "      <td>0</td>\n",
       "    </tr>\n",
       "    <tr>\n",
       "      <th>3</th>\n",
       "      <td>0</td>\n",
       "      <td>0</td>\n",
       "      <td>0</td>\n",
       "      <td>1</td>\n",
       "    </tr>\n",
       "    <tr>\n",
       "      <th>4</th>\n",
       "      <td>0</td>\n",
       "      <td>0</td>\n",
       "      <td>1</td>\n",
       "      <td>0</td>\n",
       "    </tr>\n",
       "  </tbody>\n",
       "</table>\n",
       "</div>"
      ],
      "text/plain": [
       "   bug_report  improvement_request  others  rating\n",
       "0           1                    0       0       0\n",
       "1           0                    0       0       1\n",
       "2           0                    1       0       0\n",
       "3           0                    0       0       1\n",
       "4           0                    0       1       0"
      ]
     },
     "execution_count": 118,
     "metadata": {},
     "output_type": "execute_result"
    }
   ],
   "source": [
    "labels.head()"
   ]
  },
  {
   "cell_type": "markdown",
   "id": "060a8756",
   "metadata": {},
   "source": [
    "## Text Preprocessing"
   ]
  },
  {
   "cell_type": "code",
   "execution_count": 119,
   "id": "44861a7e",
   "metadata": {},
   "outputs": [],
   "source": [
    "import re\n",
    "import nltk\n",
    "import string\n",
    "from nltk.corpus import stopwords\n",
    "from camel_tools.utils.normalize import normalize_alef_maksura_ar\n",
    "from camel_tools.utils.normalize import normalize_alef_ar\n",
    "from camel_tools.utils.normalize import normalize_teh_marbuta_ar\n",
    "from camel_tools.utils.dediac import dediac_ar\n",
    "from camel_tools.utils.charsets import EMOJI_ALL_CHARSET\n"
   ]
  },
  {
   "cell_type": "code",
   "execution_count": 120,
   "id": "d7a70110",
   "metadata": {},
   "outputs": [
    {
     "name": "stderr",
     "output_type": "stream",
     "text": [
      "[nltk_data] Downloading package stopwords to /home/malik/nltk_data...\n",
      "[nltk_data]   Package stopwords is already up-to-date!\n"
     ]
    }
   ],
   "source": [
    "nltk.download('stopwords')\n",
    "arabic_stopwords = set(stopwords.words('arabic'))"
   ]
  },
  {
   "cell_type": "code",
   "execution_count": 121,
   "id": "eca9bfc2",
   "metadata": {},
   "outputs": [],
   "source": [
    "arabic_digits = [digit for digit in '٠١٢٣٤٥٦٧٨٩']\n",
    "trans = str.maketrans('٠١٢٣٤٥٦٧٨٩', '0123456789')\n",
    "def translate_numbers(text):\n",
    "\treturn ''.join([char.translate(trans) for char in text])\n"
   ]
  },
  {
   "cell_type": "code",
   "execution_count": 122,
   "id": "34e30e86",
   "metadata": {},
   "outputs": [],
   "source": [
    "ARABIC_PUNCTUATIONS = '،؛؟«»…ـ“”‘’'\n",
    "ALL_PUNCTUATIONS = ARABIC_PUNCTUATIONS + string.punctuation\n",
    "def remove_punctuations(text):\n",
    "\ttext = re.sub(f\"[{re.escape(ALL_PUNCTUATIONS)}]\", \"\", text)\n",
    "\ttext = re.sub(r\"\\s+\", \" \", text).strip()\n",
    "\treturn text"
   ]
  },
  {
   "cell_type": "code",
   "execution_count": 123,
   "id": "46eb682d",
   "metadata": {},
   "outputs": [],
   "source": [
    "def remove_unicode(text):\n",
    "\ttext = re.sub(r\"[^\\u0600-\\u06FFa-zA-Z0-9\\s]\", \"\", text)\n",
    "\treturn text"
   ]
  },
  {
   "cell_type": "code",
   "execution_count": 124,
   "id": "15ee2dca",
   "metadata": {},
   "outputs": [],
   "source": [
    "def remove_stopwords(text):\n",
    "\treturn ' '.join([word for word in text.split(' ') if word not in arabic_stopwords])"
   ]
  },
  {
   "cell_type": "code",
   "execution_count": 125,
   "id": "a1f6678a",
   "metadata": {},
   "outputs": [],
   "source": [
    "def remove_emojis(text):\n",
    "\treturn ''.join([char for char in text if char not in EMOJI_ALL_CHARSET])"
   ]
  },
  {
   "cell_type": "code",
   "execution_count": 126,
   "id": "8aebc6c5",
   "metadata": {},
   "outputs": [],
   "source": [
    "df_processed = df.copy()\n",
    "for normalizer in [\n",
    "\tnormalize_alef_ar,\n",
    "\tnormalize_alef_maksura_ar,\n",
    "\tnormalize_teh_marbuta_ar,\n",
    "\tdediac_ar,\n",
    "\tremove_emojis,\n",
    "\ttranslate_numbers,\n",
    "\tremove_stopwords,\n",
    "\tremove_punctuations,\n",
    "\tremove_unicode]:\n",
    "\n",
    "\tdf_processed.review = df_processed.review.apply(normalizer)"
   ]
  },
  {
   "cell_type": "code",
   "execution_count": 127,
   "id": "e602f3f1",
   "metadata": {},
   "outputs": [
    {
     "data": {
      "text/html": [
       "<div>\n",
       "<style scoped>\n",
       "    .dataframe tbody tr th:only-of-type {\n",
       "        vertical-align: middle;\n",
       "    }\n",
       "\n",
       "    .dataframe tbody tr th {\n",
       "        vertical-align: top;\n",
       "    }\n",
       "\n",
       "    .dataframe thead th {\n",
       "        text-align: right;\n",
       "    }\n",
       "</style>\n",
       "<table border=\"1\" class=\"dataframe\">\n",
       "  <thead>\n",
       "    <tr style=\"text-align: right;\">\n",
       "      <th></th>\n",
       "      <th>review</th>\n",
       "      <th>Label</th>\n",
       "    </tr>\n",
       "  </thead>\n",
       "  <tbody>\n",
       "    <tr>\n",
       "      <th>0</th>\n",
       "      <td>يبيله تصليحات كثير</td>\n",
       "      <td>bug_report</td>\n",
       "    </tr>\n",
       "    <tr>\n",
       "      <th>1</th>\n",
       "      <td>ماتحملت ابدددددا ونا دفعت فلوس</td>\n",
       "      <td>rating</td>\n",
       "    </tr>\n",
       "    <tr>\n",
       "      <th>2</th>\n",
       "      <td>اتمني منكم عمل خيار لتفضيل المسلسل بالكامل عوض...</td>\n",
       "      <td>improvement_request</td>\n",
       "    </tr>\n",
       "    <tr>\n",
       "      <th>3</th>\n",
       "      <td>ممتاز وبسيط وتشغيله يؤثر علي سرعه الانترنت</td>\n",
       "      <td>rating</td>\n",
       "    </tr>\n",
       "    <tr>\n",
       "      <th>4</th>\n",
       "      <td>تبين تم يب</td>\n",
       "      <td>others</td>\n",
       "    </tr>\n",
       "    <tr>\n",
       "      <th>...</th>\n",
       "      <td>...</td>\n",
       "      <td>...</td>\n",
       "    </tr>\n",
       "    <tr>\n",
       "      <th>2779</th>\n",
       "      <td>يعطي اشعار اخبار ولايوجد اخبار نرجو متابعه الب...</td>\n",
       "      <td>bug_report</td>\n",
       "    </tr>\n",
       "    <tr>\n",
       "      <th>2780</th>\n",
       "      <td>مرره معفن مدري الا بالقوه بيدخلنا موقعهم هذاك ...</td>\n",
       "      <td>rating</td>\n",
       "    </tr>\n",
       "    <tr>\n",
       "      <th>2781</th>\n",
       "      <td>لابد تطويره ليستفاد منو الجميع</td>\n",
       "      <td>improvement_request</td>\n",
       "    </tr>\n",
       "    <tr>\n",
       "      <th>2782</th>\n",
       "      <td>تطبيق اكثر رائع ومجهود مبارك ننتظر المزيد لاثر...</td>\n",
       "      <td>rating</td>\n",
       "    </tr>\n",
       "    <tr>\n",
       "      <th>2783</th>\n",
       "      <td>لعبه جميله جدا اوي تستاهل نجوم التعاليق بسيط ج...</td>\n",
       "      <td>rating</td>\n",
       "    </tr>\n",
       "  </tbody>\n",
       "</table>\n",
       "<p>2784 rows × 2 columns</p>\n",
       "</div>"
      ],
      "text/plain": [
       "                                                 review                Label\n",
       "0                                    يبيله تصليحات كثير           bug_report\n",
       "1                        ماتحملت ابدددددا ونا دفعت فلوس               rating\n",
       "2     اتمني منكم عمل خيار لتفضيل المسلسل بالكامل عوض...  improvement_request\n",
       "3            ممتاز وبسيط وتشغيله يؤثر علي سرعه الانترنت               rating\n",
       "4                                            تبين تم يب               others\n",
       "...                                                 ...                  ...\n",
       "2779  يعطي اشعار اخبار ولايوجد اخبار نرجو متابعه الب...           bug_report\n",
       "2780  مرره معفن مدري الا بالقوه بيدخلنا موقعهم هذاك ...               rating\n",
       "2781                     لابد تطويره ليستفاد منو الجميع  improvement_request\n",
       "2782  تطبيق اكثر رائع ومجهود مبارك ننتظر المزيد لاثر...               rating\n",
       "2783  لعبه جميله جدا اوي تستاهل نجوم التعاليق بسيط ج...               rating\n",
       "\n",
       "[2784 rows x 2 columns]"
      ]
     },
     "execution_count": 127,
     "metadata": {},
     "output_type": "execute_result"
    }
   ],
   "source": [
    "df_processed.reset_index(inplace=True, drop=True)\n",
    "df_processed"
   ]
  },
  {
   "cell_type": "markdown",
   "id": "b01ba665",
   "metadata": {},
   "source": [
    "### Check word count again"
   ]
  },
  {
   "cell_type": "code",
   "execution_count": 128,
   "id": "4bdef9f4",
   "metadata": {},
   "outputs": [
    {
     "name": "stdout",
     "output_type": "stream",
     "text": [
      "Longest Sentence: 38\n",
      "تستحق 5نجوم اني خليت 3 نجوم لسبب وهوه ارجو حل مشكله التحديث عندما نترك العبه يوم ارجع يقول تحديث تحياتي احنه مو فاظين لعبه اغلب وقتنه عمل لاتكرهونه العبه اني واصل مرحله 1000بيه\n"
     ]
    }
   ],
   "source": [
    "sentence_length = sentence_length_data(df_processed.review)\n",
    "longest_idx = np.argmax(sentence_length)\n",
    "max_len =sentence_length.max() \n",
    "print(f\"Longest Sentence: {max_len}\\n{df_processed.review[longest_idx]}\")"
   ]
  },
  {
   "cell_type": "code",
   "execution_count": 129,
   "id": "8cf0a232",
   "metadata": {},
   "outputs": [
    {
     "data": {
      "image/png": "[encoded data removed]",
      "text/plain": [
       "<Figure size 640x480 with 1 Axes>"
      ]
     },
     "metadata": {},
     "output_type": "display_data"
    }
   ],
   "source": [
    "sentence_length_distribution(sentence_length)"
   ]
  },
  {
   "cell_type": "markdown",
   "id": "83bf34a4",
   "metadata": {},
   "source": [
    "## Tokenize"
   ]
  },
  {
   "cell_type": "code",
   "execution_count": 130,
   "id": "cecc794a",
   "metadata": {},
   "outputs": [],
   "source": [
    "import numpy as np \n",
    "from camel_tools.tokenizers.word import simple_word_tokenize\n",
    "from sentence_transformers import models, SentenceTransformer"
   ]
  },
  {
   "cell_type": "code",
   "execution_count": 131,
   "id": "f4f0d82c-be91-4b97-a233-5000b9f9bf34",
   "metadata": {},
   "outputs": [],
   "source": [
    "model = SentenceTransformer(\"akhooli/Arabic-SBERT-100K\")"
   ]
  },
  {
   "cell_type": "code",
   "execution_count": 132,
   "id": "44dd19e0",
   "metadata": {},
   "outputs": [
    {
     "name": "stdout",
     "output_type": "stream",
     "text": [
      "Max length:  35\n"
     ]
    }
   ],
   "source": [
    "def tokenize(df: pd.DataFrame):\n",
    "\tvocab = set()\n",
    "\t[vocab.add(special_token) for special_token in [\"<START>\", \"<END>\", \"<PAD>\"]]\n",
    "\tword2idx = {\"<PAD>\": 0, \"<START>\": 1, \"<END>\": 2,}\n",
    "\tdf['tokenized'] = [[] for _ in range(len(df))]\n",
    "\tidx = 3 \n",
    "\ttokenized = [simple_word_tokenize(sentence) for sentence in df.review]\n",
    "\tmax_len = max([len(sentence) for sentence in tokenized])\n",
    "\tprint(\"Max length: \", max_len)\n",
    "\tfor i, review in enumerate(tokenized):\n",
    "\t\tsentence = [1]\n",
    "\t\tsentence.extend([0] * (max_len - len(review)))\n",
    "\t\tfor word in review:\n",
    "\t\t\tif word not in vocab:\n",
    "\t\t\t\tvocab.add(word)\n",
    "\t\t\t\tword2idx[word]=idx\n",
    "\t\t\t\tidx+=1\n",
    "\t\t\tsentence.append(word2idx[word])\n",
    "\t\tsentence.append(2)\n",
    "\t\tdf.loc[i, 'tokenized'].extend(sentence)\n",
    "\treturn df, vocab, word2idx\n",
    "\t\t\t\n",
    "df_tokenized, vocab, word2idx = tokenize(df_processed)"
   ]
  },
  {
   "cell_type": "code",
   "execution_count": 133,
   "id": "ab18fc02",
   "metadata": {},
   "outputs": [
    {
     "data": {
      "text/plain": [
       "True"
      ]
     },
     "execution_count": 133,
     "metadata": {},
     "output_type": "execute_result"
    }
   ],
   "source": [
    "df_tokenized['tokenized'].apply(len).apply(lambda x: x==37).sum() == len(df)"
   ]
  },
  {
   "cell_type": "code",
   "execution_count": 134,
   "id": "5e5ef0f8-1fdc-4385-916e-2ba80f4c6477",
   "metadata": {},
   "outputs": [
    {
     "data": {
      "text/plain": [
       "0       [0.37548962, -1.4763138, -0.0823625, -0.857211...\n",
       "1       [0.15899584, 0.52039415, 0.6430891, 1.8176333,...\n",
       "2       [-0.8131301, -0.96796775, -0.15142162, 0.31133...\n",
       "3       [-0.19711252, 0.71412545, -0.76684517, 0.24044...\n",
       "4       [-1.9194742, 0.69437736, -1.7280613, -0.796672...\n",
       "                              ...                        \n",
       "2779    [1.5232538, 0.29725742, -0.2691764, -0.5551562...\n",
       "2780    [-0.0002178647, 0.07118794, -1.0993735, -0.624...\n",
       "2781    [0.06553748, -0.42051122, -0.24195348, 1.35596...\n",
       "2782    [0.54289937, -2.4132314, -1.7286988, 0.3674612...\n",
       "2783    [1.0935483, 1.0026801, -0.07955721, 2.010939, ...\n",
       "Name: embedding, Length: 2784, dtype: object"
      ]
     },
     "execution_count": 134,
     "metadata": {},
     "output_type": "execute_result"
    }
   ],
   "source": [
    "df_tokenized['embedding'] = df_tokenized['review'].apply(model.encode)\n",
    "df_tokenized['embedding']"
   ]
  },
  {
   "cell_type": "code",
   "execution_count": 137,
   "id": "8cfee067",
   "metadata": {},
   "outputs": [],
   "source": [
    "import pickle\n",
    "with open('data.pickle', 'wb') as f:\n",
    "\tpickle.dump(df_tokenized['tokenized'].to_numpy(), f)\n",
    "with open('labels.pickle', 'wb') as f:\n",
    "\tpickle.dump(labels.to_numpy(), f)\n",
    "with open('multilabel.pkl', 'wb') as f:\n",
    "\tpickle.dump(labels.to_numpy(), f)\n",
    "with open('precomputed_embeddings.pkl', 'wb') as f:\n",
    "\tpickle.dump(df_tokenized['embedding'].to_numpy(), f)"
   ]
  },
  {
   "cell_type": "code",
   "execution_count": 138,
   "id": "2b0b752b",
   "metadata": {},
   "outputs": [],
   "source": [
    "with open(\"vocab.txt\", \"w\") as f:\n",
    "\t[f.write(word + \" \") for word in vocab]"
   ]
  },
  {
   "cell_type": "code",
   "execution_count": 139,
   "id": "58ddf8a6",
   "metadata": {},
   "outputs": [
    {
     "data": {
      "text/plain": [
       "9210"
      ]
     },
     "execution_count": 139,
     "metadata": {},
     "output_type": "execute_result"
    }
   ],
   "source": [
    "len(vocab)"
   ]
  },
  {
   "cell_type": "code",
   "execution_count": null,
   "id": "0a09f556",
   "metadata": {},
   "outputs": [],
   "source": []
  }
 ],
 "metadata": {
  "kernelspec": {
   "display_name": "venv",
   "language": "python",
   "name": "venv"
  },
  "language_info": {
   "codemirror_mode": {
    "name": "ipython",
    "version": 3
   },
   "file_extension": ".py",
   "mimetype": "text/x-python",
   "name": "python",
   "nbconvert_exporter": "python",
   "pygments_lexer": "ipython3",
   "version": "3.10.12"
  }
 },
 "nbformat": 4,
 "nbformat_minor": 5
}
