{
 "cells": [
  {
   "cell_type": "markdown",
   "id": "ee81e187",
   "metadata": {},
   "source": [
    "# Read Data"
   ]
  },
  {
   "cell_type": "code",
   "execution_count": 10,
   "id": "c7ee8c7a",
   "metadata": {},
   "outputs": [],
   "source": [
    "import numpy as np\n",
    "import pandas as pd"
   ]
  },
  {
   "cell_type": "code",
   "execution_count": 11,
   "id": "94b9a4c9",
   "metadata": {},
   "outputs": [
    {
     "data": {
      "text/plain": [
       "7130"
      ]
     },
     "execution_count": 11,
     "metadata": {},
     "output_type": "execute_result"
    }
   ],
   "source": [
    "train_balanced = pd.read_pickle('train_balanced.pkl')\n",
    "val_balanced = pd.read_pickle('val_balanced.pkl')\n",
    "test_balanced = pd.read_pickle('test_balanced.pkl')\n",
    "VOCAB_BALANCED_SIZE = set()\n",
    "for tokenized in train_balanced.tokenized:\n",
    "    for token in tokenized:\n",
    "        VOCAB_BALANCED_SIZE.add(token)\n",
    "max(VOCAB_BALANCED_SIZE)     "
   ]
  },
  {
   "cell_type": "code",
   "execution_count": 12,
   "id": "43d1882f-56e7-4d0b-a5ab-468e578ea62b",
   "metadata": {},
   "outputs": [
    {
     "data": {
      "text/plain": [
       "6767"
      ]
     },
     "execution_count": 12,
     "metadata": {},
     "output_type": "execute_result"
    }
   ],
   "source": [
    "train_unbalanced = pd.read_pickle('train_unbalanced.pkl')\n",
    "val_unbalanced = pd.read_pickle('val_unbalanced.pkl')\n",
    "test_unbalanced = pd.read_pickle('test_unbalanced.pkl')\n",
    "\n",
    "VOCAB_UNBALANCED_SIZE = set()\n",
    "for tokenized in train_unbalanced.tokenized:\n",
    "    for token in tokenized:\n",
    "        VOCAB_UNBALANCED_SIZE.add(token)\n",
    "\n",
    "max(VOCAB_UNBALANCED_SIZE)"
   ]
  },
  {
   "cell_type": "code",
   "execution_count": 13,
   "id": "1bf95f08-2550-4772-a006-0aa15359e107",
   "metadata": {},
   "outputs": [],
   "source": [
    "from datasets import Dataset"
   ]
  },
  {
   "cell_type": "code",
   "execution_count": 14,
   "id": "a12c23de-e2d5-4bb8-b7d2-849b8808a641",
   "metadata": {},
   "outputs": [],
   "source": [
    "train_dataset_unbalanced = Dataset.from_dict({\"input_ids\": [x['input_ids'] for x in train_unbalanced.marbert_tokens], \n",
    "                                   \"label\": train_unbalanced['class'], \n",
    "                                   'attention_mask':[x['attention_mask'] for x in train_unbalanced.marbert_tokens]})\n",
    "val_dataset_unbalanced = Dataset.from_dict({\"input_ids\": [x['input_ids'] for x in val_unbalanced.marbert_tokens], \n",
    "                                 \"label\": val_unbalanced['class'], \n",
    "                                 'attention_mask':[x['attention_mask'] for x in val_unbalanced.marbert_tokens]})\n",
    "test_dataset_unbalanced = Dataset.from_dict({\"input_ids\": [x['input_ids'] for x in test_unbalanced.marbert_tokens], \n",
    "                                  \"label\": test_unbalanced['class'], \n",
    "                                  'attention_mask':[x['attention_mask'] for x in test_unbalanced.marbert_tokens]})"
   ]
  },
  {
   "cell_type": "code",
   "execution_count": 15,
   "id": "f84dc1a2-b377-4d18-8620-02f5487ca942",
   "metadata": {},
   "outputs": [],
   "source": [
    "train_dataset_balanced = Dataset.from_dict({\"input_ids\": [x['input_ids'] for x in train_balanced.marbert_tokens], \n",
    "                                   \"label\": train_balanced['class'], \n",
    "                                   'attention_mask':[x['attention_mask'] for x in train_balanced.marbert_tokens]})\n",
    "val_dataset_balanced = Dataset.from_dict({\"input_ids\": [x['input_ids'] for x in val_balanced.marbert_tokens], \n",
    "                                 \"label\": val_balanced['class'], \n",
    "                                 'attention_mask':[x['attention_mask'] for x in val_balanced.marbert_tokens]})\n",
    "test_dataset_balanced = Dataset.from_dict({\"input_ids\": [x['input_ids'] for x in test_balanced.marbert_tokens], \n",
    "                                  \"label\": test_balanced['class'], \n",
    "                                  'attention_mask':[x['attention_mask'] for x in test_balanced.marbert_tokens]})"
   ]
  },
  {
   "cell_type": "code",
   "execution_count": 16,
   "id": "1d65795b-e529-49e9-9b89-add2685cf70c",
   "metadata": {},
   "outputs": [],
   "source": [
    "import transformers\n",
    "from transformers import AutoModelForSequenceClassification"
   ]
  },
  {
   "cell_type": "code",
   "execution_count": 24,
   "id": "1fd36b3e-0dab-4adf-ac06-efedaca28fd3",
   "metadata": {},
   "outputs": [
    {
     "name": "stderr",
     "output_type": "stream",
     "text": [
      "Some weights of BertForSequenceClassification were not initialized from the model checkpoint at UBC-NLP/MARBERTv2 and are newly initialized: ['classifier.bias', 'classifier.weight']\n",
      "You should probably TRAIN this model on a down-stream task to be able to use it for predictions and inference.\n"
     ]
    }
   ],
   "source": [
    "model_balanced = AutoModelForSequenceClassification.from_pretrained(\"UBC-NLP/MARBERTv2\", num_labels=4)\n",
    "for param in model_balanced.parameters(): param.data = param.data.contiguous()"
   ]
  },
  {
   "cell_type": "code",
   "execution_count": 25,
   "id": "6c1564c2-0acb-43f6-9c53-fc98ce603b6d",
   "metadata": {},
   "outputs": [
    {
     "name": "stderr",
     "output_type": "stream",
     "text": [
      "Some weights of BertForSequenceClassification were not initialized from the model checkpoint at UBC-NLP/MARBERTv2 and are newly initialized: ['classifier.bias', 'classifier.weight']\n",
      "You should probably TRAIN this model on a down-stream task to be able to use it for predictions and inference.\n"
     ]
    }
   ],
   "source": [
    "model_unbalanced = AutoModelForSequenceClassification.from_pretrained(\"UBC-NLP/MARBERTv2\", num_labels=4)\n",
    "for param in model_unbalanced.parameters(): param.data = param.data.contiguous()"
   ]
  },
  {
   "cell_type": "code",
   "execution_count": 27,
   "id": "5de6acf7-3ed6-4c00-91bb-67df17263ea6",
   "metadata": {},
   "outputs": [],
   "source": [
    "import numpy as np\n",
    "import evaluate\n",
    "\n",
    "metric = evaluate.load(\"f1\")\n",
    "\n",
    "def compute_metrics(eval_pred):\n",
    "    logits, labels = eval_pred\n",
    "    # convert the logits to their predicted class\n",
    "    predictions = np.argmax(logits, axis=-1)\n",
    "    return metric.compute(predictions=predictions, references=labels, average='weighted')\n"
   ]
  },
  {
   "cell_type": "code",
   "execution_count": 31,
   "id": "3773e12a-dee2-427f-9f26-83eca35d3904",
   "metadata": {},
   "outputs": [
    {
     "data": {
      "text/html": [
       "\n",
       "    <div>\n",
       "      \n",
       "      <progress value='400' max='400' style='width:300px; height:20px; vertical-align: middle;'></progress>\n",
       "      [400/400 04:28, Epoch 5/5]\n",
       "    </div>\n",
       "    <table border=\"1\" class=\"dataframe\">\n",
       "  <thead>\n",
       " <tr style=\"text-align: left;\">\n",
       "      <th>Epoch</th>\n",
       "      <th>Training Loss</th>\n",
       "      <th>Validation Loss</th>\n",
       "      <th>F1</th>\n",
       "    </tr>\n",
       "  </thead>\n",
       "  <tbody>\n",
       "    <tr>\n",
       "      <td>1</td>\n",
       "      <td>0.402500</td>\n",
       "      <td>0.701418</td>\n",
       "      <td>0.747460</td>\n",
       "    </tr>\n",
       "    <tr>\n",
       "      <td>2</td>\n",
       "      <td>0.343500</td>\n",
       "      <td>0.709247</td>\n",
       "      <td>0.773999</td>\n",
       "    </tr>\n",
       "    <tr>\n",
       "      <td>3</td>\n",
       "      <td>0.346100</td>\n",
       "      <td>0.781760</td>\n",
       "      <td>0.750801</td>\n",
       "    </tr>\n",
       "    <tr>\n",
       "      <td>4</td>\n",
       "      <td>0.275600</td>\n",
       "      <td>0.790377</td>\n",
       "      <td>0.765305</td>\n",
       "    </tr>\n",
       "    <tr>\n",
       "      <td>5</td>\n",
       "      <td>0.297600</td>\n",
       "      <td>0.783616</td>\n",
       "      <td>0.761926</td>\n",
       "    </tr>\n",
       "  </tbody>\n",
       "</table><p>"
      ],
      "text/plain": [
       "<IPython.core.display.HTML object>"
      ]
     },
     "metadata": {},
     "output_type": "display_data"
    },
    {
     "data": {
      "text/plain": [
       "TrainOutput(global_step=400, training_loss=0.3200368320941925, metrics={'train_runtime': 269.4293, 'train_samples_per_second': 47.248, 'train_steps_per_second': 1.485, 'total_flos': 1308384328368000.0, 'train_loss': 0.3200368320941925, 'epoch': 5.0})"
      ]
     },
     "execution_count": 31,
     "metadata": {},
     "output_type": "execute_result"
    }
   ],
   "source": [
    "from transformers import TrainingArguments, Trainer\n",
    "import accelerate\n",
    "training_args = TrainingArguments(\n",
    "    output_dir=\"./results\",\n",
    "    logging_strategy='steps',\n",
    "    logging_steps=10,\n",
    "    metric_for_best_model='eval_f1',\n",
    "    per_device_eval_batch_size=32,\n",
    "    per_device_train_batch_size=32,\n",
    "    load_best_model_at_end=True,\n",
    "    eval_strategy=\"epoch\",\n",
    "    learning_rate=2e-5,\n",
    "    num_train_epochs=5,\n",
    "    save_strategy='epoch',\n",
    "    greater_is_better=True,\n",
    "    \n",
    ")\n",
    "trainer_balanced = Trainer(\n",
    "    model=model_balanced,\n",
    "    args=training_args,\n",
    "    train_dataset=train_dataset_balanced,\n",
    "    eval_dataset=val_dataset_balanced,\n",
    "    compute_metrics=compute_metrics,\n",
    ")\n",
    "trainer_balanced.train()"
   ]
  },
  {
   "cell_type": "code",
   "execution_count": 30,
   "id": "0fb3efec-76fa-4fdd-8e85-bd996ed9eb9e",
   "metadata": {},
   "outputs": [
    {
     "data": {
      "text/html": [
       "\n",
       "    <div>\n",
       "      \n",
       "      <progress value='300' max='300' style='width:300px; height:20px; vertical-align: middle;'></progress>\n",
       "      [300/300 03:50, Epoch 5/5]\n",
       "    </div>\n",
       "    <table border=\"1\" class=\"dataframe\">\n",
       "  <thead>\n",
       " <tr style=\"text-align: left;\">\n",
       "      <th>Epoch</th>\n",
       "      <th>Training Loss</th>\n",
       "      <th>Validation Loss</th>\n",
       "      <th>F1</th>\n",
       "    </tr>\n",
       "  </thead>\n",
       "  <tbody>\n",
       "    <tr>\n",
       "      <td>1</td>\n",
       "      <td>0.914300</td>\n",
       "      <td>0.837041</td>\n",
       "      <td>0.556045</td>\n",
       "    </tr>\n",
       "    <tr>\n",
       "      <td>2</td>\n",
       "      <td>0.687400</td>\n",
       "      <td>0.651385</td>\n",
       "      <td>0.744844</td>\n",
       "    </tr>\n",
       "    <tr>\n",
       "      <td>3</td>\n",
       "      <td>0.515500</td>\n",
       "      <td>0.594943</td>\n",
       "      <td>0.770123</td>\n",
       "    </tr>\n",
       "    <tr>\n",
       "      <td>4</td>\n",
       "      <td>0.400400</td>\n",
       "      <td>0.587355</td>\n",
       "      <td>0.767777</td>\n",
       "    </tr>\n",
       "    <tr>\n",
       "      <td>5</td>\n",
       "      <td>0.284500</td>\n",
       "      <td>0.595500</td>\n",
       "      <td>0.756163</td>\n",
       "    </tr>\n",
       "  </tbody>\n",
       "</table><p>"
      ],
      "text/plain": [
       "<IPython.core.display.HTML object>"
      ]
     },
     "metadata": {},
     "output_type": "display_data"
    },
    {
     "data": {
      "text/plain": [
       "TrainOutput(global_step=300, training_loss=0.6079052750269572, metrics={'train_runtime': 231.6059, 'train_samples_per_second': 41.147, 'train_steps_per_second': 1.295, 'total_flos': 979489603248000.0, 'train_loss': 0.6079052750269572, 'epoch': 5.0})"
      ]
     },
     "execution_count": 30,
     "metadata": {},
     "output_type": "execute_result"
    }
   ],
   "source": [
    "from transformers import TrainingArguments, Trainer\n",
    "import accelerate\n",
    "training_args = TrainingArguments(\n",
    "    output_dir=\"./results\",\n",
    "    logging_strategy='steps',\n",
    "    logging_steps=10,\n",
    "    metric_for_best_model='eval_f1',\n",
    "    per_device_eval_batch_size=32,\n",
    "    per_device_train_batch_size=32,\n",
    "    load_best_model_at_end=True,\n",
    "    eval_strategy=\"epoch\",\n",
    "    learning_rate=2e-5,\n",
    "    num_train_epochs=5,\n",
    "    save_strategy='epoch',\n",
    "    greater_is_better=True,\n",
    "    \n",
    ")\n",
    "trainer_unbalanced = Trainer(\n",
    "    model=model_unbalanced,\n",
    "    args=training_args,\n",
    "    train_dataset=train_dataset_unbalanced,\n",
    "    eval_dataset=val_dataset_unbalanced,\n",
    "    compute_metrics=compute_metrics,\n",
    ")\n",
    "trainer_unbalanced.train()"
   ]
  },
  {
   "cell_type": "code",
   "execution_count": 35,
   "id": "320eae61-5d54-4f5d-9acc-9724c3c981f2",
   "metadata": {},
   "outputs": [],
   "source": [
    "from sklearn.metrics import classification_report, confusion_matrix\n",
    "from tqdm import tqdm\n",
    "import torch\n",
    "def test(trainer, test_dataset):\n",
    "    preds=[]\n",
    "    true=[]\n",
    "    model = trainer.model\n",
    "    model.eval()\n",
    "    with torch.no_grad():\n",
    "        for sample in tqdm(test_dataset):\n",
    "            input_ids=torch.tensor(sample['input_ids'], dtype=torch.long).unsqueeze(0).to('cuda')\n",
    "            attention_mask=torch.tensor(sample['attention_mask'], dtype=torch.long).unsqueeze(0).to('cuda')\n",
    "            output = model(input_ids=input_ids, attention_mask=attention_mask)\n",
    "            pred = torch.argmax(output.logits, dim=1).item()\n",
    "            preds.append(pred)\n",
    "            true.append(sample['label'])\n",
    "    print(classification_report(y_pred=preds, y_true=true))\n",
    "    print(confusion_matrix(y_pred=preds, y_true=true))"
   ]
  },
  {
   "cell_type": "code",
   "execution_count": 36,
   "id": "2c72667d-023f-4c97-b75c-bdd02dbe43a3",
   "metadata": {},
   "outputs": [
    {
     "name": "stderr",
     "output_type": "stream",
     "text": [
      "100%|████████████████████████████████████████████████████████████████████████████████| 561/561 [00:05<00:00, 104.16it/s]"
     ]
    },
    {
     "name": "stdout",
     "output_type": "stream",
     "text": [
      "              precision    recall  f1-score   support\n",
      "\n",
      "           0       0.78      0.72      0.75       148\n",
      "           1       0.61      0.70      0.65        82\n",
      "           2       0.72      0.56      0.63        75\n",
      "           3       0.79      0.84      0.82       256\n",
      "\n",
      "    accuracy                           0.75       561\n",
      "   macro avg       0.73      0.71      0.71       561\n",
      "weighted avg       0.75      0.75      0.75       561\n",
      "\n",
      "[[107  10   6  25]\n",
      " [  7  57   3  15]\n",
      " [ 10   7  42  16]\n",
      " [ 14  19   7 216]]\n"
     ]
    },
    {
     "name": "stderr",
     "output_type": "stream",
     "text": [
      "\n"
     ]
    }
   ],
   "source": [
    "test(trainer_balanced, test_dataset_balanced)"
   ]
  },
  {
   "cell_type": "code",
   "execution_count": 37,
   "id": "c00b85e1-b9cd-4166-b1d8-46b0e2627b30",
   "metadata": {},
   "outputs": [
    {
     "name": "stderr",
     "output_type": "stream",
     "text": [
      "100%|████████████████████████████████████████████████████████████████████████████████| 561/561 [00:05<00:00, 101.81it/s]"
     ]
    },
    {
     "name": "stdout",
     "output_type": "stream",
     "text": [
      "              precision    recall  f1-score   support\n",
      "\n",
      "           0       0.73      0.75      0.74       148\n",
      "           1       0.76      0.67      0.71        82\n",
      "           2       0.74      0.45      0.56        75\n",
      "           3       0.77      0.88      0.82       256\n",
      "\n",
      "    accuracy                           0.76       561\n",
      "   macro avg       0.75      0.69      0.71       561\n",
      "weighted avg       0.76      0.76      0.75       561\n",
      "\n",
      "[[111   5   4  28]\n",
      " [  8  55   1  18]\n",
      " [ 16   5  34  20]\n",
      " [ 17   7   7 225]]\n"
     ]
    },
    {
     "name": "stderr",
     "output_type": "stream",
     "text": [
      "\n"
     ]
    }
   ],
   "source": [
    "test(trainer_unbalanced, test_dataset_unbalanced)"
   ]
  },
  {
   "cell_type": "code",
   "execution_count": null,
   "id": "cef41a3a-7c16-42a7-987e-f2d6c01cd70e",
   "metadata": {},
   "outputs": [],
   "source": []
  }
 ],
 "metadata": {
  "kernelspec": {
   "display_name": "venv",
   "language": "python",
   "name": "venv"
  },
  "language_info": {
   "codemirror_mode": {
    "name": "ipython",
    "version": 3
   },
   "file_extension": ".py",
   "mimetype": "text/x-python",
   "name": "python",
   "nbconvert_exporter": "python",
   "pygments_lexer": "ipython3",
   "version": "3.10.12"
  }
 },
 "nbformat": 4,
 "nbformat_minor": 5
}
