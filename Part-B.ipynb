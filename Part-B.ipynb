{
 "cells": [
  {
   "cell_type": "markdown",
   "id": "ee81e187",
   "metadata": {},
   "source": [
    "# Read Data"
   ]
  },
  {
   "cell_type": "code",
   "execution_count": 1,
   "id": "c7ee8c7a",
   "metadata": {},
   "outputs": [],
   "source": [
    "import numpy as np\n",
    "import pandas as pd"
   ]
  },
  {
   "cell_type": "code",
   "execution_count": 242,
   "id": "94b9a4c9",
   "metadata": {},
   "outputs": [],
   "source": [
    "X = pd.read_pickle('data.pickle')\n",
    "X_embed = pd.read_pickle('precomputed_embeddings.pkl')\n",
    "y = pd.read_pickle('labels.pickle')\n",
    "with open('vocab.txt', 'r') as f:\n",
    "\tvocab = f.read().split(\" \")\n",
    "\tvocab.pop()"
   ]
  },
  {
   "cell_type": "code",
   "execution_count": 243,
   "id": "2ad42f65",
   "metadata": {},
   "outputs": [
    {
     "data": {
      "text/plain": [
       "(2784, 2784, 2784, 9210)"
      ]
     },
     "execution_count": 243,
     "metadata": {},
     "output_type": "execute_result"
    }
   ],
   "source": [
    "len(X), len(X_embed), len(y), len(vocab)"
   ]
  },
  {
   "cell_type": "markdown",
   "id": "c5aa34b9",
   "metadata": {},
   "source": [
    "# Split Data"
   ]
  },
  {
   "cell_type": "code",
   "execution_count": 244,
   "id": "51ebb322",
   "metadata": {},
   "outputs": [],
   "source": [
    "import torch\n",
    "from sklearn.model_selection import train_test_split"
   ]
  },
  {
   "cell_type": "code",
   "execution_count": 245,
   "id": "76122f93",
   "metadata": {},
   "outputs": [],
   "source": [
    "train_X, test_X, train_y, test_y = train_test_split(X, y, test_size=0.2, random_state=777)\n",
    "train_X, val_X, train_y, val_y = train_test_split(train_X, train_y, test_size=0.15, random_state=777)"
   ]
  },
  {
   "cell_type": "code",
   "execution_count": 246,
   "id": "5e9ab7b6-c946-4ebf-9bf7-ee6c805a20aa",
   "metadata": {},
   "outputs": [],
   "source": [
    "train_X_embed, test_X_embed, train_y_embed, test_y_embed = train_test_split(X_embed, y, test_size=0.2, random_state=777)\n",
    "train_X_embed, val_X_embed, train_y_embed, val_y_embed = train_test_split(train_X_embed, train_y_embed, test_size=0.15, random_state=777)"
   ]
  },
  {
   "cell_type": "code",
   "execution_count": 248,
   "id": "8339ef43",
   "metadata": {},
   "outputs": [
    {
     "data": {
      "text/plain": [
       "((1892,), (335,), (557,), (1892,), (335,), (557,))"
      ]
     },
     "execution_count": 248,
     "metadata": {},
     "output_type": "execute_result"
    }
   ],
   "source": [
    "train_X.shape, val_X.shape, test_X.shape, train_X_embed.shape, val_X_embed.shape, test_X_embed.shape, "
   ]
  },
  {
   "cell_type": "code",
   "execution_count": 249,
   "id": "b2f7ca5d",
   "metadata": {},
   "outputs": [
    {
     "data": {
      "text/plain": [
       "((1892, 4), (335, 4), (557, 4))"
      ]
     },
     "execution_count": 249,
     "metadata": {},
     "output_type": "execute_result"
    }
   ],
   "source": [
    "train_y.shape, val_y.shape, test_y.shape"
   ]
  },
  {
   "cell_type": "code",
   "execution_count": 279,
   "id": "4cc4393a",
   "metadata": {},
   "outputs": [],
   "source": [
    "from torch.utils.data import Dataset, DataLoader\n",
    "class ClassificationDataset(Dataset):\n",
    "    def __init__(self, X, y, is_embeddings):\n",
    "        self.X = X\n",
    "        self.y = y\n",
    "        self.is_embeddings = is_embeddings\n",
    "    def __len__(self):\n",
    "        return len(self.X)\n",
    "    def __getitem__(self, idx):\n",
    "        if self.is_embeddings:\n",
    "            return torch.tensor(self.X[idx], dtype=torch.float), torch.tensor(self.y[idx], dtype=torch.float)\n",
    "        return torch.tensor(self.X[idx], dtype=torch.int), torch.tensor(self.y[idx], dtype=torch.float)\n"
   ]
  },
  {
   "cell_type": "code",
   "execution_count": 280,
   "id": "c9f0f772",
   "metadata": {},
   "outputs": [],
   "source": [
    "train_dataset_embed = ClassificationDataset(train_X_embed, train_y_embed, True)\n",
    "val_dataset_embed = ClassificationDataset(val_X_embed, val_y_embed, True)\n",
    "test_dataset_embed = ClassificationDataset(test_X_embed, test_y_embed, True)\n",
    "\n",
    "train_loader_embed = DataLoader(train_dataset_embed, batch_size=16, shuffle=True)\n",
    "val_loader_embed = DataLoader(val_dataset_embed, batch_size=16, shuffle=False)\n",
    "test_loader_embed = DataLoader(test_dataset_embed, batch_size=16, shuffle=False)"
   ]
  },
  {
   "cell_type": "code",
   "execution_count": 281,
   "id": "8005d478-a233-4db6-9165-67325bc81c0b",
   "metadata": {},
   "outputs": [],
   "source": [
    "train_dataset = ClassificationDataset(train_X, train_y, False)\n",
    "val_dataset = ClassificationDataset(val_X, val_y, False)\n",
    "test_dataset = ClassificationDataset(test_X, test_y, False)\n",
    "\n",
    "train_loader = DataLoader(train_dataset, batch_size=16, shuffle=True)\n",
    "val_loader = DataLoader(val_dataset, batch_size=16, shuffle=False)\n",
    "test_loader = DataLoader(test_dataset, batch_size=16, shuffle=False)"
   ]
  },
  {
   "cell_type": "markdown",
   "id": "a366cfc3",
   "metadata": {},
   "source": [
    "# RNN"
   ]
  },
  {
   "cell_type": "code",
   "execution_count": 282,
   "id": "0a004bd4",
   "metadata": {},
   "outputs": [],
   "source": [
    "from torch import nn\n",
    "from torch.optim import Adam\n",
    "from torch.functional import F"
   ]
  },
  {
   "cell_type": "code",
   "execution_count": 303,
   "id": "b61d2384",
   "metadata": {},
   "outputs": [],
   "source": [
    "class LSTM(nn.Module):\n",
    "    def __init__(self,\n",
    "              vocab_size,\n",
    "              embedding_dim,\n",
    "              hidden_dim,\n",
    "              num_layers,\n",
    "              num_classes,\n",
    "              max_len,\n",
    "              bidirectional,\n",
    "              dropout,\n",
    "              is_embedding_layer = True,\n",
    "    ):\n",
    "        super().__init__()\n",
    "        self.is_embedding_layer = is_embedding_layer\n",
    "        # Embeddings, which can be pretrained or normally trained\n",
    "        if (self.is_embedding_layer):\n",
    "            self.embeddings = nn.Embedding(\n",
    "                num_embeddings=vocab_size,\n",
    "                embedding_dim=embedding_dim\n",
    "            )\n",
    "        # LSTM Layer\n",
    "        self.lstm = nn.LSTM(embedding_dim, hidden_dim, num_layers, bidirectional=bidirectional, dropout=dropout)\n",
    "        # Linear Layer\n",
    "        if bidirectional:\n",
    "            self.linear = nn.Linear(max_len * hidden_dim * 2, num_classes)\n",
    "        else:\n",
    "            self.linear = nn.Linear(max_len * hidden_dim, num_classes)\n",
    "       \n",
    "        self.softmax = nn.Softmax()\n",
    "    def forward(self, x):\n",
    "        if self.is_embedding_layer:\n",
    "            x = self.embeddings(x)\n",
    "        lstm_out, _ = self.lstm(x)\n",
    "        if self.is_embedding_layer:\n",
    "            lstm_out = lstm_out.reshape(lstm_out.shape[0], -1)\n",
    "        linear = self.linear(lstm_out)\n",
    "        return linear"
   ]
  },
  {
   "cell_type": "markdown",
   "id": "6cd637ba",
   "metadata": {},
   "source": [
    "# Train & Validate "
   ]
  },
  {
   "cell_type": "code",
   "execution_count": 284,
   "id": "2ad75936-1991-467f-a310-810e116dbadf",
   "metadata": {
    "jupyter": {
     "source_hidden": true
    }
   },
   "outputs": [],
   "source": [
    "import optuna\n",
    "import itertools\n",
    "from tqdm import tqdm\n",
    "from torcheval.metrics.functional import multiclass_f1_score"
   ]
  },
  {
   "cell_type": "code",
   "execution_count": 285,
   "id": "3b0540d9-edf2-4ce4-a349-cfc11e0c4903",
   "metadata": {},
   "outputs": [],
   "source": [
    "VOCAB_SIZE = len(vocab)\n",
    "NUM_CLASSES = 4\n",
    "MAX_LEN = 37\n",
    "DEVICE = 'cuda' if torch.cuda.is_available() else 'cpu'"
   ]
  },
  {
   "cell_type": "code",
   "execution_count": 444,
   "id": "57b4819a",
   "metadata": {},
   "outputs": [],
   "source": [
    "def objective(trial, epochs=3):\n",
    "    # Hyperparameter search space\n",
    "    embedding_dim = trial.suggest_categorical(\"embedding_dim\", [128, 256, 512, 1024])\n",
    "    hidden_dim = trial.suggest_categorical(\"hidden_dim\", [64, 128, 256, 512])\n",
    "    num_layers = trial.suggest_int(\"num_layers\", 1, 6)\n",
    "    bidirectional = trial.suggest_categorical(\"bidirectional\", [True, False])\n",
    "    dropout = trial.suggest_categorical(\"dropout\", [0.1, 0.25, 0.5])\n",
    "    weights_choice = trial.suggest_categorical(\"weights\", [None, [0.9521203830369357, 1.6893203883495145, 1.86096256684492, 0.5493291239147593]])\n",
    "\n",
    "    weights = (\n",
    "        None if weights_choice is None\n",
    "        else torch.tensor(weights_choice).to(DEVICE)\n",
    "    )\n",
    "    lr = trial.suggest_float(\"lr\", 1e-4, 1e-2, log=True)\n",
    "    model = LSTM(\n",
    "        vocab_size=VOCAB_SIZE,\n",
    "        embedding_dim=embedding_dim,\n",
    "        hidden_dim=hidden_dim,\n",
    "        num_layers=num_layers,\n",
    "        num_classes=NUM_CLASSES,\n",
    "        max_len=MAX_LEN,\n",
    "        bidirectional=bidirectional,\n",
    "        dropout=dropout,\n",
    "        is_embedding_layer=True\n",
    "    ).to(DEVICE)\n",
    "    criterion = nn.CrossEntropyLoss(weight=weights)\n",
    "    optimizer = Adam(model.parameters(), lr=lr)\n",
    "    \n",
    "\t\n",
    "    model.train()\n",
    "    for epoch in range(epochs):\n",
    "        for X_batch, y_batch in train_loader:\n",
    "            X_batch, y_batch = X_batch.to(DEVICE), y_batch.to(DEVICE)\n",
    "            optimizer.zero_grad()\n",
    "            y_preds = model(X_batch)\n",
    "            loss = criterion(y_preds, y_batch)\n",
    "            loss.backward()\n",
    "            optimizer.step()\n",
    "\n",
    "    # Validation\n",
    "    model.eval()\n",
    "    y_preds_list = []\n",
    "    y_true_list = []\n",
    "    with torch.no_grad():\n",
    "        for X_batch, y_batch in val_loader:\n",
    "            X_batch, y_batch = X_batch.to(DEVICE), y_batch.to(DEVICE)\n",
    "            y_preds = model(X_batch)\n",
    "            y_preds_list.extend(y_preds.cpu().numpy())\n",
    "            y_true_list.extend(torch.argmax(y_batch, dim=1).cpu().numpy())\n",
    "\n",
    "    f1 = multiclass_f1_score(torch.Tensor(np.array(y_preds_list)), torch.Tensor(np.array(y_true_list)), num_classes=4)\n",
    "    return f1\n"
   ]
  },
  {
   "cell_type": "code",
   "execution_count": null,
   "id": "8c170281-b438-47a3-b21b-0c002ef071ef",
   "metadata": {},
   "outputs": [],
   "source": [
    "def objective_embed(trial, epochs=10):\n",
    "    # Hyperparameter search space\n",
    "    DEVICE = 'cuda' if torch.cuda.is_available() else 'cpu'\n",
    "    print(DEVICE)\n",
    "    embedding_dim = trial.suggest_categorical(\"embedding_dim\", [768])\n",
    "    hidden_dim = trial.suggest_categorical(\"hidden_dim\", [256, 512, 1024, 2048])\n",
    "    num_layers = trial.suggest_int(\"num_layers\", 1, 6)\n",
    "    bidirectional = trial.suggest_categorical(\"bidirectional\", [True, False])\n",
    "    dropout = trial.suggest_categorical(\"dropout\", [0.1, 0.25, 0.5])\n",
    "    weights_choice = trial.suggest_categorical(\"weights\", [None, [0.9521203830369357, 1.6893203883495145, 1.86096256684492, 0.5493291239147593]])\n",
    "\n",
    "    weights = (\n",
    "        None if weights_choice is None\n",
    "        else torch.tensor(weights_choice).to(DEVICE)\n",
    "    )\n",
    "    lr = trial.suggest_float(\"lr\", 1e-4, 1e-2, log=True)\n",
    "    model = LSTM(\n",
    "        vocab_size=VOCAB_SIZE,\n",
    "        embedding_dim=embedding_dim,\n",
    "        hidden_dim=hidden_dim,\n",
    "        num_layers=num_layers,\n",
    "        num_classes=NUM_CLASSES,\n",
    "        max_len=1,\n",
    "        bidirectional=bidirectional,\n",
    "        dropout=dropout,\n",
    "        is_embedding_layer=False\n",
    "    ).to(DEVICE)\n",
    "    criterion = nn.CrossEntropyLoss(weight=weights)\n",
    "    optimizer = Adam(model.parameters(), lr=lr)\n",
    "    \n",
    "\t\n",
    "    model.train()\n",
    "    for epoch in range(epochs):\n",
    "        for X_batch, y_batch in train_loader_embed:\n",
    "            X_batch, y_batch = X_batch.to(DEVICE), y_batch.to(DEVICE)\n",
    "            optimizer.zero_grad()\n",
    "            y_preds = model(X_batch)\n",
    "            loss = criterion(y_preds, y_batch)\n",
    "            loss.backward()\n",
    "            optimizer.step()\n",
    "\n",
    "    # Validation\n",
    "    model.eval()\n",
    "    y_preds_list = []\n",
    "    y_true_list = []\n",
    "    with torch.no_grad():\n",
    "        for X_batch, y_batch in val_loader_embed:\n",
    "            X_batch, y_batch = X_batch.to(DEVICE), y_batch.to(DEVICE)\n",
    "            y_preds = model(X_batch)\n",
    "            y_preds_list.extend(y_preds.detach().cpu().numpy())\n",
    "            y_true_list.extend(torch.argmax(y_batch, dim=1).detach().cpu().numpy())\n",
    "\n",
    "    f1 = multiclass_f1_score(torch.Tensor(np.array(y_preds_list)), torch.Tensor(np.array(y_true_list)), num_classes=4)\n",
    "    return f1\n"
   ]
  },
  {
   "cell_type": "code",
   "execution_count": 450,
   "id": "ae622d0e",
   "metadata": {
    "scrolled": true
   },
   "outputs": [
    {
     "name": "stderr",
     "output_type": "stream",
     "text": [
      "[I 2025-05-09 18:32:04,081] A new study created in memory with name: no-name-59777227-7fef-425a-beb2-286f5b567801\n",
      "[I 2025-05-09 18:32:06,260] Trial 0 finished with value: 0.4507462680339813 and parameters: {'embedding_dim': 1024, 'hidden_dim': 128, 'num_layers': 6, 'bidirectional': False, 'dropout': 0.5, 'weights': [0.9521203830369357, 1.6893203883495145, 1.86096256684492, 0.5493291239147593], 'lr': 0.0016190447856265172}. Best is trial 0 with value: 0.4507462680339813.\n",
      "/home/malik/.local/lib/python3.10/site-packages/torch/nn/modules/rnn.py:123: UserWarning: dropout option adds dropout after all but last recurrent layer, so non-zero dropout expects num_layers greater than 1, but got dropout=0.25 and num_layers=1\n",
      "  warnings.warn(\n",
      "[I 2025-05-09 18:32:07,525] Trial 1 finished with value: 0.5671641826629639 and parameters: {'embedding_dim': 256, 'hidden_dim': 512, 'num_layers': 1, 'bidirectional': False, 'dropout': 0.25, 'weights': [0.9521203830369357, 1.6893203883495145, 1.86096256684492, 0.5493291239147593], 'lr': 0.0038283933119225523}. Best is trial 1 with value: 0.5671641826629639.\n",
      "[I 2025-05-09 18:32:09,607] Trial 2 finished with value: 0.4507462680339813 and parameters: {'embedding_dim': 1024, 'hidden_dim': 128, 'num_layers': 3, 'bidirectional': True, 'dropout': 0.5, 'weights': None, 'lr': 0.00018986665432632366}. Best is trial 1 with value: 0.5671641826629639.\n",
      "[I 2025-05-09 18:32:12,448] Trial 3 finished with value: 0.4507462680339813 and parameters: {'embedding_dim': 1024, 'hidden_dim': 256, 'num_layers': 5, 'bidirectional': False, 'dropout': 0.1, 'weights': None, 'lr': 0.00017852811599098747}. Best is trial 1 with value: 0.5671641826629639.\n",
      "[I 2025-05-09 18:32:14,485] Trial 4 finished with value: 0.48059701919555664 and parameters: {'embedding_dim': 256, 'hidden_dim': 128, 'num_layers': 5, 'bidirectional': True, 'dropout': 0.25, 'weights': None, 'lr': 0.00952408755992888}. Best is trial 1 with value: 0.5671641826629639.\n",
      "[I 2025-05-09 18:32:18,128] Trial 5 finished with value: 0.4507462680339813 and parameters: {'embedding_dim': 1024, 'hidden_dim': 512, 'num_layers': 3, 'bidirectional': False, 'dropout': 0.25, 'weights': None, 'lr': 0.00012628723290861545}. Best is trial 1 with value: 0.5671641826629639.\n",
      "[I 2025-05-09 18:32:20,692] Trial 6 finished with value: 0.5940298438072205 and parameters: {'embedding_dim': 512, 'hidden_dim': 128, 'num_layers': 5, 'bidirectional': True, 'dropout': 0.25, 'weights': None, 'lr': 0.0018499024630556128}. Best is trial 6 with value: 0.5940298438072205.\n",
      "[I 2025-05-09 18:32:22,213] Trial 7 finished with value: 0.3373134434223175 and parameters: {'embedding_dim': 128, 'hidden_dim': 64, 'num_layers': 3, 'bidirectional': True, 'dropout': 0.25, 'weights': [0.9521203830369357, 1.6893203883495145, 1.86096256684492, 0.5493291239147593], 'lr': 0.00011545218844513651}. Best is trial 6 with value: 0.5940298438072205.\n",
      "[I 2025-05-09 18:32:24,413] Trial 8 finished with value: 0.641791045665741 and parameters: {'embedding_dim': 1024, 'hidden_dim': 256, 'num_layers': 1, 'bidirectional': True, 'dropout': 0.25, 'weights': None, 'lr': 0.00037766492774183246}. Best is trial 8 with value: 0.641791045665741.\n",
      "[I 2025-05-09 18:32:26,100] Trial 9 finished with value: 0.26567164063453674 and parameters: {'embedding_dim': 256, 'hidden_dim': 64, 'num_layers': 6, 'bidirectional': False, 'dropout': 0.1, 'weights': [0.9521203830369357, 1.6893203883495145, 1.86096256684492, 0.5493291239147593], 'lr': 0.00012698849190529107}. Best is trial 8 with value: 0.641791045665741.\n",
      "/home/malik/.local/lib/python3.10/site-packages/torch/nn/modules/rnn.py:123: UserWarning: dropout option adds dropout after all but last recurrent layer, so non-zero dropout expects num_layers greater than 1, but got dropout=0.1 and num_layers=1\n",
      "  warnings.warn(\n",
      "[I 2025-05-09 18:32:27,804] Trial 10 finished with value: 0.6268656849861145 and parameters: {'embedding_dim': 512, 'hidden_dim': 256, 'num_layers': 1, 'bidirectional': True, 'dropout': 0.1, 'weights': None, 'lr': 0.0005094112081869693}. Best is trial 8 with value: 0.641791045665741.\n",
      "[I 2025-05-09 18:32:29,535] Trial 11 finished with value: 0.6268656849861145 and parameters: {'embedding_dim': 512, 'hidden_dim': 256, 'num_layers': 1, 'bidirectional': True, 'dropout': 0.1, 'weights': None, 'lr': 0.00048396579486230894}. Best is trial 8 with value: 0.641791045665741.\n",
      "[I 2025-05-09 18:32:31,860] Trial 12 finished with value: 0.6328358054161072 and parameters: {'embedding_dim': 512, 'hidden_dim': 256, 'num_layers': 2, 'bidirectional': True, 'dropout': 0.1, 'weights': None, 'lr': 0.00042632884871893065}. Best is trial 8 with value: 0.641791045665741.\n",
      "[I 2025-05-09 18:32:33,826] Trial 13 finished with value: 0.5432835817337036 and parameters: {'embedding_dim': 128, 'hidden_dim': 256, 'num_layers': 2, 'bidirectional': True, 'dropout': 0.1, 'weights': None, 'lr': 0.0003663332746494581}. Best is trial 8 with value: 0.641791045665741.\n",
      "[I 2025-05-09 18:32:36,053] Trial 14 finished with value: 0.5940298438072205 and parameters: {'embedding_dim': 512, 'hidden_dim': 256, 'num_layers': 2, 'bidirectional': True, 'dropout': 0.5, 'weights': None, 'lr': 0.0008362944211855425}. Best is trial 8 with value: 0.641791045665741.\n",
      "[I 2025-05-09 18:32:38,885] Trial 15 finished with value: 0.6268656849861145 and parameters: {'embedding_dim': 1024, 'hidden_dim': 256, 'num_layers': 2, 'bidirectional': True, 'dropout': 0.25, 'weights': None, 'lr': 0.0003267992324854141}. Best is trial 8 with value: 0.641791045665741.\n",
      "[I 2025-05-09 18:32:41,304] Trial 16 finished with value: 0.6358209252357483 and parameters: {'embedding_dim': 512, 'hidden_dim': 256, 'num_layers': 2, 'bidirectional': True, 'dropout': 0.1, 'weights': None, 'lr': 0.0009178742494884602}. Best is trial 8 with value: 0.641791045665741.\n",
      "[I 2025-05-09 18:32:42,643] Trial 17 finished with value: 0.5850746035575867 and parameters: {'embedding_dim': 128, 'hidden_dim': 256, 'num_layers': 1, 'bidirectional': True, 'dropout': 0.1, 'weights': None, 'lr': 0.0010715865658079624}. Best is trial 8 with value: 0.641791045665741.\n",
      "[I 2025-05-09 18:32:44,495] Trial 18 finished with value: 0.4656716287136078 and parameters: {'embedding_dim': 512, 'hidden_dim': 64, 'num_layers': 4, 'bidirectional': True, 'dropout': 0.25, 'weights': [0.9521203830369357, 1.6893203883495145, 1.86096256684492, 0.5493291239147593], 'lr': 0.0033261422239109}. Best is trial 8 with value: 0.641791045665741.\n",
      "[I 2025-05-09 18:32:49,448] Trial 19 finished with value: 0.6149253845214844 and parameters: {'embedding_dim': 1024, 'hidden_dim': 512, 'num_layers': 2, 'bidirectional': True, 'dropout': 0.5, 'weights': None, 'lr': 0.0007980372265992059}. Best is trial 8 with value: 0.641791045665741.\n",
      "[I 2025-05-09 18:32:54,072] Trial 20 finished with value: 0.5492537021636963 and parameters: {'embedding_dim': 1024, 'hidden_dim': 256, 'num_layers': 4, 'bidirectional': True, 'dropout': 0.25, 'weights': None, 'lr': 0.00026104224568447023}. Best is trial 8 with value: 0.641791045665741.\n",
      "[I 2025-05-09 18:32:57,257] Trial 21 finished with value: 0.6149253845214844 and parameters: {'embedding_dim': 512, 'hidden_dim': 256, 'num_layers': 2, 'bidirectional': True, 'dropout': 0.1, 'weights': None, 'lr': 0.000573699135676005}. Best is trial 8 with value: 0.641791045665741.\n",
      "[I 2025-05-09 18:32:59,539] Trial 22 finished with value: 0.6328358054161072 and parameters: {'embedding_dim': 512, 'hidden_dim': 256, 'num_layers': 1, 'bidirectional': True, 'dropout': 0.1, 'weights': None, 'lr': 0.0012918164366589435}. Best is trial 8 with value: 0.641791045665741.\n",
      "[I 2025-05-09 18:33:01,981] Trial 23 finished with value: 0.6089552044868469 and parameters: {'embedding_dim': 512, 'hidden_dim': 256, 'num_layers': 2, 'bidirectional': True, 'dropout': 0.1, 'weights': None, 'lr': 0.0006873534752701837}. Best is trial 8 with value: 0.641791045665741.\n",
      "[I 2025-05-09 18:33:05,159] Trial 24 finished with value: 0.5552238821983337 and parameters: {'embedding_dim': 512, 'hidden_dim': 256, 'num_layers': 3, 'bidirectional': True, 'dropout': 0.1, 'weights': None, 'lr': 0.0002336816064639271}. Best is trial 8 with value: 0.641791045665741.\n",
      "[I 2025-05-09 18:33:06,897] Trial 25 finished with value: 0.611940324306488 and parameters: {'embedding_dim': 512, 'hidden_dim': 256, 'num_layers': 1, 'bidirectional': True, 'dropout': 0.1, 'weights': None, 'lr': 0.00039568512033926514}. Best is trial 8 with value: 0.641791045665741.\n",
      "[I 2025-05-09 18:33:08,474] Trial 26 finished with value: 0.5910447835922241 and parameters: {'embedding_dim': 256, 'hidden_dim': 256, 'num_layers': 2, 'bidirectional': False, 'dropout': 0.1, 'weights': [0.9521203830369357, 1.6893203883495145, 1.86096256684492, 0.5493291239147593], 'lr': 0.0024289178250965033}. Best is trial 8 with value: 0.641791045665741.\n",
      "[I 2025-05-09 18:33:09,977] Trial 27 finished with value: 0.5761194229125977 and parameters: {'embedding_dim': 128, 'hidden_dim': 64, 'num_layers': 3, 'bidirectional': True, 'dropout': 0.1, 'weights': None, 'lr': 0.0012372908334849012}. Best is trial 8 with value: 0.641791045665741.\n",
      "/home/malik/.local/lib/python3.10/site-packages/torch/nn/modules/rnn.py:123: UserWarning: dropout option adds dropout after all but last recurrent layer, so non-zero dropout expects num_layers greater than 1, but got dropout=0.5 and num_layers=1\n",
      "  warnings.warn(\n",
      "[I 2025-05-09 18:33:12,144] Trial 28 finished with value: 0.6238806247711182 and parameters: {'embedding_dim': 512, 'hidden_dim': 512, 'num_layers': 1, 'bidirectional': True, 'dropout': 0.5, 'weights': None, 'lr': 0.00028443786393249793}. Best is trial 8 with value: 0.641791045665741.\n",
      "[I 2025-05-09 18:33:14,135] Trial 29 finished with value: 0.4776119291782379 and parameters: {'embedding_dim': 1024, 'hidden_dim': 128, 'num_layers': 4, 'bidirectional': False, 'dropout': 0.25, 'weights': [0.9521203830369357, 1.6893203883495145, 1.86096256684492, 0.5493291239147593], 'lr': 0.0015644403923040918}. Best is trial 8 with value: 0.641791045665741.\n",
      "[I 2025-05-09 18:33:17,029] Trial 30 finished with value: 0.6686567068099976 and parameters: {'embedding_dim': 1024, 'hidden_dim': 256, 'num_layers': 2, 'bidirectional': True, 'dropout': 0.5, 'weights': None, 'lr': 0.0006306659094011775}. Best is trial 30 with value: 0.6686567068099976.\n",
      "[I 2025-05-09 18:33:19,825] Trial 31 finished with value: 0.641791045665741 and parameters: {'embedding_dim': 1024, 'hidden_dim': 256, 'num_layers': 2, 'bidirectional': True, 'dropout': 0.5, 'weights': None, 'lr': 0.0006465540733975612}. Best is trial 30 with value: 0.6686567068099976.\n",
      "[I 2025-05-09 18:33:22,067] Trial 32 finished with value: 0.6238806247711182 and parameters: {'embedding_dim': 1024, 'hidden_dim': 256, 'num_layers': 1, 'bidirectional': True, 'dropout': 0.5, 'weights': None, 'lr': 0.0006552293729399986}. Best is trial 30 with value: 0.6686567068099976.\n",
      "[I 2025-05-09 18:33:25,039] Trial 33 finished with value: 0.6059701442718506 and parameters: {'embedding_dim': 1024, 'hidden_dim': 256, 'num_layers': 2, 'bidirectional': True, 'dropout': 0.5, 'weights': None, 'lr': 0.0009176640441359142}. Best is trial 30 with value: 0.6686567068099976.\n",
      "[I 2025-05-09 18:33:27,624] Trial 34 finished with value: 0.4507462680339813 and parameters: {'embedding_dim': 1024, 'hidden_dim': 256, 'num_layers': 3, 'bidirectional': False, 'dropout': 0.5, 'weights': None, 'lr': 0.00018885848573136632}. Best is trial 30 with value: 0.6686567068099976.\n",
      "[I 2025-05-09 18:33:30,505] Trial 35 finished with value: 0.5194029808044434 and parameters: {'embedding_dim': 1024, 'hidden_dim': 512, 'num_layers': 1, 'bidirectional': True, 'dropout': 0.5, 'weights': None, 'lr': 0.005950885066765555}. Best is trial 30 with value: 0.6686567068099976.\n",
      "[I 2025-05-09 18:33:32,507] Trial 36 finished with value: 0.6179104447364807 and parameters: {'embedding_dim': 1024, 'hidden_dim': 128, 'num_layers': 2, 'bidirectional': True, 'dropout': 0.5, 'weights': [0.9521203830369357, 1.6893203883495145, 1.86096256684492, 0.5493291239147593], 'lr': 0.000647278173164156}. Best is trial 30 with value: 0.6686567068099976.\n",
      "[I 2025-05-09 18:33:35,120] Trial 37 finished with value: 0.5761194229125977 and parameters: {'embedding_dim': 1024, 'hidden_dim': 256, 'num_layers': 3, 'bidirectional': False, 'dropout': 0.5, 'weights': None, 'lr': 0.002017640837995618}. Best is trial 30 with value: 0.6686567068099976.\n",
      "[I 2025-05-09 18:33:37,386] Trial 38 finished with value: 0.6238806247711182 and parameters: {'embedding_dim': 1024, 'hidden_dim': 256, 'num_layers': 1, 'bidirectional': True, 'dropout': 0.5, 'weights': None, 'lr': 0.001206037178257569}. Best is trial 30 with value: 0.6686567068099976.\n",
      "[I 2025-05-09 18:33:38,822] Trial 39 finished with value: 0.5970149040222168 and parameters: {'embedding_dim': 256, 'hidden_dim': 128, 'num_layers': 2, 'bidirectional': True, 'dropout': 0.25, 'weights': None, 'lr': 0.0009201547070067699}. Best is trial 30 with value: 0.6686567068099976.\n",
      "[I 2025-05-09 18:33:40,894] Trial 40 finished with value: 0.1492537260055542 and parameters: {'embedding_dim': 1024, 'hidden_dim': 64, 'num_layers': 6, 'bidirectional': False, 'dropout': 0.5, 'weights': [0.9521203830369357, 1.6893203883495145, 1.86096256684492, 0.5493291239147593], 'lr': 0.00016127764517844326}. Best is trial 30 with value: 0.6686567068099976.\n",
      "[I 2025-05-09 18:33:44,095] Trial 41 finished with value: 0.5940298438072205 and parameters: {'embedding_dim': 1024, 'hidden_dim': 256, 'num_layers': 3, 'bidirectional': True, 'dropout': 0.25, 'weights': None, 'lr': 0.0004603376155211527}. Best is trial 30 with value: 0.6686567068099976.\n",
      "[I 2025-05-09 18:33:46,111] Trial 42 finished with value: 0.5910447835922241 and parameters: {'embedding_dim': 256, 'hidden_dim': 256, 'num_layers': 2, 'bidirectional': True, 'dropout': 0.5, 'weights': None, 'lr': 0.00041951735336426775}. Best is trial 30 with value: 0.6686567068099976.\n",
      "[I 2025-05-09 18:33:48,254] Trial 43 finished with value: 0.6179104447364807 and parameters: {'embedding_dim': 512, 'hidden_dim': 256, 'num_layers': 2, 'bidirectional': True, 'dropout': 0.1, 'weights': None, 'lr': 0.0003399522116177496}. Best is trial 30 with value: 0.6686567068099976.\n",
      "[I 2025-05-09 18:33:51,887] Trial 44 finished with value: 0.6000000238418579 and parameters: {'embedding_dim': 1024, 'hidden_dim': 256, 'num_layers': 3, 'bidirectional': True, 'dropout': 0.25, 'weights': None, 'lr': 0.0005854425712384731}. Best is trial 30 with value: 0.6686567068099976.\n",
      "[I 2025-05-09 18:33:53,681] Trial 45 finished with value: 0.5582089424133301 and parameters: {'embedding_dim': 128, 'hidden_dim': 256, 'num_layers': 2, 'bidirectional': True, 'dropout': 0.1, 'weights': None, 'lr': 0.0007574707539855255}. Best is trial 30 with value: 0.6686567068099976.\n",
      "[I 2025-05-09 18:33:55,382] Trial 46 finished with value: 0.6358209252357483 and parameters: {'embedding_dim': 512, 'hidden_dim': 256, 'num_layers': 1, 'bidirectional': True, 'dropout': 0.5, 'weights': None, 'lr': 0.000505839675030915}. Best is trial 30 with value: 0.6686567068099976.\n",
      "[I 2025-05-09 18:33:58,566] Trial 47 finished with value: 0.6298507452011108 and parameters: {'embedding_dim': 1024, 'hidden_dim': 512, 'num_layers': 1, 'bidirectional': True, 'dropout': 0.5, 'weights': None, 'lr': 0.0005291090618702057}. Best is trial 30 with value: 0.6686567068099976.\n",
      "[I 2025-05-09 18:34:00,371] Trial 48 finished with value: 0.5880597233772278 and parameters: {'embedding_dim': 512, 'hidden_dim': 256, 'num_layers': 1, 'bidirectional': True, 'dropout': 0.5, 'weights': None, 'lr': 0.0015958116607078822}. Best is trial 30 with value: 0.6686567068099976.\n",
      "[I 2025-05-09 18:34:01,631] Trial 49 finished with value: 0.5283582210540771 and parameters: {'embedding_dim': 256, 'hidden_dim': 128, 'num_layers': 1, 'bidirectional': True, 'dropout': 0.5, 'weights': None, 'lr': 0.0003007350606058316}. Best is trial 30 with value: 0.6686567068099976.\n",
      "[I 2025-05-09 18:34:03,279] Trial 50 finished with value: 0.5283582210540771 and parameters: {'embedding_dim': 1024, 'hidden_dim': 64, 'num_layers': 1, 'bidirectional': True, 'dropout': 0.5, 'weights': [0.9521203830369357, 1.6893203883495145, 1.86096256684492, 0.5493291239147593], 'lr': 0.00023401416232648515}. Best is trial 30 with value: 0.6686567068099976.\n",
      "[I 2025-05-09 18:34:05,600] Trial 51 finished with value: 0.6179104447364807 and parameters: {'embedding_dim': 512, 'hidden_dim': 256, 'num_layers': 2, 'bidirectional': True, 'dropout': 0.25, 'weights': None, 'lr': 0.00045213954812559765}. Best is trial 30 with value: 0.6686567068099976.\n",
      "[I 2025-05-09 18:34:07,872] Trial 52 finished with value: 0.6149253845214844 and parameters: {'embedding_dim': 512, 'hidden_dim': 256, 'num_layers': 2, 'bidirectional': True, 'dropout': 0.1, 'weights': None, 'lr': 0.0003741219149442677}. Best is trial 30 with value: 0.6686567068099976.\n",
      "[I 2025-05-09 18:34:09,554] Trial 53 finished with value: 0.6089552044868469 and parameters: {'embedding_dim': 512, 'hidden_dim': 256, 'num_layers': 1, 'bidirectional': True, 'dropout': 0.5, 'weights': None, 'lr': 0.001058551058841111}. Best is trial 30 with value: 0.6686567068099976.\n",
      "[I 2025-05-09 18:34:13,754] Trial 54 finished with value: 0.5850746035575867 and parameters: {'embedding_dim': 512, 'hidden_dim': 256, 'num_layers': 5, 'bidirectional': True, 'dropout': 0.1, 'weights': None, 'lr': 0.0007476265061470178}. Best is trial 30 with value: 0.6686567068099976.\n",
      "[I 2025-05-09 18:34:16,075] Trial 55 finished with value: 0.6059701442718506 and parameters: {'embedding_dim': 512, 'hidden_dim': 256, 'num_layers': 2, 'bidirectional': True, 'dropout': 0.25, 'weights': None, 'lr': 0.0005239090419447308}. Best is trial 30 with value: 0.6686567068099976.\n",
      "[I 2025-05-09 18:34:18,651] Trial 56 finished with value: 0.5432835817337036 and parameters: {'embedding_dim': 128, 'hidden_dim': 256, 'num_layers': 3, 'bidirectional': True, 'dropout': 0.5, 'weights': None, 'lr': 0.0006313630691584917}. Best is trial 30 with value: 0.6686567068099976.\n",
      "[I 2025-05-09 18:34:20,425] Trial 57 finished with value: 0.5701492428779602 and parameters: {'embedding_dim': 512, 'hidden_dim': 256, 'num_layers': 1, 'bidirectional': True, 'dropout': 0.1, 'weights': None, 'lr': 0.00024277705197952866}. Best is trial 30 with value: 0.6686567068099976.\n",
      "[I 2025-05-09 18:34:22,198] Trial 58 finished with value: 0.6238806247711182 and parameters: {'embedding_dim': 512, 'hidden_dim': 256, 'num_layers': 2, 'bidirectional': False, 'dropout': 0.1, 'weights': None, 'lr': 0.0008368618252596344}. Best is trial 30 with value: 0.6686567068099976.\n",
      "[I 2025-05-09 18:34:26,905] Trial 59 finished with value: 0.6238806247711182 and parameters: {'embedding_dim': 1024, 'hidden_dim': 512, 'num_layers': 2, 'bidirectional': True, 'dropout': 0.25, 'weights': None, 'lr': 0.0004285650406733281}. Best is trial 30 with value: 0.6686567068099976.\n",
      "[I 2025-05-09 18:34:28,701] Trial 60 finished with value: 0.6447761058807373 and parameters: {'embedding_dim': 512, 'hidden_dim': 256, 'num_layers': 1, 'bidirectional': True, 'dropout': 0.5, 'weights': None, 'lr': 0.0013961718190669504}. Best is trial 30 with value: 0.6686567068099976.\n",
      "[I 2025-05-09 18:34:30,548] Trial 61 finished with value: 0.6179104447364807 and parameters: {'embedding_dim': 512, 'hidden_dim': 256, 'num_layers': 1, 'bidirectional': True, 'dropout': 0.5, 'weights': None, 'lr': 0.0013370648357262805}. Best is trial 30 with value: 0.6686567068099976.\n",
      "[I 2025-05-09 18:34:32,301] Trial 62 finished with value: 0.6298507452011108 and parameters: {'embedding_dim': 512, 'hidden_dim': 256, 'num_layers': 1, 'bidirectional': True, 'dropout': 0.5, 'weights': None, 'lr': 0.002542843372607558}. Best is trial 30 with value: 0.6686567068099976.\n",
      "[I 2025-05-09 18:34:34,031] Trial 63 finished with value: 0.6238806247711182 and parameters: {'embedding_dim': 512, 'hidden_dim': 256, 'num_layers': 1, 'bidirectional': True, 'dropout': 0.5, 'weights': None, 'lr': 0.0009880515401164043}. Best is trial 30 with value: 0.6686567068099976.\n",
      "[I 2025-05-09 18:34:36,616] Trial 64 finished with value: 0.6179104447364807 and parameters: {'embedding_dim': 512, 'hidden_dim': 256, 'num_layers': 2, 'bidirectional': True, 'dropout': 0.5, 'weights': None, 'lr': 0.0005428373768724666}. Best is trial 30 with value: 0.6686567068099976.\n",
      "[I 2025-05-09 18:34:38,342] Trial 65 finished with value: 0.5970149040222168 and parameters: {'embedding_dim': 512, 'hidden_dim': 256, 'num_layers': 1, 'bidirectional': True, 'dropout': 0.5, 'weights': None, 'lr': 0.00032618642440752877}. Best is trial 30 with value: 0.6686567068099976.\n",
      "[I 2025-05-09 18:34:40,381] Trial 66 finished with value: 0.5492537021636963 and parameters: {'embedding_dim': 1024, 'hidden_dim': 64, 'num_layers': 2, 'bidirectional': True, 'dropout': 0.1, 'weights': [0.9521203830369357, 1.6893203883495145, 1.86096256684492, 0.5493291239147593], 'lr': 0.0006870296318506073}. Best is trial 30 with value: 0.6686567068099976.\n",
      "[I 2025-05-09 18:34:41,885] Trial 67 finished with value: 0.5761194229125977 and parameters: {'embedding_dim': 128, 'hidden_dim': 256, 'num_layers': 1, 'bidirectional': True, 'dropout': 0.5, 'weights': None, 'lr': 0.0008467568773039737}. Best is trial 30 with value: 0.6686567068099976.\n",
      "[I 2025-05-09 18:34:43,551] Trial 68 finished with value: 0.6268656849861145 and parameters: {'embedding_dim': 512, 'hidden_dim': 256, 'num_layers': 1, 'bidirectional': True, 'dropout': 0.1, 'weights': None, 'lr': 0.0019452660647942108}. Best is trial 30 with value: 0.6686567068099976.\n",
      "[I 2025-05-09 18:34:45,713] Trial 69 finished with value: 0.6149253845214844 and parameters: {'embedding_dim': 1024, 'hidden_dim': 256, 'num_layers': 2, 'bidirectional': False, 'dropout': 0.25, 'weights': None, 'lr': 0.0014398349364882627}. Best is trial 30 with value: 0.6686567068099976.\n",
      "[I 2025-05-09 18:34:47,736] Trial 70 finished with value: 0.5582089424133301 and parameters: {'embedding_dim': 256, 'hidden_dim': 128, 'num_layers': 4, 'bidirectional': True, 'dropout': 0.5, 'weights': None, 'lr': 0.0011413301250770955}. Best is trial 30 with value: 0.6686567068099976.\n",
      "[I 2025-05-09 18:34:49,458] Trial 71 finished with value: 0.6358209252357483 and parameters: {'embedding_dim': 512, 'hidden_dim': 256, 'num_layers': 1, 'bidirectional': True, 'dropout': 0.1, 'weights': None, 'lr': 0.002418627036593198}. Best is trial 30 with value: 0.6686567068099976.\n",
      "[I 2025-05-09 18:34:51,224] Trial 72 finished with value: 0.6238806247711182 and parameters: {'embedding_dim': 512, 'hidden_dim': 256, 'num_layers': 1, 'bidirectional': True, 'dropout': 0.1, 'weights': None, 'lr': 0.0038338760572825268}. Best is trial 30 with value: 0.6686567068099976.\n",
      "[I 2025-05-09 18:34:53,010] Trial 73 finished with value: 0.5940298438072205 and parameters: {'embedding_dim': 512, 'hidden_dim': 256, 'num_layers': 1, 'bidirectional': True, 'dropout': 0.1, 'weights': None, 'lr': 0.002692304554636037}. Best is trial 30 with value: 0.6686567068099976.\n",
      "[I 2025-05-09 18:34:55,457] Trial 74 finished with value: 0.5582089424133301 and parameters: {'embedding_dim': 512, 'hidden_dim': 256, 'num_layers': 2, 'bidirectional': True, 'dropout': 0.1, 'weights': None, 'lr': 0.0056025436753934866}. Best is trial 30 with value: 0.6686567068099976.\n",
      "[I 2025-05-09 18:34:57,275] Trial 75 finished with value: 0.6059701442718506 and parameters: {'embedding_dim': 512, 'hidden_dim': 256, 'num_layers': 1, 'bidirectional': True, 'dropout': 0.1, 'weights': None, 'lr': 0.0031791667123404733}. Best is trial 30 with value: 0.6686567068099976.\n",
      "[I 2025-05-09 18:34:59,546] Trial 76 finished with value: 0.6447761058807373 and parameters: {'embedding_dim': 1024, 'hidden_dim': 256, 'num_layers': 1, 'bidirectional': True, 'dropout': 0.1, 'weights': None, 'lr': 0.0004978661763666546}. Best is trial 30 with value: 0.6686567068099976.\n",
      "[I 2025-05-09 18:35:01,867] Trial 77 finished with value: 0.5880597233772278 and parameters: {'embedding_dim': 1024, 'hidden_dim': 256, 'num_layers': 1, 'bidirectional': True, 'dropout': 0.5, 'weights': None, 'lr': 0.0018257732895853175}. Best is trial 30 with value: 0.6686567068099976.\n",
      "[I 2025-05-09 18:35:04,798] Trial 78 finished with value: 0.6328358054161072 and parameters: {'embedding_dim': 1024, 'hidden_dim': 512, 'num_layers': 1, 'bidirectional': True, 'dropout': 0.1, 'weights': [0.9521203830369357, 1.6893203883495145, 1.86096256684492, 0.5493291239147593], 'lr': 0.0004724515664047351}. Best is trial 30 with value: 0.6686567068099976.\n",
      "[I 2025-05-09 18:35:07,100] Trial 79 finished with value: 0.6358209252357483 and parameters: {'embedding_dim': 1024, 'hidden_dim': 256, 'num_layers': 1, 'bidirectional': True, 'dropout': 0.25, 'weights': None, 'lr': 0.0005804281135579577}. Best is trial 30 with value: 0.6686567068099976.\n",
      "[I 2025-05-09 18:35:08,593] Trial 80 finished with value: 0.5373134613037109 and parameters: {'embedding_dim': 1024, 'hidden_dim': 64, 'num_layers': 1, 'bidirectional': False, 'dropout': 0.5, 'weights': None, 'lr': 0.0003779330228743901}. Best is trial 30 with value: 0.6686567068099976.\n",
      "[I 2025-05-09 18:35:10,838] Trial 81 finished with value: 0.6447761058807373 and parameters: {'embedding_dim': 1024, 'hidden_dim': 256, 'num_layers': 1, 'bidirectional': True, 'dropout': 0.25, 'weights': None, 'lr': 0.0006150277632290067}. Best is trial 30 with value: 0.6686567068099976.\n",
      "[I 2025-05-09 18:35:12,940] Trial 82 finished with value: 0.620895504951477 and parameters: {'embedding_dim': 1024, 'hidden_dim': 256, 'num_layers': 1, 'bidirectional': True, 'dropout': 0.25, 'weights': None, 'lr': 0.0009041746386366167}. Best is trial 30 with value: 0.6686567068099976.\n",
      "[I 2025-05-09 18:35:15,112] Trial 83 finished with value: 0.6328358054161072 and parameters: {'embedding_dim': 1024, 'hidden_dim': 256, 'num_layers': 1, 'bidirectional': True, 'dropout': 0.25, 'weights': None, 'lr': 0.0007327729037915404}. Best is trial 30 with value: 0.6686567068099976.\n",
      "[I 2025-05-09 18:35:17,426] Trial 84 finished with value: 0.6059701442718506 and parameters: {'embedding_dim': 1024, 'hidden_dim': 256, 'num_layers': 1, 'bidirectional': True, 'dropout': 0.25, 'weights': None, 'lr': 0.000592794507027521}. Best is trial 30 with value: 0.6686567068099976.\n",
      "[I 2025-05-09 18:35:19,523] Trial 85 finished with value: 0.6358209252357483 and parameters: {'embedding_dim': 1024, 'hidden_dim': 256, 'num_layers': 1, 'bidirectional': True, 'dropout': 0.25, 'weights': None, 'lr': 0.0009960165293873785}. Best is trial 30 with value: 0.6686567068099976.\n",
      "[I 2025-05-09 18:35:21,664] Trial 86 finished with value: 0.641791045665741 and parameters: {'embedding_dim': 1024, 'hidden_dim': 256, 'num_layers': 1, 'bidirectional': True, 'dropout': 0.1, 'weights': None, 'lr': 0.0004951655026942629}. Best is trial 30 with value: 0.6686567068099976.\n",
      "[I 2025-05-09 18:35:24,301] Trial 87 finished with value: 0.641791045665741 and parameters: {'embedding_dim': 1024, 'hidden_dim': 256, 'num_layers': 2, 'bidirectional': True, 'dropout': 0.5, 'weights': None, 'lr': 0.0004866911789152798}. Best is trial 30 with value: 0.6686567068099976.\n",
      "[I 2025-05-09 18:35:26,375] Trial 88 finished with value: 0.5880597233772278 and parameters: {'embedding_dim': 1024, 'hidden_dim': 128, 'num_layers': 2, 'bidirectional': True, 'dropout': 0.25, 'weights': None, 'lr': 0.00028079999424773046}. Best is trial 30 with value: 0.6686567068099976.\n",
      "[I 2025-05-09 18:35:29,675] Trial 89 finished with value: 0.516417920589447 and parameters: {'embedding_dim': 1024, 'hidden_dim': 256, 'num_layers': 3, 'bidirectional': True, 'dropout': 0.5, 'weights': [0.9521203830369357, 1.6893203883495145, 1.86096256684492, 0.5493291239147593], 'lr': 0.0004120912740856081}. Best is trial 30 with value: 0.6686567068099976.\n",
      "[I 2025-05-09 18:35:32,496] Trial 90 finished with value: 0.6447761058807373 and parameters: {'embedding_dim': 1024, 'hidden_dim': 256, 'num_layers': 2, 'bidirectional': True, 'dropout': 0.1, 'weights': None, 'lr': 0.0006623586761912634}. Best is trial 30 with value: 0.6686567068099976.\n",
      "[I 2025-05-09 18:35:35,527] Trial 91 finished with value: 0.6179104447364807 and parameters: {'embedding_dim': 1024, 'hidden_dim': 256, 'num_layers': 2, 'bidirectional': True, 'dropout': 0.1, 'weights': None, 'lr': 0.0006464267119591423}. Best is trial 30 with value: 0.6686567068099976.\n",
      "[I 2025-05-09 18:35:38,394] Trial 92 finished with value: 0.6238806247711182 and parameters: {'embedding_dim': 1024, 'hidden_dim': 256, 'num_layers': 2, 'bidirectional': True, 'dropout': 0.1, 'weights': None, 'lr': 0.0003415690763691013}. Best is trial 30 with value: 0.6686567068099976.\n",
      "[I 2025-05-09 18:35:41,074] Trial 93 finished with value: 0.620895504951477 and parameters: {'embedding_dim': 1024, 'hidden_dim': 256, 'num_layers': 2, 'bidirectional': True, 'dropout': 0.1, 'weights': None, 'lr': 0.00048291410996891216}. Best is trial 30 with value: 0.6686567068099976.\n",
      "[I 2025-05-09 18:35:43,640] Trial 94 finished with value: 0.6029850840568542 and parameters: {'embedding_dim': 1024, 'hidden_dim': 256, 'num_layers': 2, 'bidirectional': True, 'dropout': 0.1, 'weights': None, 'lr': 0.0006046632430716847}. Best is trial 30 with value: 0.6686567068099976.\n",
      "[I 2025-05-09 18:35:46,418] Trial 95 finished with value: 0.6358209252357483 and parameters: {'embedding_dim': 1024, 'hidden_dim': 256, 'num_layers': 2, 'bidirectional': True, 'dropout': 0.1, 'weights': None, 'lr': 0.0007195214211015323}. Best is trial 30 with value: 0.6686567068099976.\n",
      "[I 2025-05-09 18:35:49,132] Trial 96 finished with value: 0.6059701442718506 and parameters: {'embedding_dim': 1024, 'hidden_dim': 256, 'num_layers': 2, 'bidirectional': True, 'dropout': 0.5, 'weights': None, 'lr': 0.000525730493260477}. Best is trial 30 with value: 0.6686567068099976.\n",
      "[I 2025-05-09 18:35:56,009] Trial 97 finished with value: 0.5940298438072205 and parameters: {'embedding_dim': 1024, 'hidden_dim': 512, 'num_layers': 3, 'bidirectional': True, 'dropout': 0.1, 'weights': None, 'lr': 0.0007910637693807839}. Best is trial 30 with value: 0.6686567068099976.\n",
      "[I 2025-05-09 18:35:58,104] Trial 98 finished with value: 0.6059701442718506 and parameters: {'embedding_dim': 1024, 'hidden_dim': 256, 'num_layers': 2, 'bidirectional': False, 'dropout': 0.25, 'weights': None, 'lr': 0.0004383170182969699}. Best is trial 30 with value: 0.6686567068099976.\n",
      "[I 2025-05-09 18:36:00,870] Trial 99 finished with value: 0.6447761058807373 and parameters: {'embedding_dim': 1024, 'hidden_dim': 256, 'num_layers': 2, 'bidirectional': True, 'dropout': 0.5, 'weights': None, 'lr': 0.0011227755152954436}. Best is trial 30 with value: 0.6686567068099976.\n"
     ]
    },
    {
     "name": "stdout",
     "output_type": "stream",
     "text": [
      "Best hyperparameters: {'embedding_dim': 1024, 'hidden_dim': 256, 'num_layers': 2, 'bidirectional': True, 'dropout': 0.5, 'weights': None, 'lr': 0.0006306659094011775}\n"
     ]
    }
   ],
   "source": [
    "# ---- Run the Optuna Study ----\n",
    "study = optuna.create_study(direction=\"maximize\")\n",
    "study.optimize(objective, n_trials=100)\n",
    "\n",
    "print(\"Best hyperparameters:\", study.best_trial.params)"
   ]
  },
  {
   "cell_type": "code",
   "execution_count": 374,
   "id": "d514f18f-7c85-40f0-90dc-d8b71b44e6c3",
   "metadata": {
    "collapsed": true,
    "jupyter": {
     "outputs_hidden": true,
     "source_hidden": true
    }
   },
   "outputs": [
    {
     "name": "stderr",
     "output_type": "stream",
     "text": [
      "[I 2025-05-09 17:06:06,310] A new study created in memory with name: no-name-7e256b3e-a9a6-4918-9afc-df1e4abc1247\n",
      "/tmp/ipykernel_2613/3804457178.py:5: FutureWarning: suggest_int() got {'step'} as positional arguments but they were expected to be given as keyword arguments.\n",
      "  num_layers = trial.suggest_int(\"num_layers\", 1, 3, 5)\n",
      "[I 2025-05-09 17:06:10,903] Trial 0 finished with value: 0.6507462859153748 and parameters: {'embedding_dim': 768, 'hidden_dim': 1024, 'num_layers': 1, 'bidirectional': False, 'dropout': 0.5, 'weights': [0.9521203830369357, 1.6893203883495145, 1.86096256684492, 0.5493291239147593], 'lr': 0.005053478988768809}. Best is trial 0 with value: 0.6507462859153748.\n",
      "[I 2025-05-09 17:06:13,744] Trial 1 finished with value: 0.6865671873092651 and parameters: {'embedding_dim': 768, 'hidden_dim': 512, 'num_layers': 1, 'bidirectional': False, 'dropout': 0.1, 'weights': None, 'lr': 0.00017391786259928437}. Best is trial 1 with value: 0.6865671873092651.\n",
      "[I 2025-05-09 17:06:18,105] Trial 2 finished with value: 0.6716417670249939 and parameters: {'embedding_dim': 768, 'hidden_dim': 1024, 'num_layers': 1, 'bidirectional': False, 'dropout': 0.25, 'weights': [0.9521203830369357, 1.6893203883495145, 1.86096256684492, 0.5493291239147593], 'lr': 0.000111219495474621}. Best is trial 1 with value: 0.6865671873092651.\n",
      "[I 2025-05-09 17:06:22,178] Trial 3 finished with value: 0.6626865863800049 and parameters: {'embedding_dim': 768, 'hidden_dim': 512, 'num_layers': 1, 'bidirectional': True, 'dropout': 0.1, 'weights': None, 'lr': 0.00023584774585891908}. Best is trial 1 with value: 0.6865671873092651.\n",
      "[I 2025-05-09 17:06:35,110] Trial 4 finished with value: 0.6388059854507446 and parameters: {'embedding_dim': 768, 'hidden_dim': 2048, 'num_layers': 1, 'bidirectional': False, 'dropout': 0.1, 'weights': None, 'lr': 0.0004388397317276612}. Best is trial 1 with value: 0.6865671873092651.\n",
      "[I 2025-05-09 17:06:39,319] Trial 5 finished with value: 0.6686567068099976 and parameters: {'embedding_dim': 768, 'hidden_dim': 512, 'num_layers': 1, 'bidirectional': True, 'dropout': 0.5, 'weights': None, 'lr': 0.00016073079656186756}. Best is trial 1 with value: 0.6865671873092651.\n",
      "[I 2025-05-09 17:06:42,188] Trial 6 finished with value: 0.6716417670249939 and parameters: {'embedding_dim': 768, 'hidden_dim': 512, 'num_layers': 1, 'bidirectional': False, 'dropout': 0.5, 'weights': None, 'lr': 0.0005361254700303977}. Best is trial 1 with value: 0.6865671873092651.\n",
      "[I 2025-05-09 17:06:55,060] Trial 7 finished with value: 0.6865671873092651 and parameters: {'embedding_dim': 768, 'hidden_dim': 2048, 'num_layers': 1, 'bidirectional': False, 'dropout': 0.25, 'weights': None, 'lr': 0.0023056203268828207}. Best is trial 1 with value: 0.6865671873092651.\n",
      "[I 2025-05-09 17:07:02,574] Trial 8 finished with value: 0.7014925479888916 and parameters: {'embedding_dim': 768, 'hidden_dim': 1024, 'num_layers': 1, 'bidirectional': True, 'dropout': 0.1, 'weights': None, 'lr': 0.001791411436627968}. Best is trial 8 with value: 0.7014925479888916.\n",
      "[I 2025-05-09 17:07:06,618] Trial 9 finished with value: 0.6925373077392578 and parameters: {'embedding_dim': 768, 'hidden_dim': 512, 'num_layers': 1, 'bidirectional': True, 'dropout': 0.25, 'weights': None, 'lr': 0.000135684612447402}. Best is trial 8 with value: 0.7014925479888916.\n",
      "[I 2025-05-09 17:07:10,843] Trial 10 finished with value: 0.6716417670249939 and parameters: {'embedding_dim': 768, 'hidden_dim': 256, 'num_layers': 1, 'bidirectional': True, 'dropout': 0.1, 'weights': [0.9521203830369357, 1.6893203883495145, 1.86096256684492, 0.5493291239147593], 'lr': 0.0014838958345017353}. Best is trial 8 with value: 0.7014925479888916.\n",
      "[I 2025-05-09 17:07:18,558] Trial 11 finished with value: 0.683582067489624 and parameters: {'embedding_dim': 768, 'hidden_dim': 1024, 'num_layers': 1, 'bidirectional': True, 'dropout': 0.25, 'weights': None, 'lr': 0.00768246400570449}. Best is trial 8 with value: 0.7014925479888916.\n",
      "[I 2025-05-09 17:07:22,787] Trial 12 finished with value: 0.6686567068099976 and parameters: {'embedding_dim': 768, 'hidden_dim': 256, 'num_layers': 1, 'bidirectional': True, 'dropout': 0.25, 'weights': None, 'lr': 0.0028987629276099394}. Best is trial 8 with value: 0.7014925479888916.\n",
      "[I 2025-05-09 17:07:30,647] Trial 13 finished with value: 0.6865671873092651 and parameters: {'embedding_dim': 768, 'hidden_dim': 1024, 'num_layers': 1, 'bidirectional': True, 'dropout': 0.25, 'weights': None, 'lr': 0.0009481761467143748}. Best is trial 8 with value: 0.7014925479888916.\n",
      "[I 2025-05-09 17:07:34,842] Trial 14 finished with value: 0.6656716465950012 and parameters: {'embedding_dim': 768, 'hidden_dim': 512, 'num_layers': 1, 'bidirectional': True, 'dropout': 0.1, 'weights': [0.9521203830369357, 1.6893203883495145, 1.86096256684492, 0.5493291239147593], 'lr': 0.0008623047595807609}. Best is trial 8 with value: 0.7014925479888916.\n",
      "[I 2025-05-09 17:07:42,261] Trial 15 finished with value: 0.6567164063453674 and parameters: {'embedding_dim': 768, 'hidden_dim': 1024, 'num_layers': 1, 'bidirectional': True, 'dropout': 0.1, 'weights': None, 'lr': 0.00034499805157335665}. Best is trial 8 with value: 0.7014925479888916.\n",
      "[I 2025-05-09 17:07:45,571] Trial 16 finished with value: 0.6656716465950012 and parameters: {'embedding_dim': 768, 'hidden_dim': 256, 'num_layers': 1, 'bidirectional': True, 'dropout': 0.25, 'weights': None, 'lr': 0.002184873112227981}. Best is trial 8 with value: 0.7014925479888916.\n",
      "[I 2025-05-09 17:08:08,446] Trial 17 finished with value: 0.6776119470596313 and parameters: {'embedding_dim': 768, 'hidden_dim': 2048, 'num_layers': 1, 'bidirectional': True, 'dropout': 0.1, 'weights': None, 'lr': 0.004104365136714104}. Best is trial 8 with value: 0.7014925479888916.\n",
      "[I 2025-05-09 17:08:13,274] Trial 18 finished with value: 0.6716417670249939 and parameters: {'embedding_dim': 768, 'hidden_dim': 512, 'num_layers': 1, 'bidirectional': True, 'dropout': 0.25, 'weights': [0.9521203830369357, 1.6893203883495145, 1.86096256684492, 0.5493291239147593], 'lr': 0.0014854225039608762}. Best is trial 8 with value: 0.7014925479888916.\n",
      "[I 2025-05-09 17:08:21,141] Trial 19 finished with value: 0.6597014665603638 and parameters: {'embedding_dim': 768, 'hidden_dim': 1024, 'num_layers': 1, 'bidirectional': True, 'dropout': 0.5, 'weights': None, 'lr': 0.0008393930112523899}. Best is trial 8 with value: 0.7014925479888916.\n",
      "[I 2025-05-09 17:08:25,845] Trial 20 finished with value: 0.6865671873092651 and parameters: {'embedding_dim': 768, 'hidden_dim': 512, 'num_layers': 1, 'bidirectional': True, 'dropout': 0.1, 'weights': None, 'lr': 0.0006301049692359005}. Best is trial 8 with value: 0.7014925479888916.\n",
      "[I 2025-05-09 17:08:29,606] Trial 21 finished with value: 0.683582067489624 and parameters: {'embedding_dim': 768, 'hidden_dim': 512, 'num_layers': 1, 'bidirectional': False, 'dropout': 0.1, 'weights': None, 'lr': 0.00011964997395494658}. Best is trial 8 with value: 0.7014925479888916.\n",
      "[I 2025-05-09 17:08:33,388] Trial 22 finished with value: 0.6597014665603638 and parameters: {'embedding_dim': 768, 'hidden_dim': 512, 'num_layers': 1, 'bidirectional': False, 'dropout': 0.1, 'weights': None, 'lr': 0.0002934894196693013}. Best is trial 8 with value: 0.7014925479888916.\n",
      "[I 2025-05-09 17:08:36,666] Trial 23 finished with value: 0.674626886844635 and parameters: {'embedding_dim': 768, 'hidden_dim': 512, 'num_layers': 1, 'bidirectional': False, 'dropout': 0.1, 'weights': None, 'lr': 0.00021253212611619762}. Best is trial 8 with value: 0.7014925479888916.\n",
      "[I 2025-05-09 17:08:39,496] Trial 24 finished with value: 0.6626865863800049 and parameters: {'embedding_dim': 768, 'hidden_dim': 512, 'num_layers': 1, 'bidirectional': False, 'dropout': 0.1, 'weights': None, 'lr': 0.0001674351553966653}. Best is trial 8 with value: 0.7014925479888916.\n",
      "[I 2025-05-09 17:08:47,208] Trial 25 finished with value: 0.7074626684188843 and parameters: {'embedding_dim': 768, 'hidden_dim': 1024, 'num_layers': 1, 'bidirectional': True, 'dropout': 0.25, 'weights': None, 'lr': 0.00010132935513803993}. Best is trial 25 with value: 0.7074626684188843.\n",
      "[I 2025-05-09 17:08:54,894] Trial 26 finished with value: 0.6716417670249939 and parameters: {'embedding_dim': 768, 'hidden_dim': 1024, 'num_layers': 1, 'bidirectional': True, 'dropout': 0.25, 'weights': [0.9521203830369357, 1.6893203883495145, 1.86096256684492, 0.5493291239147593], 'lr': 0.00011137369165562308}. Best is trial 25 with value: 0.7074626684188843.\n",
      "[I 2025-05-09 17:09:02,957] Trial 27 finished with value: 0.683582067489624 and parameters: {'embedding_dim': 768, 'hidden_dim': 1024, 'num_layers': 1, 'bidirectional': True, 'dropout': 0.25, 'weights': None, 'lr': 0.001288312806178144}. Best is trial 25 with value: 0.7074626684188843.\n",
      "[I 2025-05-09 17:09:11,088] Trial 28 finished with value: 0.6567164063453674 and parameters: {'embedding_dim': 768, 'hidden_dim': 1024, 'num_layers': 1, 'bidirectional': True, 'dropout': 0.25, 'weights': None, 'lr': 0.00978714479038563}. Best is trial 25 with value: 0.7074626684188843.\n",
      "[I 2025-05-09 17:09:19,250] Trial 29 finished with value: 0.6716417670249939 and parameters: {'embedding_dim': 768, 'hidden_dim': 1024, 'num_layers': 1, 'bidirectional': True, 'dropout': 0.5, 'weights': [0.9521203830369357, 1.6893203883495145, 1.86096256684492, 0.5493291239147593], 'lr': 0.003840467701889919}. Best is trial 25 with value: 0.7074626684188843.\n",
      "[I 2025-05-09 17:09:27,258] Trial 30 finished with value: 0.6597014665603638 and parameters: {'embedding_dim': 768, 'hidden_dim': 1024, 'num_layers': 1, 'bidirectional': True, 'dropout': 0.25, 'weights': None, 'lr': 0.00035497104703036635}. Best is trial 25 with value: 0.7074626684188843.\n",
      "[I 2025-05-09 17:09:30,172] Trial 31 finished with value: 0.6895522475242615 and parameters: {'embedding_dim': 768, 'hidden_dim': 256, 'num_layers': 1, 'bidirectional': False, 'dropout': 0.25, 'weights': None, 'lr': 0.0001751936197729138}. Best is trial 25 with value: 0.7074626684188843.\n",
      "[I 2025-05-09 17:09:33,202] Trial 32 finished with value: 0.6716417670249939 and parameters: {'embedding_dim': 768, 'hidden_dim': 256, 'num_layers': 1, 'bidirectional': False, 'dropout': 0.25, 'weights': None, 'lr': 0.00013991651828199666}. Best is trial 25 with value: 0.7074626684188843.\n",
      "[I 2025-05-09 17:09:36,313] Trial 33 finished with value: 0.6686567068099976 and parameters: {'embedding_dim': 768, 'hidden_dim': 256, 'num_layers': 1, 'bidirectional': False, 'dropout': 0.25, 'weights': None, 'lr': 0.0002293314827273765}. Best is trial 25 with value: 0.7074626684188843.\n",
      "[I 2025-05-09 17:09:40,104] Trial 34 finished with value: 0.683582067489624 and parameters: {'embedding_dim': 768, 'hidden_dim': 256, 'num_layers': 1, 'bidirectional': True, 'dropout': 0.25, 'weights': None, 'lr': 0.0001342270233769666}. Best is trial 25 with value: 0.7074626684188843.\n",
      "[I 2025-05-09 17:09:43,060] Trial 35 finished with value: 0.6985074877738953 and parameters: {'embedding_dim': 768, 'hidden_dim': 256, 'num_layers': 1, 'bidirectional': False, 'dropout': 0.25, 'weights': None, 'lr': 0.00019058152914947437}. Best is trial 25 with value: 0.7074626684188843.\n",
      "[I 2025-05-09 17:10:06,035] Trial 36 finished with value: 0.6865671873092651 and parameters: {'embedding_dim': 768, 'hidden_dim': 2048, 'num_layers': 1, 'bidirectional': True, 'dropout': 0.25, 'weights': None, 'lr': 0.00011012804756742644}. Best is trial 25 with value: 0.7074626684188843.\n",
      "[I 2025-05-09 17:10:11,755] Trial 37 finished with value: 0.6686567068099976 and parameters: {'embedding_dim': 768, 'hidden_dim': 1024, 'num_layers': 1, 'bidirectional': False, 'dropout': 0.5, 'weights': [0.9521203830369357, 1.6893203883495145, 1.86096256684492, 0.5493291239147593], 'lr': 0.00030258754954676134}. Best is trial 25 with value: 0.7074626684188843.\n",
      "[I 2025-05-09 17:10:19,984] Trial 38 finished with value: 0.6895522475242615 and parameters: {'embedding_dim': 768, 'hidden_dim': 1024, 'num_layers': 1, 'bidirectional': True, 'dropout': 0.25, 'weights': None, 'lr': 0.00019563981386922297}. Best is trial 25 with value: 0.7074626684188843.\n",
      "[I 2025-05-09 17:10:33,230] Trial 39 finished with value: 0.6776119470596313 and parameters: {'embedding_dim': 768, 'hidden_dim': 2048, 'num_layers': 1, 'bidirectional': False, 'dropout': 0.25, 'weights': None, 'lr': 0.000494603730651942}. Best is trial 25 with value: 0.7074626684188843.\n",
      "[I 2025-05-09 17:10:37,468] Trial 40 finished with value: 0.6805970072746277 and parameters: {'embedding_dim': 768, 'hidden_dim': 256, 'num_layers': 1, 'bidirectional': True, 'dropout': 0.5, 'weights': None, 'lr': 0.00010427473719090317}. Best is trial 25 with value: 0.7074626684188843.\n",
      "[I 2025-05-09 17:10:40,821] Trial 41 finished with value: 0.6925373077392578 and parameters: {'embedding_dim': 768, 'hidden_dim': 256, 'num_layers': 1, 'bidirectional': False, 'dropout': 0.25, 'weights': None, 'lr': 0.000164083134876946}. Best is trial 25 with value: 0.7074626684188843.\n",
      "[I 2025-05-09 17:10:44,098] Trial 42 finished with value: 0.6716417670249939 and parameters: {'embedding_dim': 768, 'hidden_dim': 256, 'num_layers': 1, 'bidirectional': False, 'dropout': 0.25, 'weights': None, 'lr': 0.00014784801395040397}. Best is trial 25 with value: 0.7074626684188843.\n",
      "[I 2025-05-09 17:10:47,639] Trial 43 finished with value: 0.6686567068099976 and parameters: {'embedding_dim': 768, 'hidden_dim': 256, 'num_layers': 1, 'bidirectional': False, 'dropout': 0.25, 'weights': None, 'lr': 0.00025277341887617965}. Best is trial 25 with value: 0.7074626684188843.\n",
      "[I 2025-05-09 17:10:51,236] Trial 44 finished with value: 0.683582067489624 and parameters: {'embedding_dim': 768, 'hidden_dim': 256, 'num_layers': 1, 'bidirectional': False, 'dropout': 0.25, 'weights': None, 'lr': 0.0019803394922845354}. Best is trial 25 with value: 0.7074626684188843.\n",
      "[I 2025-05-09 17:10:54,561] Trial 45 finished with value: 0.6716417670249939 and parameters: {'embedding_dim': 768, 'hidden_dim': 256, 'num_layers': 1, 'bidirectional': False, 'dropout': 0.25, 'weights': None, 'lr': 0.00017642173781547496}. Best is trial 25 with value: 0.7074626684188843.\n",
      "[I 2025-05-09 17:11:02,888] Trial 46 finished with value: 0.6626865863800049 and parameters: {'embedding_dim': 768, 'hidden_dim': 1024, 'num_layers': 1, 'bidirectional': True, 'dropout': 0.25, 'weights': None, 'lr': 0.0004121766607915318}. Best is trial 25 with value: 0.7074626684188843.\n",
      "[I 2025-05-09 17:11:06,147] Trial 47 finished with value: 0.6477611660957336 and parameters: {'embedding_dim': 768, 'hidden_dim': 256, 'num_layers': 1, 'bidirectional': False, 'dropout': 0.25, 'weights': [0.9521203830369357, 1.6893203883495145, 1.86096256684492, 0.5493291239147593], 'lr': 0.0002649025528815118}. Best is trial 25 with value: 0.7074626684188843.\n",
      "[I 2025-05-09 17:11:29,148] Trial 48 finished with value: 0.6686567068099976 and parameters: {'embedding_dim': 768, 'hidden_dim': 2048, 'num_layers': 1, 'bidirectional': True, 'dropout': 0.1, 'weights': None, 'lr': 0.000666981704023165}. Best is trial 25 with value: 0.7074626684188843.\n",
      "[I 2025-05-09 17:11:37,326] Trial 49 finished with value: 0.6656716465950012 and parameters: {'embedding_dim': 768, 'hidden_dim': 1024, 'num_layers': 1, 'bidirectional': True, 'dropout': 0.25, 'weights': None, 'lr': 0.0028661574919480173}. Best is trial 25 with value: 0.7074626684188843.\n",
      "[I 2025-05-09 17:11:40,435] Trial 50 finished with value: 0.6716417670249939 and parameters: {'embedding_dim': 768, 'hidden_dim': 512, 'num_layers': 1, 'bidirectional': False, 'dropout': 0.5, 'weights': None, 'lr': 0.001224063120840993}. Best is trial 25 with value: 0.7074626684188843.\n",
      "[I 2025-05-09 17:11:43,399] Trial 51 finished with value: 0.6925373077392578 and parameters: {'embedding_dim': 768, 'hidden_dim': 256, 'num_layers': 1, 'bidirectional': False, 'dropout': 0.25, 'weights': None, 'lr': 0.00018347647191230106}. Best is trial 25 with value: 0.7074626684188843.\n",
      "[I 2025-05-09 17:11:46,460] Trial 52 finished with value: 0.683582067489624 and parameters: {'embedding_dim': 768, 'hidden_dim': 256, 'num_layers': 1, 'bidirectional': False, 'dropout': 0.25, 'weights': None, 'lr': 0.00014039409249439662}. Best is trial 25 with value: 0.7074626684188843.\n",
      "[I 2025-05-09 17:11:49,313] Trial 53 finished with value: 0.6895522475242615 and parameters: {'embedding_dim': 768, 'hidden_dim': 256, 'num_layers': 1, 'bidirectional': False, 'dropout': 0.25, 'weights': None, 'lr': 0.00020004447260948247}. Best is trial 25 with value: 0.7074626684188843.\n",
      "[I 2025-05-09 17:11:52,174] Trial 54 finished with value: 0.683582067489624 and parameters: {'embedding_dim': 768, 'hidden_dim': 256, 'num_layers': 1, 'bidirectional': False, 'dropout': 0.25, 'weights': None, 'lr': 0.00012233317264438002}. Best is trial 25 with value: 0.7074626684188843.\n",
      "[I 2025-05-09 17:11:54,894] Trial 55 finished with value: 0.6895522475242615 and parameters: {'embedding_dim': 768, 'hidden_dim': 256, 'num_layers': 1, 'bidirectional': False, 'dropout': 0.1, 'weights': None, 'lr': 0.0001654271459365388}. Best is trial 25 with value: 0.7074626684188843.\n",
      "[I 2025-05-09 17:11:58,927] Trial 56 finished with value: 0.6716417670249939 and parameters: {'embedding_dim': 768, 'hidden_dim': 512, 'num_layers': 1, 'bidirectional': True, 'dropout': 0.25, 'weights': None, 'lr': 0.0002270299151012627}. Best is trial 25 with value: 0.7074626684188843.\n",
      "[I 2025-05-09 17:12:06,428] Trial 57 finished with value: 0.6656716465950012 and parameters: {'embedding_dim': 768, 'hidden_dim': 1024, 'num_layers': 1, 'bidirectional': True, 'dropout': 0.1, 'weights': [0.9521203830369357, 1.6893203883495145, 1.86096256684492, 0.5493291239147593], 'lr': 0.00010095146999891815}. Best is trial 25 with value: 0.7074626684188843.\n",
      "[I 2025-05-09 17:12:09,531] Trial 58 finished with value: 0.6716417670249939 and parameters: {'embedding_dim': 768, 'hidden_dim': 512, 'num_layers': 1, 'bidirectional': False, 'dropout': 0.25, 'weights': None, 'lr': 0.0017863908657136517}. Best is trial 25 with value: 0.7074626684188843.\n",
      "[I 2025-05-09 17:12:13,245] Trial 59 finished with value: 0.6716417670249939 and parameters: {'embedding_dim': 768, 'hidden_dim': 256, 'num_layers': 1, 'bidirectional': True, 'dropout': 0.25, 'weights': None, 'lr': 0.0001292809375744803}. Best is trial 25 with value: 0.7074626684188843.\n",
      "[I 2025-05-09 17:12:17,722] Trial 60 finished with value: 0.674626886844635 and parameters: {'embedding_dim': 768, 'hidden_dim': 1024, 'num_layers': 1, 'bidirectional': False, 'dropout': 0.1, 'weights': None, 'lr': 0.0003128369313174252}. Best is trial 25 with value: 0.7074626684188843.\n",
      "[I 2025-05-09 17:12:20,593] Trial 61 finished with value: 0.6805970072746277 and parameters: {'embedding_dim': 768, 'hidden_dim': 256, 'num_layers': 1, 'bidirectional': False, 'dropout': 0.25, 'weights': None, 'lr': 0.0001764692422634086}. Best is trial 25 with value: 0.7074626684188843.\n",
      "[I 2025-05-09 17:12:23,529] Trial 62 finished with value: 0.6895522475242615 and parameters: {'embedding_dim': 768, 'hidden_dim': 256, 'num_layers': 1, 'bidirectional': False, 'dropout': 0.25, 'weights': None, 'lr': 0.00018401656852517546}. Best is trial 25 with value: 0.7074626684188843.\n",
      "[I 2025-05-09 17:12:26,783] Trial 63 finished with value: 0.683582067489624 and parameters: {'embedding_dim': 768, 'hidden_dim': 256, 'num_layers': 1, 'bidirectional': False, 'dropout': 0.25, 'weights': None, 'lr': 0.00015353881260475531}. Best is trial 25 with value: 0.7074626684188843.\n",
      "[I 2025-05-09 17:12:29,973] Trial 64 finished with value: 0.6895522475242615 and parameters: {'embedding_dim': 768, 'hidden_dim': 256, 'num_layers': 1, 'bidirectional': False, 'dropout': 0.25, 'weights': None, 'lr': 0.0002581729700384798}. Best is trial 25 with value: 0.7074626684188843.\n",
      "[I 2025-05-09 17:12:33,317] Trial 65 finished with value: 0.7044776082038879 and parameters: {'embedding_dim': 768, 'hidden_dim': 256, 'num_layers': 1, 'bidirectional': False, 'dropout': 0.25, 'weights': None, 'lr': 0.00012418424564605317}. Best is trial 25 with value: 0.7074626684188843.\n",
      "[I 2025-05-09 17:12:37,865] Trial 66 finished with value: 0.6925373077392578 and parameters: {'embedding_dim': 768, 'hidden_dim': 512, 'num_layers': 1, 'bidirectional': True, 'dropout': 0.25, 'weights': None, 'lr': 0.00012308386173744007}. Best is trial 25 with value: 0.7074626684188843.\n",
      "[I 2025-05-09 17:12:42,518] Trial 67 finished with value: 0.6716417670249939 and parameters: {'embedding_dim': 768, 'hidden_dim': 1024, 'num_layers': 1, 'bidirectional': False, 'dropout': 0.25, 'weights': None, 'lr': 0.0001470862651145631}. Best is trial 25 with value: 0.7074626684188843.\n",
      "[I 2025-05-09 17:13:05,347] Trial 68 finished with value: 0.6865671873092651 and parameters: {'embedding_dim': 768, 'hidden_dim': 2048, 'num_layers': 1, 'bidirectional': True, 'dropout': 0.1, 'weights': [0.9521203830369357, 1.6893203883495145, 1.86096256684492, 0.5493291239147593], 'lr': 0.0026804092238945526}. Best is trial 25 with value: 0.7074626684188843.\n",
      "[I 2025-05-09 17:13:08,709] Trial 69 finished with value: 0.6925373077392578 and parameters: {'embedding_dim': 768, 'hidden_dim': 256, 'num_layers': 1, 'bidirectional': True, 'dropout': 0.5, 'weights': None, 'lr': 0.00036780411934121687}. Best is trial 25 with value: 0.7074626684188843.\n",
      "[I 2025-05-09 17:13:12,957] Trial 70 finished with value: 0.6686567068099976 and parameters: {'embedding_dim': 768, 'hidden_dim': 1024, 'num_layers': 1, 'bidirectional': False, 'dropout': 0.25, 'weights': None, 'lr': 0.0002104183013148485}. Best is trial 25 with value: 0.7074626684188843.\n",
      "[I 2025-05-09 17:13:16,948] Trial 71 finished with value: 0.6716417670249939 and parameters: {'embedding_dim': 768, 'hidden_dim': 512, 'num_layers': 1, 'bidirectional': True, 'dropout': 0.25, 'weights': None, 'lr': 0.00012010297279682994}. Best is trial 25 with value: 0.7074626684188843.\n",
      "[I 2025-05-09 17:13:20,945] Trial 72 finished with value: 0.6805970072746277 and parameters: {'embedding_dim': 768, 'hidden_dim': 512, 'num_layers': 1, 'bidirectional': True, 'dropout': 0.25, 'weights': None, 'lr': 0.00012641168779461645}. Best is trial 25 with value: 0.7074626684188843.\n",
      "[I 2025-05-09 17:13:24,843] Trial 73 finished with value: 0.674626886844635 and parameters: {'embedding_dim': 768, 'hidden_dim': 512, 'num_layers': 1, 'bidirectional': True, 'dropout': 0.25, 'weights': None, 'lr': 0.0056452478976213505}. Best is trial 25 with value: 0.7074626684188843.\n",
      "[I 2025-05-09 17:13:28,821] Trial 74 finished with value: 0.6805970072746277 and parameters: {'embedding_dim': 768, 'hidden_dim': 512, 'num_layers': 1, 'bidirectional': True, 'dropout': 0.25, 'weights': None, 'lr': 0.00010014251381259953}. Best is trial 25 with value: 0.7074626684188843.\n",
      "[I 2025-05-09 17:13:32,797] Trial 75 finished with value: 0.6686567068099976 and parameters: {'embedding_dim': 768, 'hidden_dim': 512, 'num_layers': 1, 'bidirectional': True, 'dropout': 0.25, 'weights': None, 'lr': 0.00011734316611649911}. Best is trial 25 with value: 0.7074626684188843.\n",
      "[I 2025-05-09 17:13:36,136] Trial 76 finished with value: 0.6776119470596313 and parameters: {'embedding_dim': 768, 'hidden_dim': 256, 'num_layers': 1, 'bidirectional': True, 'dropout': 0.25, 'weights': None, 'lr': 0.00016294530504028134}. Best is trial 25 with value: 0.7074626684188843.\n",
      "[I 2025-05-09 17:13:40,049] Trial 77 finished with value: 0.6626865863800049 and parameters: {'embedding_dim': 768, 'hidden_dim': 512, 'num_layers': 1, 'bidirectional': True, 'dropout': 0.25, 'weights': None, 'lr': 0.00013904492532304985}. Best is trial 25 with value: 0.7074626684188843.\n",
      "[I 2025-05-09 17:13:44,281] Trial 78 finished with value: 0.6895522475242615 and parameters: {'embedding_dim': 768, 'hidden_dim': 1024, 'num_layers': 1, 'bidirectional': False, 'dropout': 0.1, 'weights': None, 'lr': 0.0001926641950054234}. Best is trial 25 with value: 0.7074626684188843.\n",
      "[I 2025-05-09 17:13:47,653] Trial 79 finished with value: 0.6776119470596313 and parameters: {'embedding_dim': 768, 'hidden_dim': 256, 'num_layers': 1, 'bidirectional': True, 'dropout': 0.25, 'weights': [0.9521203830369357, 1.6893203883495145, 1.86096256684492, 0.5493291239147593], 'lr': 0.00015757668261374416}. Best is trial 25 with value: 0.7074626684188843.\n",
      "[I 2025-05-09 17:13:50,541] Trial 80 finished with value: 0.674626886844635 and parameters: {'embedding_dim': 768, 'hidden_dim': 512, 'num_layers': 1, 'bidirectional': False, 'dropout': 0.25, 'weights': None, 'lr': 0.00011544496569355708}. Best is trial 25 with value: 0.7074626684188843.\n",
      "[I 2025-05-09 17:13:53,938] Trial 81 finished with value: 0.6805970072746277 and parameters: {'embedding_dim': 768, 'hidden_dim': 256, 'num_layers': 1, 'bidirectional': True, 'dropout': 0.5, 'weights': None, 'lr': 0.0007743713270353088}. Best is trial 25 with value: 0.7074626684188843.\n",
      "[I 2025-05-09 17:13:57,309] Trial 82 finished with value: 0.674626886844635 and parameters: {'embedding_dim': 768, 'hidden_dim': 256, 'num_layers': 1, 'bidirectional': True, 'dropout': 0.5, 'weights': None, 'lr': 0.0003693909378648697}. Best is trial 25 with value: 0.7074626684188843.\n",
      "[I 2025-05-09 17:14:00,675] Trial 83 finished with value: 0.6985074877738953 and parameters: {'embedding_dim': 768, 'hidden_dim': 256, 'num_layers': 1, 'bidirectional': True, 'dropout': 0.5, 'weights': None, 'lr': 0.0001309519372268494}. Best is trial 25 with value: 0.7074626684188843.\n",
      "[I 2025-05-09 17:14:04,250] Trial 84 finished with value: 0.6955223679542542 and parameters: {'embedding_dim': 768, 'hidden_dim': 256, 'num_layers': 1, 'bidirectional': True, 'dropout': 0.5, 'weights': None, 'lr': 0.00013012845053819735}. Best is trial 25 with value: 0.7074626684188843.\n",
      "[I 2025-05-09 17:14:08,527] Trial 85 finished with value: 0.6805970072746277 and parameters: {'embedding_dim': 768, 'hidden_dim': 256, 'num_layers': 1, 'bidirectional': True, 'dropout': 0.5, 'weights': None, 'lr': 0.00022609186290945064}. Best is trial 25 with value: 0.7074626684188843.\n",
      "[I 2025-05-09 17:14:12,467] Trial 86 finished with value: 0.674626886844635 and parameters: {'embedding_dim': 768, 'hidden_dim': 256, 'num_layers': 1, 'bidirectional': True, 'dropout': 0.5, 'weights': None, 'lr': 0.001110006453917017}. Best is trial 25 with value: 0.7074626684188843.\n",
      "[I 2025-05-09 17:14:15,753] Trial 87 finished with value: 0.6776119470596313 and parameters: {'embedding_dim': 768, 'hidden_dim': 256, 'num_layers': 1, 'bidirectional': False, 'dropout': 0.5, 'weights': None, 'lr': 0.00013670395416632688}. Best is trial 25 with value: 0.7074626684188843.\n",
      "[I 2025-05-09 17:14:20,162] Trial 88 finished with value: 0.6626865863800049 and parameters: {'embedding_dim': 768, 'hidden_dim': 256, 'num_layers': 1, 'bidirectional': True, 'dropout': 0.5, 'weights': None, 'lr': 0.0038220674595470096}. Best is trial 25 with value: 0.7074626684188843.\n",
      "[I 2025-05-09 17:14:23,800] Trial 89 finished with value: 0.683582067489624 and parameters: {'embedding_dim': 768, 'hidden_dim': 256, 'num_layers': 1, 'bidirectional': False, 'dropout': 0.5, 'weights': None, 'lr': 0.00010975429183678757}. Best is trial 25 with value: 0.7074626684188843.\n",
      "[I 2025-05-09 17:14:46,794] Trial 90 finished with value: 0.6895522475242615 and parameters: {'embedding_dim': 768, 'hidden_dim': 2048, 'num_layers': 1, 'bidirectional': True, 'dropout': 0.5, 'weights': None, 'lr': 0.0017498226906339104}. Best is trial 25 with value: 0.7074626684188843.\n",
      "[I 2025-05-09 17:14:50,622] Trial 91 finished with value: 0.6895522475242615 and parameters: {'embedding_dim': 768, 'hidden_dim': 256, 'num_layers': 1, 'bidirectional': True, 'dropout': 0.5, 'weights': None, 'lr': 0.0001261613804546759}. Best is trial 25 with value: 0.7074626684188843.\n",
      "[I 2025-05-09 17:14:58,133] Trial 92 finished with value: 0.6805970072746277 and parameters: {'embedding_dim': 768, 'hidden_dim': 1024, 'num_layers': 1, 'bidirectional': True, 'dropout': 0.25, 'weights': None, 'lr': 0.0001513896031603132}. Best is trial 25 with value: 0.7074626684188843.\n",
      "[I 2025-05-09 17:15:01,972] Trial 93 finished with value: 0.683582067489624 and parameters: {'embedding_dim': 768, 'hidden_dim': 256, 'num_layers': 1, 'bidirectional': True, 'dropout': 0.1, 'weights': None, 'lr': 0.00010777133709792147}. Best is trial 25 with value: 0.7074626684188843.\n",
      "[I 2025-05-09 17:15:05,329] Trial 94 finished with value: 0.6895522475242615 and parameters: {'embedding_dim': 768, 'hidden_dim': 256, 'num_layers': 1, 'bidirectional': True, 'dropout': 0.25, 'weights': None, 'lr': 0.0001779310479615461}. Best is trial 25 with value: 0.7074626684188843.\n",
      "[I 2025-05-09 17:15:12,778] Trial 95 finished with value: 0.6597014665603638 and parameters: {'embedding_dim': 768, 'hidden_dim': 1024, 'num_layers': 1, 'bidirectional': True, 'dropout': 0.25, 'weights': None, 'lr': 0.00012914185252439173}. Best is trial 25 with value: 0.7074626684188843.\n",
      "[I 2025-05-09 17:15:15,478] Trial 96 finished with value: 0.6895522475242615 and parameters: {'embedding_dim': 768, 'hidden_dim': 256, 'num_layers': 1, 'bidirectional': False, 'dropout': 0.5, 'weights': None, 'lr': 0.00019873915494916816}. Best is trial 25 with value: 0.7074626684188843.\n",
      "[I 2025-05-09 17:15:19,525] Trial 97 finished with value: 0.6805970072746277 and parameters: {'embedding_dim': 768, 'hidden_dim': 512, 'num_layers': 1, 'bidirectional': True, 'dropout': 0.25, 'weights': [0.9521203830369357, 1.6893203883495145, 1.86096256684492, 0.5493291239147593], 'lr': 0.00010053363551479249}. Best is trial 25 with value: 0.7074626684188843.\n",
      "[I 2025-05-09 17:15:22,253] Trial 98 finished with value: 0.6865671873092651 and parameters: {'embedding_dim': 768, 'hidden_dim': 256, 'num_layers': 1, 'bidirectional': False, 'dropout': 0.1, 'weights': None, 'lr': 0.0001486370193572062}. Best is trial 25 with value: 0.7074626684188843.\n",
      "[I 2025-05-09 17:15:29,597] Trial 99 finished with value: 0.674626886844635 and parameters: {'embedding_dim': 768, 'hidden_dim': 1024, 'num_layers': 1, 'bidirectional': True, 'dropout': 0.25, 'weights': None, 'lr': 0.0001586267578915094}. Best is trial 25 with value: 0.7074626684188843.\n"
     ]
    },
    {
     "name": "stdout",
     "output_type": "stream",
     "text": [
      "Best hyperparameters: {'embedding_dim': 768, 'hidden_dim': 1024, 'num_layers': 1, 'bidirectional': True, 'dropout': 0.25, 'weights': None, 'lr': 0.00010132935513803993}\n"
     ]
    }
   ],
   "source": [
    "# ---- Run the Optuna Study ----\n",
    "study_embed = optuna.create_study(direction=\"maximize\")\n",
    "study_embed.optimize(objective_embed, n_trials=100)\n",
    "\n",
    "print(\"Best hyperparameters:\", study_embed.best_trial.params)"
   ]
  },
  {
   "cell_type": "code",
   "execution_count": 380,
   "id": "8dcc2d82",
   "metadata": {
    "jupyter": {
     "source_hidden": true
    }
   },
   "outputs": [],
   "source": [
    "def train_val(\n",
    "        model: LSTM,\n",
    "        optim: Adam,\n",
    "        criterion: nn.CrossEntropyLoss,\n",
    "        epochs: int,\n",
    "        train_dataloader: DataLoader,\n",
    "        val_dataloader: DataLoader,\n",
    "        device\n",
    "    ):\n",
    "    best_f1 = 0\n",
    "    best_model = None\n",
    "    model.to(device)\n",
    "    for epoch in tqdm(range(epochs)):\n",
    "        model.train()\n",
    "        train_loss = 0\n",
    "        y_preds_list_train = []\n",
    "        y_true_list_train = []\n",
    "        for train_X, train_y in train_dataloader:\n",
    "            train_X, train_y = train_X.to(device), train_y.to(device)\n",
    "    \n",
    "            y_preds = model(train_X)\n",
    "            loss = criterion(y_preds, train_y)\n",
    "    \n",
    "            optim.zero_grad()\n",
    "            loss.backward()\n",
    "            optim.step()\n",
    "    \n",
    "            train_loss += loss.item()\n",
    "            y_preds_list_train.extend(y_preds.detach().cpu().numpy())\n",
    "            y_true_list_train.extend(torch.argmax(train_y, dim=1).cpu().numpy())\n",
    "\n",
    "        train_f1 = multiclass_f1_score(torch.Tensor(np.array(y_preds_list_train)), torch.Tensor(np.array(y_true_list_train)), num_classes=4)\n",
    "\n",
    "        # Validation\n",
    "        model.eval()\n",
    "        val_loss = 0\n",
    "        y_preds_list_val = []\n",
    "        y_true_list_val = []\n",
    "        with torch.no_grad():\n",
    "            for val_X, val_y in val_dataloader:\n",
    "                val_X, val_y = val_X.to(device), val_y.to(device)\n",
    "    \n",
    "                y_preds = model(val_X)\n",
    "                loss = criterion(y_preds, val_y)\n",
    "                val_loss += loss.item()\n",
    "                predicted = torch.argmax(y_preds, dim=1)\n",
    "                y_preds_list_val.extend(y_preds.cpu().numpy())\n",
    "                y_true_list_val.extend(torch.argmax(val_y, dim=1).cpu().numpy())\n",
    "    \n",
    "        val_f1 = multiclass_f1_score(torch.Tensor(np.array(y_preds_list_val)), torch.Tensor(np.array(y_true_list_val)), num_classes=4)\n",
    "        if val_f1 > best_f1:\n",
    "            best_f1 = val_f1\n",
    "            best_model = model.state_dict()\n",
    "        print(\n",
    "            f\"Epoch {epoch+1}/{epochs}, \"\n",
    "            f\"Train Loss: {train_loss/len(train_dataloader):.4f}, \"\n",
    "            f\"Val Loss: {val_loss/len(val_dataloader):.4f}, \"\n",
    "            f\"Train F1: {train_f1:.2f}%, \"\n",
    "            f\"Val F1: {val_f1:.2f}%\"\n",
    "        )\n",
    "    return best_model"
   ]
  },
  {
   "cell_type": "code",
   "execution_count": 390,
   "id": "a9541a4a-d5d7-415d-9ba6-d2e86037b461",
   "metadata": {
    "collapsed": true,
    "jupyter": {
     "outputs_hidden": true,
     "source_hidden": true
    },
    "scrolled": true
   },
   "outputs": [
    {
     "name": "stderr",
     "output_type": "stream",
     "text": [
      " 33%|████████████████████████████▎                                                        | 1/3 [00:01<00:02,  1.05s/it]"
     ]
    },
    {
     "name": "stdout",
     "output_type": "stream",
     "text": [
      "Epoch 1/3, Train Loss: 1.1578, Val Loss: 1.0200, Train F1: 0.53%, Val F1: 0.59%\n"
     ]
    },
    {
     "name": "stderr",
     "output_type": "stream",
     "text": [
      " 67%|████████████████████████████████████████████████████████▋                            | 2/3 [00:01<00:00,  1.10it/s]"
     ]
    },
    {
     "name": "stdout",
     "output_type": "stream",
     "text": [
      "Epoch 2/3, Train Loss: 0.3097, Val Loss: 0.9747, Train F1: 0.93%, Val F1: 0.62%\n"
     ]
    },
    {
     "name": "stderr",
     "output_type": "stream",
     "text": [
      "100%|█████████████████████████████████████████████████████████████████████████████████████| 3/3 [00:02<00:00,  1.14it/s]"
     ]
    },
    {
     "name": "stdout",
     "output_type": "stream",
     "text": [
      "Epoch 3/3, Train Loss: 0.0569, Val Loss: 1.0268, Train F1: 0.99%, Val F1: 0.63%\n"
     ]
    },
    {
     "name": "stderr",
     "output_type": "stream",
     "text": [
      "\n"
     ]
    }
   ],
   "source": [
    "model = LSTM(\n",
    "\t\t\tvocab_size=VOCAB_SIZE,\n",
    "\t\t\tembedding_dim=study.best_trial.params['embedding_dim'],\n",
    "\t\t\thidden_dim=study.best_trial.params['hidden_dim'],\n",
    "\t\t\tnum_layers=study.best_trial.params['num_layers'],\n",
    "\t\t\tnum_classes=NUM_CLASSES,\n",
    "\t\t\tmax_len=MAX_LEN,\n",
    "\t\t\tbidirectional=study.best_trial.params['bidirectional'],\n",
    "            dropout = study.best_trial.params['dropout'],\n",
    "            is_embedding_layer=True\n",
    "\t\t).to(DEVICE)\n",
    "criterion = nn.CrossEntropyLoss()\n",
    "optimizer = Adam(model.parameters(), lr=study.best_trial.params['lr'])\n",
    "params = train_val(\n",
    "    model,\n",
    "    optimizer,\n",
    "    criterion,\n",
    "    epochs = 3,\n",
    "    train_dataloader = train_loader,\n",
    "    val_dataloader = val_loader,\n",
    "    device=DEVICE\n",
    ")"
   ]
  },
  {
   "cell_type": "code",
   "execution_count": 391,
   "id": "8d400284-ef80-43cb-84a7-92cf35cbd198",
   "metadata": {
    "collapsed": true,
    "jupyter": {
     "outputs_hidden": true,
     "source_hidden": true
    }
   },
   "outputs": [
    {
     "name": "stderr",
     "output_type": "stream",
     "text": [
      " 10%|████████▍                                                                           | 1/10 [00:00<00:08,  1.06it/s]"
     ]
    },
    {
     "name": "stdout",
     "output_type": "stream",
     "text": [
      "Epoch 1/10, Train Loss: 0.8310, Val Loss: 0.7498, Train F1: 0.68%, Val F1: 0.70%\n"
     ]
    },
    {
     "name": "stderr",
     "output_type": "stream",
     "text": [
      " 20%|████████████████▊                                                                   | 2/10 [00:01<00:07,  1.04it/s]"
     ]
    },
    {
     "name": "stdout",
     "output_type": "stream",
     "text": [
      "Epoch 2/10, Train Loss: 0.5597, Val Loss: 0.7759, Train F1: 0.78%, Val F1: 0.69%\n"
     ]
    },
    {
     "name": "stderr",
     "output_type": "stream",
     "text": [
      " 30%|█████████████████████████▏                                                          | 3/10 [00:02<00:06,  1.05it/s]"
     ]
    },
    {
     "name": "stdout",
     "output_type": "stream",
     "text": [
      "Epoch 3/10, Train Loss: 0.3702, Val Loss: 0.8296, Train F1: 0.87%, Val F1: 0.69%\n"
     ]
    },
    {
     "name": "stderr",
     "output_type": "stream",
     "text": [
      " 40%|█████████████████████████████████▌                                                  | 4/10 [00:03<00:05,  1.05it/s]"
     ]
    },
    {
     "name": "stdout",
     "output_type": "stream",
     "text": [
      "Epoch 4/10, Train Loss: 0.2194, Val Loss: 0.9395, Train F1: 0.93%, Val F1: 0.67%\n"
     ]
    },
    {
     "name": "stderr",
     "output_type": "stream",
     "text": [
      " 50%|██████████████████████████████████████████                                          | 5/10 [00:04<00:04,  1.03it/s]"
     ]
    },
    {
     "name": "stdout",
     "output_type": "stream",
     "text": [
      "Epoch 5/10, Train Loss: 0.1180, Val Loss: 1.0492, Train F1: 0.96%, Val F1: 0.67%\n"
     ]
    },
    {
     "name": "stderr",
     "output_type": "stream",
     "text": [
      " 60%|██████████████████████████████████████████████████▍                                 | 6/10 [00:05<00:03,  1.03it/s]"
     ]
    },
    {
     "name": "stdout",
     "output_type": "stream",
     "text": [
      "Epoch 6/10, Train Loss: 0.0754, Val Loss: 1.1637, Train F1: 0.98%, Val F1: 0.70%\n"
     ]
    },
    {
     "name": "stderr",
     "output_type": "stream",
     "text": [
      " 70%|██████████████████████████████████████████████████████████▊                         | 7/10 [00:06<00:02,  1.02it/s]"
     ]
    },
    {
     "name": "stdout",
     "output_type": "stream",
     "text": [
      "Epoch 7/10, Train Loss: 0.0427, Val Loss: 1.1341, Train F1: 0.99%, Val F1: 0.68%\n"
     ]
    },
    {
     "name": "stderr",
     "output_type": "stream",
     "text": [
      " 80%|███████████████████████████████████████████████████████████████████▏                | 8/10 [00:07<00:01,  1.03it/s]"
     ]
    },
    {
     "name": "stdout",
     "output_type": "stream",
     "text": [
      "Epoch 8/10, Train Loss: 0.0342, Val Loss: 1.2302, Train F1: 0.99%, Val F1: 0.69%\n"
     ]
    },
    {
     "name": "stderr",
     "output_type": "stream",
     "text": [
      " 90%|███████████████████████████████████████████████████████████████████████████▌        | 9/10 [00:08<00:00,  1.04it/s]"
     ]
    },
    {
     "name": "stdout",
     "output_type": "stream",
     "text": [
      "Epoch 9/10, Train Loss: 0.0236, Val Loss: 1.3062, Train F1: 0.99%, Val F1: 0.68%\n"
     ]
    },
    {
     "name": "stderr",
     "output_type": "stream",
     "text": [
      "100%|███████████████████████████████████████████████████████████████████████████████████| 10/10 [00:09<00:00,  1.02it/s]"
     ]
    },
    {
     "name": "stdout",
     "output_type": "stream",
     "text": [
      "Epoch 10/10, Train Loss: 0.0121, Val Loss: 1.3204, Train F1: 1.00%, Val F1: 0.68%\n"
     ]
    },
    {
     "name": "stderr",
     "output_type": "stream",
     "text": [
      "\n"
     ]
    }
   ],
   "source": [
    "model_embed = LSTM(\n",
    "\t\t\tvocab_size=VOCAB_SIZE,\n",
    "\t\t\tembedding_dim=study_embed.best_trial.params['embedding_dim'],\n",
    "\t\t\thidden_dim=study_embed.best_trial.params['hidden_dim'],\n",
    "\t\t\tnum_layers=study_embed.best_trial.params['num_layers'],\n",
    "\t\t\tnum_classes=NUM_CLASSES,\n",
    "\t\t\tmax_len=1,\n",
    "\t\t\tbidirectional=study_embed.best_trial.params['bidirectional'],\n",
    "            dropout = study_embed.best_trial.params['dropout'],\n",
    "            is_embedding_layer=False\n",
    "\t\t).to(DEVICE)\n",
    "criterion = nn.CrossEntropyLoss()\n",
    "optimizer_embed = Adam(model_embed.parameters(), lr=study.best_trial.params['lr'])\n",
    "\n",
    "embed_params=train_val(\n",
    "    model_embed,\n",
    "    optimizer_embed,\n",
    "    criterion,\n",
    "    epochs = 10,\n",
    "    train_dataloader = train_loader_embed,\n",
    "    val_dataloader = val_loader_embed,\n",
    "    device=DEVICE\n",
    ")"
   ]
  },
  {
   "cell_type": "markdown",
   "id": "ab6c1dfb",
   "metadata": {},
   "source": [
    "# Test"
   ]
  },
  {
   "cell_type": "code",
   "execution_count": 336,
   "id": "ad40d640",
   "metadata": {
    "jupyter": {
     "source_hidden": true
    }
   },
   "outputs": [],
   "source": [
    "from sklearn.metrics import classification_report"
   ]
  },
  {
   "cell_type": "code",
   "execution_count": 431,
   "id": "8363a59c",
   "metadata": {},
   "outputs": [],
   "source": [
    "def test(\n",
    "\t\tmodel: LSTM,\n",
    "\t\toptim: Adam,\n",
    "\t\tcriterion: nn.CrossEntropyLoss,\n",
    "\t\ttest_dataloader: DataLoader,\n",
    "\t\tdevice\n",
    "    ):\n",
    "    model.to(device)\n",
    "    model.eval()\n",
    "    test_loss = 0\n",
    "    test_correct = 0\n",
    "    test_total = 0\n",
    "    y_preds_list = [] \n",
    "    with torch.no_grad():\n",
    "        for test_X, test_y in test_dataloader:\n",
    "            test_X, test_y = test_X.to(device), test_y.to(device)\n",
    "    \n",
    "            y_preds = model(test_X)\n",
    "            y_preds_list.extend(y_preds.numpy())\n",
    "            loss = criterion(y_preds, test_y)\n",
    "            test_loss += loss.item()\n",
    "            predicted = torch.argmax(y_preds, dim=1)\n",
    "            test_correct += (predicted == np.argmax(test_y, axis=1)).sum().item()\n",
    "            test_total += test_y.size(0)\n",
    "    \n",
    "    print(\n",
    "        f\"test Loss: {test_loss/len(test_dataloader):.4f}, \"\n",
    "        f\"test Acc: {100 * test_correct/test_total:.2f}%\"\n",
    "    )\n",
    "    return np.array(y_preds_list)"
   ]
  },
  {
   "cell_type": "code",
   "execution_count": 432,
   "id": "b3b4e587-bb8f-4531-93db-3a39b50a3666",
   "metadata": {},
   "outputs": [
    {
     "name": "stdout",
     "output_type": "stream",
     "text": [
      "test Loss: 1.0433, test Acc: 59.96%\n"
     ]
    }
   ],
   "source": [
    "best_model = LSTM(\n",
    "\t\t\tvocab_size=VOCAB_SIZE,\n",
    "\t\t\tembedding_dim=study.best_trial.params['embedding_dim'],\n",
    "\t\t\thidden_dim=study.best_trial.params['hidden_dim'],\n",
    "\t\t\tnum_layers=study.best_trial.params['num_layers'],\n",
    "\t\t\tnum_classes=NUM_CLASSES,\n",
    "\t\t\tmax_len=MAX_LEN,\n",
    "\t\t\tbidirectional=study.best_trial.params['bidirectional'],\n",
    "            dropout = study.best_trial.params['dropout'],\n",
    "            is_embedding_layer=True\n",
    "\t\t)\n",
    "best_model.load_state_dict(params)\n",
    "y_preds=test(best_model, optimizer, criterion, test_loader, 'cpu')"
   ]
  },
  {
   "cell_type": "code",
   "execution_count": 434,
   "id": "e2873f70",
   "metadata": {},
   "outputs": [
    {
     "name": "stdout",
     "output_type": "stream",
     "text": [
      "test Loss: 1.2217, test Acc: 71.99%\n"
     ]
    }
   ],
   "source": [
    "best_model_embed = LSTM(\n",
    "\t\t\tvocab_size=VOCAB_SIZE,\n",
    "\t\t\tembedding_dim=study_embed.best_trial.params['embedding_dim'],\n",
    "\t\t\thidden_dim=study_embed.best_trial.params['hidden_dim'],\n",
    "\t\t\tnum_layers=study_embed.best_trial.params['num_layers'],\n",
    "\t\t\tnum_classes=NUM_CLASSES,\n",
    "\t\t\tmax_len=1,\n",
    "\t\t\tbidirectional=study_embed.best_trial.params['bidirectional'],\n",
    "            dropout = study_embed.best_trial.params['dropout'],\n",
    "            is_embedding_layer=False\n",
    "\t\t)\n",
    "best_model_embed.load_state_dict(embed_params)\n",
    "y_preds_embed=test(best_model_embed, optimizer_embed, criterion, test_loader_embed, 'cpu')"
   ]
  },
  {
   "cell_type": "code",
   "execution_count": 435,
   "id": "9ca433bb",
   "metadata": {},
   "outputs": [
    {
     "name": "stdout",
     "output_type": "stream",
     "text": [
      "              precision    recall  f1-score   support\n",
      "\n",
      "           0       0.59      0.70      0.64       131\n",
      "           1       0.51      0.32      0.39        87\n",
      "           2       0.40      0.10      0.16        82\n",
      "           3       0.63      0.80      0.71       257\n",
      "\n",
      "    accuracy                           0.60       557\n",
      "   macro avg       0.53      0.48      0.48       557\n",
      "weighted avg       0.57      0.60      0.56       557\n",
      "\n",
      "              precision    recall  f1-score   support\n",
      "\n",
      "           0       0.77      0.75      0.76       131\n",
      "           1       0.54      0.63      0.59        87\n",
      "           2       0.67      0.45      0.54        82\n",
      "           3       0.77      0.82      0.79       257\n",
      "\n",
      "    accuracy                           0.72       557\n",
      "   macro avg       0.69      0.66      0.67       557\n",
      "weighted avg       0.72      0.72      0.72       557\n",
      "\n"
     ]
    }
   ],
   "source": [
    "print(classification_report(np.argmax(test_y, axis=1), np.argmax(y_preds, axis=1)))\n",
    "print(classification_report(np.argmax(test_y_embed, axis=1), np.argmax(y_preds_embed, axis=1)))"
   ]
  }
 ],
 "metadata": {
  "kernelspec": {
   "display_name": "Python 3 (ipykernel)",
   "language": "python",
   "name": "python3"
  },
  "language_info": {
   "codemirror_mode": {
    "name": "ipython",
    "version": 3
   },
   "file_extension": ".py",
   "mimetype": "text/x-python",
   "name": "python",
   "nbconvert_exporter": "python",
   "pygments_lexer": "ipython3",
   "version": "3.10.12"
  }
 },
 "nbformat": 4,
 "nbformat_minor": 5
}
