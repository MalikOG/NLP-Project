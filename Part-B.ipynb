{
 "cells": [
  {
   "cell_type": "code",
   "execution_count": null,
   "id": "0a004bd4",
   "metadata": {},
   "outputs": [],
   "source": [
    "import torch\n",
    "from torch import nn\n",
    "from torch.functional import F"
   ]
  },
  {
   "cell_type": "code",
   "execution_count": null,
   "id": "b61d2384",
   "metadata": {},
   "outputs": [],
   "source": [
    "class LSTM(nn.Module):\n",
    "\tdef __init__(self, embedding_callback, input_size, output_size, num_layers, num_classes):\n",
    "\t\t# Embeddings, which can be pretrained or normally trained\n",
    "\t\tself.embeddings = embedding_callback()\n",
    "\t\t# LSTM Layer\n",
    "\t\tself.lstm = nn.LSTM(input_size, output_size, num_layers)\n",
    "\t\t# Linear Layer\n",
    "\t\tself.linear = nn.Linear(output_size, num_classes)\n",
    "\tdef forward(self, x):\n",
    "\t\tembedded_inputs = self.embeddings(x)\n",
    "\t\tlstm_output = self.lstm(embedded_inputs)\n",
    "\t\tlinear_output = self.linear(lstm_output)\n",
    "\t\treturn F.log_softmax(linear_output)"
   ]
  }
 ],
 "metadata": {
  "kernelspec": {
   "display_name": ".venv",
   "language": "python",
   "name": "python3"
  },
  "language_info": {
   "name": "python",
   "version": "3.9.6"
  }
 },
 "nbformat": 4,
 "nbformat_minor": 5
}
