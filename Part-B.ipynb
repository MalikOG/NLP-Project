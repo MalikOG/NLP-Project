{
 "cells": [
  {
   "cell_type": "markdown",
   "id": "ee81e187",
   "metadata": {},
   "source": [
    "# Read Data"
   ]
  },
  {
   "cell_type": "code",
   "execution_count": 1,
   "id": "c7ee8c7a",
   "metadata": {},
   "outputs": [],
   "source": [
    "import numpy as np\n",
    "import pandas as pd"
   ]
  },
  {
   "cell_type": "code",
   "execution_count": 2,
   "id": "94b9a4c9",
   "metadata": {},
   "outputs": [
    {
     "data": {
      "text/plain": [
       "7130"
      ]
     },
     "execution_count": 2,
     "metadata": {},
     "output_type": "execute_result"
    }
   ],
   "source": [
    "train_balanced = pd.read_pickle('train_balanced.pkl')\n",
    "val_balanced = pd.read_pickle('val_balanced.pkl')\n",
    "test_balanced = pd.read_pickle('test_balanced.pkl')\n",
    "VOCAB_BALANCED_SIZE = set()\n",
    "for tokenized in train_balanced.tokenized:\n",
    "    for token in tokenized:\n",
    "        VOCAB_BALANCED_SIZE.add(token)\n",
    "max(VOCAB_BALANCED_SIZE)     "
   ]
  },
  {
   "cell_type": "code",
   "execution_count": 3,
   "id": "767a3d77-06c2-4fbe-afdf-14eaa6c939c4",
   "metadata": {},
   "outputs": [
    {
     "data": {
      "text/plain": [
       "6767"
      ]
     },
     "execution_count": 3,
     "metadata": {},
     "output_type": "execute_result"
    }
   ],
   "source": [
    "train_unbalanced = pd.read_pickle('train_unbalanced.pkl')\n",
    "val_unbalanced = pd.read_pickle('val_unbalanced.pkl')\n",
    "test_unbalanced = pd.read_pickle('test_unbalanced.pkl')\n",
    "\n",
    "VOCAB_UNBALANCED_SIZE = set()\n",
    "for tokenized in train_unbalanced.tokenized:\n",
    "    for token in tokenized:\n",
    "        VOCAB_UNBALANCED_SIZE.add(token)\n",
    "\n",
    "max(VOCAB_UNBALANCED_SIZE)"
   ]
  },
  {
   "cell_type": "code",
   "execution_count": 4,
   "id": "a8cf8e9d-ea54-4adb-9096-3b0fe63ef20e",
   "metadata": {},
   "outputs": [
    {
     "data": {
      "text/plain": [
       "(2546, 1906)"
      ]
     },
     "execution_count": 4,
     "metadata": {},
     "output_type": "execute_result"
    }
   ],
   "source": [
    "len(train_balanced), len(train_unbalanced)"
   ]
  },
  {
   "cell_type": "code",
   "execution_count": 5,
   "id": "4cc4393a",
   "metadata": {},
   "outputs": [],
   "source": [
    "from torch.utils.data import Dataset, DataLoader\n",
    "class ClassificationDataset(Dataset):\n",
    "    def __init__(self, data, X, y, is_embeddings):\n",
    "        self.X = data[X]\n",
    "        self.y = data[y]\n",
    "        self.is_embeddings = is_embeddings\n",
    "    def __len__(self):\n",
    "        return len(self.X)\n",
    "    def __getitem__(self, idx):\n",
    "        if self.is_embeddings:\n",
    "            return torch.tensor(self.X[idx], dtype=torch.float), torch.tensor(self.y[idx], dtype=torch.long)\n",
    "        return torch.tensor(self.X[idx], dtype=torch.int), torch.tensor(self.y[idx], dtype=torch.long)\n"
   ]
  },
  {
   "cell_type": "code",
   "execution_count": 6,
   "id": "c9f0f772",
   "metadata": {},
   "outputs": [],
   "source": [
    "train_dataset_embed_balanced = ClassificationDataset(train_balanced, \"precomputed_embeddings\", \"class\", True)\n",
    "val_dataset_embed_balanced = ClassificationDataset(val_balanced, \"precomputed_embeddings\", \"class\", True)\n",
    "test_dataset_embed_balanced = ClassificationDataset(test_balanced, \"precomputed_embeddings\", \"class\", True)\n",
    "\n",
    "train_loader_embed_balanced = DataLoader(train_dataset_embed_balanced, batch_size=8, shuffle=True)\n",
    "val_loader_embed_balanced = DataLoader(val_dataset_embed_balanced, batch_size=8, shuffle=False)\n",
    "test_loader_embed_balanced = DataLoader(test_dataset_embed_balanced, batch_size=8, shuffle=False)"
   ]
  },
  {
   "cell_type": "code",
   "execution_count": 7,
   "id": "8005d478-a233-4db6-9165-67325bc81c0b",
   "metadata": {},
   "outputs": [],
   "source": [
    "train_dataset_balanced = ClassificationDataset(train_balanced, \"tokenized\", \"class\", False)\n",
    "val_dataset_balanced = ClassificationDataset(val_balanced, \"tokenized\", \"class\", False)\n",
    "test_dataset_balanced = ClassificationDataset(test_balanced, \"tokenized\", \"class\", False)\n",
    "\n",
    "train_loader_balanced = DataLoader(train_dataset_balanced, batch_size=16, shuffle=True)\n",
    "val_loader_balanced = DataLoader(val_dataset_balanced, batch_size=16, shuffle=False)\n",
    "test_loader_balanced = DataLoader(test_dataset_balanced, batch_size=16, shuffle=False)"
   ]
  },
  {
   "cell_type": "code",
   "execution_count": 8,
   "id": "d6f19579-9c8b-47f9-9e38-7aedbbbf784f",
   "metadata": {},
   "outputs": [],
   "source": [
    "train_dataset_embed_unbalanced = ClassificationDataset(train_unbalanced, \"precomputed_embeddings\", \"class\", True)\n",
    "val_dataset_embed_unbalanced = ClassificationDataset(val_unbalanced, \"precomputed_embeddings\", \"class\", True)\n",
    "test_dataset_embed_unbalanced = ClassificationDataset(test_unbalanced, \"precomputed_embeddings\", \"class\", True)\n",
    "\n",
    "train_loader_embed_unbalanced = DataLoader(train_dataset_embed_unbalanced, batch_size=8, shuffle=True)\n",
    "val_loader_embed_unbalanced = DataLoader(val_dataset_embed_unbalanced, batch_size=8, shuffle=False)\n",
    "test_loader_embed_unbalanced = DataLoader(test_dataset_embed_unbalanced, batch_size=8, shuffle=False)"
   ]
  },
  {
   "cell_type": "code",
   "execution_count": 9,
   "id": "5a80330f-8b50-4b31-acff-e97403894ba2",
   "metadata": {},
   "outputs": [],
   "source": [
    "train_dataset_unbalanced = ClassificationDataset(train_unbalanced, \"tokenized\", \"class\", False)\n",
    "val_dataset_unbalanced = ClassificationDataset(val_unbalanced, \"tokenized\", \"class\", False)\n",
    "test_dataset_unbalanced = ClassificationDataset(test_unbalanced, \"tokenized\", \"class\", False)\n",
    "\n",
    "train_loader_unbalanced = DataLoader(train_dataset_unbalanced, batch_size=16, shuffle=True)\n",
    "val_loader_unbalanced = DataLoader(val_dataset_unbalanced, batch_size=16, shuffle=False)\n",
    "test_loader_unbalanced = DataLoader(test_dataset_unbalanced, batch_size=16, shuffle=False)"
   ]
  },
  {
   "cell_type": "markdown",
   "id": "a366cfc3",
   "metadata": {},
   "source": [
    "# RNN"
   ]
  },
  {
   "cell_type": "code",
   "execution_count": 14,
   "id": "0a004bd4",
   "metadata": {},
   "outputs": [],
   "source": [
    "from torch import nn\n",
    "from torch.optim import Adam\n",
    "from torch.functional import F"
   ]
  },
  {
   "cell_type": "code",
   "execution_count": 15,
   "id": "b61d2384",
   "metadata": {},
   "outputs": [],
   "source": [
    "class LSTM(nn.Module):\n",
    "    def __init__(self,\n",
    "              vocab_size,\n",
    "              embedding_dim,\n",
    "              hidden_dim,\n",
    "              num_layers,\n",
    "              num_classes,\n",
    "              max_len,\n",
    "              bidirectional,\n",
    "              dropout=0,\n",
    "              is_embedding_layer = True,\n",
    "    ):\n",
    "        super().__init__()\n",
    "        self.is_embedding_layer = is_embedding_layer\n",
    "        # Embeddings, which can be pretrained or normally trained\n",
    "        if (self.is_embedding_layer):\n",
    "            self.embeddings = nn.Embedding(\n",
    "                num_embeddings=vocab_size,\n",
    "                embedding_dim=embedding_dim\n",
    "            )\n",
    "        # LSTM Layer\n",
    "        self.lstm = nn.LSTM(embedding_dim, hidden_dim, num_layers, bidirectional=bidirectional, dropout=dropout)\n",
    "        # Linear Layer\n",
    "        if bidirectional:\n",
    "            self.linear = nn.Linear(max_len * hidden_dim * 2, num_classes)\n",
    "        else:\n",
    "            self.linear = nn.Linear(max_len * hidden_dim, num_classes)\n",
    "       \n",
    "        self.softmax = nn.Softmax()\n",
    "    def forward(self, x):\n",
    "        if self.is_embedding_layer:\n",
    "            x = self.embeddings(x)\n",
    "        lstm_out, _ = self.lstm(x)\n",
    "        if self.is_embedding_layer:\n",
    "            lstm_out = lstm_out.reshape(lstm_out.shape[0], -1)\n",
    "        linear = self.linear(lstm_out)\n",
    "        return linear"
   ]
  },
  {
   "cell_type": "markdown",
   "id": "6cd637ba",
   "metadata": {},
   "source": [
    "# Train & Validate "
   ]
  },
  {
   "cell_type": "code",
   "execution_count": 16,
   "id": "2ad75936-1991-467f-a310-810e116dbadf",
   "metadata": {},
   "outputs": [],
   "source": [
    "import gc\n",
    "import torch\n",
    "import optuna\n",
    "import itertools\n",
    "from tqdm import tqdm\n",
    "from sklearn.metrics import f1_score"
   ]
  },
  {
   "cell_type": "code",
   "execution_count": 17,
   "id": "57b4819a",
   "metadata": {},
   "outputs": [],
   "source": [
    "NUM_CLASSES=4\n",
    "MAX_LEN=52\n",
    "def objective_balanced(trial, epochs=3):\n",
    "    # Hyperparameter search space\n",
    "    DEVICE = 'cuda' if torch.cuda.is_available() else 'cpu'\n",
    "    embedding_dim = trial.suggest_categorical(\"embedding_dim\", [128, 256, 512])\n",
    "    hidden_dim = trial.suggest_categorical(\"hidden_dim\", [64, 128, 256, 512])\n",
    "    num_layers = trial.suggest_int(\"num_layers\", 1, 4)\n",
    "    bidirectional = trial.suggest_categorical(\"bidirectional\", [True, False])\n",
    "    lr = trial.suggest_float(\"lr\", 1e-4, 1e-2, log=True)\n",
    "\n",
    "    model = LSTM(\n",
    "        vocab_size=len(VOCAB_BALANCED_SIZE),\n",
    "        embedding_dim=embedding_dim,\n",
    "        hidden_dim=hidden_dim,\n",
    "        num_layers=num_layers,\n",
    "        num_classes=NUM_CLASSES,\n",
    "        max_len=MAX_LEN,\n",
    "        bidirectional=bidirectional,\n",
    "        is_embedding_layer=True\n",
    "    ).to(DEVICE)\n",
    "    criterion = nn.CrossEntropyLoss()\n",
    "    optimizer = Adam(model.parameters(), lr=lr)\n",
    "    \n",
    "\t\n",
    "    model.train()\n",
    "    for epoch in range(epochs):\n",
    "        for X_batch, y_batch in train_loader_balanced:\n",
    "            X_batch, y_batch = X_batch.to(DEVICE), y_batch.to(DEVICE)\n",
    "            optimizer.zero_grad()\n",
    "\n",
    "            # Forward pass\n",
    "            y_preds = model(X_batch)\n",
    "            loss = criterion(y_preds, y_batch)\n",
    "\n",
    "            # Backward pass\n",
    "            loss.backward()\n",
    "            optimizer.step()\n",
    "            \n",
    "\n",
    "    # Validation\n",
    "    model.eval()\n",
    "    y_preds_list = []\n",
    "    y_true_list = []\n",
    "    with torch.no_grad():\n",
    "        for X_batch, y_batch in val_loader_balanced:\n",
    "            X_batch, y_batch = X_batch.to(DEVICE), y_batch.to(DEVICE)\n",
    "            y_preds = model(X_batch)\n",
    "\n",
    "            # Move predictions to CPU to avoid VRAM overload\n",
    "            y_preds_cpu = y_preds.detach().cpu().numpy()\n",
    "            y_batch_cpu =y_batch.detach().cpu().numpy()\n",
    "            \n",
    "\n",
    "            # Append predictions and true labels to lists for F1 computation\n",
    "            y_preds_list.extend(np.argmax(y_preds_cpu, axis=1))\n",
    "            y_true_list.extend(y_batch_cpu)\n",
    "\n",
    "            # Clear memory after each batch\n",
    "            del X_batch, y_batch, y_preds\n",
    "            torch.cuda.empty_cache()\n",
    "            gc.collect()\n",
    "    # Compute F1 score incrementally\n",
    "    f1 = f1_score(np.array(y_true_list), np.array(y_preds_list), average=\"weighted\", labels=[0, 1, 2, 3])\n",
    "    \n",
    "    # Cleanup model and cache after evaluation\n",
    "    del model\n",
    "    torch.cuda.empty_cache()\n",
    "    gc.collect()\n",
    "\n",
    "    return f1\n"
   ]
  },
  {
   "cell_type": "code",
   "execution_count": 23,
   "id": "ae622d0e",
   "metadata": {
    "scrolled": true
   },
   "outputs": [
    {
     "name": "stderr",
     "output_type": "stream",
     "text": [
      "[I 2025-05-10 21:20:57,687] A new study created in memory with name: no-name-970ea8b1-3e1d-4abf-b018-518bc10bbcb5\n",
      "[I 2025-05-10 21:21:03,490] Trial 0 finished with value: 0.49562191721436255 and parameters: {'embedding_dim': 512, 'hidden_dim': 64, 'num_layers': 4, 'bidirectional': True, 'lr': 0.0012503183104253229}. Best is trial 0 with value: 0.49562191721436255.\n",
      "[I 2025-05-10 21:21:08,594] Trial 1 finished with value: 0.5593249409231319 and parameters: {'embedding_dim': 128, 'hidden_dim': 64, 'num_layers': 3, 'bidirectional': True, 'lr': 0.00213009620150366}. Best is trial 1 with value: 0.5593249409231319.\n",
      "[I 2025-05-10 21:21:13,238] Trial 2 finished with value: 0.5894177933929033 and parameters: {'embedding_dim': 256, 'hidden_dim': 64, 'num_layers': 1, 'bidirectional': True, 'lr': 0.0016631208817564633}. Best is trial 2 with value: 0.5894177933929033.\n",
      "[I 2025-05-10 21:21:18,653] Trial 3 finished with value: 0.5327775192288556 and parameters: {'embedding_dim': 512, 'hidden_dim': 128, 'num_layers': 3, 'bidirectional': True, 'lr': 0.009474832783121853}. Best is trial 2 with value: 0.5894177933929033.\n",
      "[I 2025-05-10 21:21:23,171] Trial 4 finished with value: 0.6040166720416779 and parameters: {'embedding_dim': 256, 'hidden_dim': 64, 'num_layers': 1, 'bidirectional': True, 'lr': 0.0013699937842235066}. Best is trial 4 with value: 0.6040166720416779.\n",
      "[I 2025-05-10 21:21:28,413] Trial 5 finished with value: 0.5372552722300076 and parameters: {'embedding_dim': 256, 'hidden_dim': 128, 'num_layers': 3, 'bidirectional': True, 'lr': 0.0006179605394315675}. Best is trial 4 with value: 0.6040166720416779.\n",
      "[I 2025-05-10 21:21:33,072] Trial 6 finished with value: 0.4579394218225465 and parameters: {'embedding_dim': 256, 'hidden_dim': 128, 'num_layers': 3, 'bidirectional': False, 'lr': 0.0008319654610061403}. Best is trial 4 with value: 0.6040166720416779.\n",
      "[I 2025-05-10 21:21:38,686] Trial 7 finished with value: 0.46085983145761317 and parameters: {'embedding_dim': 256, 'hidden_dim': 512, 'num_layers': 1, 'bidirectional': True, 'lr': 0.00014904439046719287}. Best is trial 4 with value: 0.6040166720416779.\n",
      "[I 2025-05-10 21:21:43,144] Trial 8 finished with value: 0.4913440199179421 and parameters: {'embedding_dim': 128, 'hidden_dim': 128, 'num_layers': 2, 'bidirectional': False, 'lr': 0.0003536708710522181}. Best is trial 4 with value: 0.6040166720416779.\n",
      "[I 2025-05-10 21:21:49,815] Trial 9 finished with value: 0.43065540796208157 and parameters: {'embedding_dim': 256, 'hidden_dim': 256, 'num_layers': 3, 'bidirectional': True, 'lr': 0.00013878083840932655}. Best is trial 4 with value: 0.6040166720416779.\n",
      "[I 2025-05-10 21:21:54,600] Trial 10 finished with value: 0.5264585485525825 and parameters: {'embedding_dim': 128, 'hidden_dim': 512, 'num_layers': 1, 'bidirectional': False, 'lr': 0.004737368438723694}. Best is trial 4 with value: 0.6040166720416779.\n",
      "[I 2025-05-10 21:21:59,041] Trial 11 finished with value: 0.602009200328015 and parameters: {'embedding_dim': 256, 'hidden_dim': 64, 'num_layers': 1, 'bidirectional': True, 'lr': 0.002893327626104888}. Best is trial 4 with value: 0.6040166720416779.\n",
      "[I 2025-05-10 21:22:03,778] Trial 12 finished with value: 0.5938670045400192 and parameters: {'embedding_dim': 256, 'hidden_dim': 64, 'num_layers': 2, 'bidirectional': True, 'lr': 0.0034147235229189782}. Best is trial 4 with value: 0.6040166720416779.\n",
      "[I 2025-05-10 21:22:08,322] Trial 13 finished with value: 0.5736845940741163 and parameters: {'embedding_dim': 256, 'hidden_dim': 64, 'num_layers': 1, 'bidirectional': True, 'lr': 0.00441009334692262}. Best is trial 4 with value: 0.6040166720416779.\n",
      "[I 2025-05-10 21:22:13,449] Trial 14 finished with value: 0.5716150596859206 and parameters: {'embedding_dim': 256, 'hidden_dim': 256, 'num_layers': 2, 'bidirectional': False, 'lr': 0.000421168973711546}. Best is trial 4 with value: 0.6040166720416779.\n"
     ]
    },
    {
     "name": "stdout",
     "output_type": "stream",
     "text": [
      "Best hyperparameters: {'embedding_dim': 256, 'hidden_dim': 64, 'num_layers': 1, 'bidirectional': True, 'lr': 0.0013699937842235066}\n"
     ]
    }
   ],
   "source": [
    "# ---- Run the Optuna Study ----\n",
    "study_balanced = optuna.create_study(direction=\"maximize\")\n",
    "study_balanced.optimize(objective_balanced, n_trials=15)\n",
    "\n",
    "print(\"Best hyperparameters:\", study_balanced.best_trial.params)"
   ]
  },
  {
   "cell_type": "code",
   "execution_count": 25,
   "id": "c707c523-bec2-4bcb-9193-990ff76469f8",
   "metadata": {
    "jupyter": {
     "source_hidden": true
    }
   },
   "outputs": [],
   "source": [
    "def objective_unbalanced(trial, epochs=3):\n",
    "    # Hyperparameter search space\n",
    "    DEVICE = 'cuda' if torch.cuda.is_available() else 'cpu'\n",
    "    embedding_dim = trial.suggest_categorical(\"embedding_dim\", [128, 256, 512])\n",
    "    hidden_dim = trial.suggest_categorical(\"hidden_dim\", [64, 128, 256, 512])\n",
    "    num_layers = trial.suggest_int(\"num_layers\", 1, 4)\n",
    "    bidirectional = trial.suggest_categorical(\"bidirectional\", [True, False])\n",
    "\n",
    "    NUM_CLASSES=4\n",
    "    MAX_LEN=52\n",
    "    \n",
    "    lr = trial.suggest_float(\"lr\", 1e-4, 1e-2, log=True)\n",
    "    model = LSTM(\n",
    "        vocab_size=len(VOCAB_UNBALANCED_SIZE) + 1000,\n",
    "        embedding_dim=embedding_dim,\n",
    "        hidden_dim=hidden_dim,\n",
    "        num_layers=num_layers,\n",
    "        num_classes=NUM_CLASSES,\n",
    "        max_len=MAX_LEN,\n",
    "        bidirectional=bidirectional,\n",
    "        is_embedding_layer=True\n",
    "    ).to(DEVICE)\n",
    "    weight=torch.tensor([0.9589603283173734, 1.7014563106796117, 1.874331550802139, 0.55327545382794]).to(DEVICE)\n",
    "    criterion = nn.CrossEntropyLoss(weight=weight)\n",
    "    optimizer = Adam(model.parameters(), lr=lr)\n",
    "    \n",
    "\t\n",
    "    model.train()\n",
    "    for epoch in range(epochs):\n",
    "        for X_batch, y_batch in train_loader_unbalanced:\n",
    "            X_batch, y_batch = X_batch.to(DEVICE), y_batch.to(DEVICE)\n",
    "            optimizer.zero_grad()\n",
    "\n",
    "            # Forward pass\n",
    "            y_preds = model(X_batch)\n",
    "            loss = criterion(y_preds, y_batch)\n",
    "\n",
    "            # Backward pass\n",
    "            loss.backward()\n",
    "            optimizer.step()\n",
    "            \n",
    "\n",
    "    # Validation\n",
    "    model.eval()\n",
    "    y_preds_list = []\n",
    "    y_true_list = []\n",
    "    with torch.no_grad():\n",
    "        for X_batch, y_batch in val_loader_unbalanced:\n",
    "            X_batch, y_batch = X_batch.to(DEVICE), y_batch.to(DEVICE)\n",
    "            y_preds = model(X_batch)\n",
    "\n",
    "            # Move predictions to CPU to avoid VRAM overload\n",
    "            y_preds_cpu = y_preds.detach().cpu().numpy()\n",
    "            y_batch_cpu =y_batch.detach().cpu().numpy()\n",
    "            \n",
    "\n",
    "            # Append predictions and true labels to lists for F1 computation\n",
    "            y_preds_list.extend(np.argmax(y_preds_cpu, axis=1))\n",
    "            y_true_list.extend(y_batch_cpu)\n",
    "\n",
    "            # Clear memory after each batch\n",
    "            del X_batch, y_batch, y_preds\n",
    "            torch.cuda.empty_cache()\n",
    "            gc.collect()\n",
    "    # Compute F1 score incrementally\n",
    "    f1 = f1_score(np.array(y_true_list), np.array(y_preds_list), average=\"weighted\", labels=[0, 1, 2, 3])\n",
    "    \n",
    "    # Cleanup model and cache after evaluation\n",
    "    del model\n",
    "    torch.cuda.empty_cache()\n",
    "    gc.collect()\n",
    "\n",
    "    return f1\n"
   ]
  },
  {
   "cell_type": "code",
   "execution_count": 26,
   "id": "87bc5b97-fa08-47f8-a407-d52da4c87557",
   "metadata": {
    "scrolled": true
   },
   "outputs": [
    {
     "name": "stderr",
     "output_type": "stream",
     "text": [
      "[I 2025-05-10 21:22:23,784] A new study created in memory with name: no-name-2a610629-ed94-4bbf-b5c1-0686f83f2058\n",
      "[I 2025-05-10 21:22:28,773] Trial 0 finished with value: 0.20662065037234217 and parameters: {'embedding_dim': 256, 'hidden_dim': 128, 'num_layers': 4, 'bidirectional': True, 'lr': 0.0033881903497482596}. Best is trial 0 with value: 0.20662065037234217.\n",
      "[I 2025-05-10 21:22:33,257] Trial 1 finished with value: 0.31648367789005893 and parameters: {'embedding_dim': 512, 'hidden_dim': 64, 'num_layers': 3, 'bidirectional': True, 'lr': 0.00109842339743824}. Best is trial 1 with value: 0.31648367789005893.\n",
      "[I 2025-05-10 21:22:37,190] Trial 2 finished with value: 0.39146082803936305 and parameters: {'embedding_dim': 128, 'hidden_dim': 128, 'num_layers': 1, 'bidirectional': False, 'lr': 0.0003250948179036696}. Best is trial 2 with value: 0.39146082803936305.\n",
      "[I 2025-05-10 21:22:41,446] Trial 3 finished with value: 0.326549127785771 and parameters: {'embedding_dim': 512, 'hidden_dim': 128, 'num_layers': 1, 'bidirectional': False, 'lr': 0.0009636030885884255}. Best is trial 2 with value: 0.39146082803936305.\n",
      "[I 2025-05-10 21:22:46,653] Trial 4 finished with value: 0.2595464908136242 and parameters: {'embedding_dim': 256, 'hidden_dim': 512, 'num_layers': 1, 'bidirectional': True, 'lr': 0.0002676968766847875}. Best is trial 2 with value: 0.39146082803936305.\n",
      "[I 2025-05-10 21:22:51,216] Trial 5 finished with value: 0.34336530907626794 and parameters: {'embedding_dim': 512, 'hidden_dim': 64, 'num_layers': 3, 'bidirectional': True, 'lr': 0.001954750503925925}. Best is trial 2 with value: 0.39146082803936305.\n",
      "[I 2025-05-10 21:22:57,482] Trial 6 finished with value: 0.2835220735178345 and parameters: {'embedding_dim': 128, 'hidden_dim': 512, 'num_layers': 3, 'bidirectional': False, 'lr': 0.00011902395936961679}. Best is trial 2 with value: 0.39146082803936305.\n",
      "[I 2025-05-10 21:23:01,956] Trial 7 finished with value: 0.3511180959799329 and parameters: {'embedding_dim': 128, 'hidden_dim': 256, 'num_layers': 2, 'bidirectional': False, 'lr': 0.0002935513363660806}. Best is trial 2 with value: 0.39146082803936305.\n",
      "[I 2025-05-10 21:23:06,101] Trial 8 finished with value: 0.35462359360489343 and parameters: {'embedding_dim': 128, 'hidden_dim': 64, 'num_layers': 3, 'bidirectional': False, 'lr': 0.0014152836922492115}. Best is trial 2 with value: 0.39146082803936305.\n",
      "[I 2025-05-10 21:23:11,080] Trial 9 finished with value: 0.34563276278097455 and parameters: {'embedding_dim': 256, 'hidden_dim': 256, 'num_layers': 3, 'bidirectional': False, 'lr': 0.0022805565431555886}. Best is trial 2 with value: 0.39146082803936305.\n",
      "[I 2025-05-10 21:23:15,210] Trial 10 finished with value: 0.2517890608825622 and parameters: {'embedding_dim': 128, 'hidden_dim': 128, 'num_layers': 1, 'bidirectional': False, 'lr': 0.008758194010917495}. Best is trial 2 with value: 0.39146082803936305.\n",
      "[I 2025-05-10 21:23:19,379] Trial 11 finished with value: 0.3941913047765001 and parameters: {'embedding_dim': 128, 'hidden_dim': 64, 'num_layers': 2, 'bidirectional': False, 'lr': 0.0004960450141084295}. Best is trial 11 with value: 0.3941913047765001.\n",
      "[I 2025-05-10 21:23:23,442] Trial 12 finished with value: 0.15396656453886637 and parameters: {'embedding_dim': 128, 'hidden_dim': 64, 'num_layers': 2, 'bidirectional': False, 'lr': 0.00043612390701673186}. Best is trial 11 with value: 0.3941913047765001.\n",
      "[I 2025-05-10 21:23:27,621] Trial 13 finished with value: 0.23233841692661958 and parameters: {'embedding_dim': 128, 'hidden_dim': 128, 'num_layers': 2, 'bidirectional': False, 'lr': 0.000528997309898259}. Best is trial 11 with value: 0.3941913047765001.\n",
      "[I 2025-05-10 21:23:31,608] Trial 14 finished with value: 0.3287519486923739 and parameters: {'embedding_dim': 128, 'hidden_dim': 64, 'num_layers': 1, 'bidirectional': False, 'lr': 0.00010764931127455534}. Best is trial 11 with value: 0.3941913047765001.\n"
     ]
    },
    {
     "name": "stdout",
     "output_type": "stream",
     "text": [
      "Best hyperparameters: {'embedding_dim': 128, 'hidden_dim': 64, 'num_layers': 2, 'bidirectional': False, 'lr': 0.0004960450141084295}\n"
     ]
    }
   ],
   "source": [
    "# ---- Run the Optuna Study ----\n",
    "study_unbalanced = optuna.create_study(direction=\"maximize\")\n",
    "study_unbalanced.optimize(objective_unbalanced, n_trials=15)\n",
    "\n",
    "print(\"Best hyperparameters:\", study_unbalanced.best_trial.params)"
   ]
  },
  {
   "cell_type": "code",
   "execution_count": 18,
   "id": "8c170281-b438-47a3-b21b-0c002ef071ef",
   "metadata": {
    "jupyter": {
     "source_hidden": true
    }
   },
   "outputs": [],
   "source": [
    "def objective_embed_balanced(trial, epochs=5):\n",
    "    \n",
    "    # Hyperparameter search space\n",
    "    DEVICE = 'cuda'\n",
    "    embedding_dim = trial.suggest_categorical(\"embedding_dim\", [768])\n",
    "    hidden_dim = trial.suggest_categorical(\"hidden_dim\", [128, 256, 512])\n",
    "    num_layers = trial.suggest_int(\"num_layers\", 2, 6)\n",
    "    bidirectional = trial.suggest_categorical(\"bidirectional\", [True, False])\n",
    "    dropout = trial.suggest_categorical(\"dropout\", [0.1, 0.25, 0.5])\n",
    "    lr = trial.suggest_float(\"lr\", 1e-4, 1e-2, log=True)\n",
    "\n",
    "    NUM_CLASSES=4\n",
    "    model = LSTM(\n",
    "        vocab_size=len(VOCAB_BALANCED_SIZE),\n",
    "        embedding_dim=embedding_dim,\n",
    "        hidden_dim=hidden_dim,\n",
    "        num_layers=num_layers,\n",
    "        num_classes=NUM_CLASSES,\n",
    "        max_len=1,\n",
    "        bidirectional=bidirectional,\n",
    "        dropout=dropout,\n",
    "        is_embedding_layer=False\n",
    "    ).to(DEVICE)\n",
    "    criterion = nn.CrossEntropyLoss()\n",
    "    optimizer = Adam(model.parameters(), lr=lr)\n",
    "    \n",
    "\t\n",
    "    model.train()\n",
    "    for epoch in range(epochs):\n",
    "        for X_batch, y_batch in train_loader_embed_balanced:\n",
    "            X_batch, y_batch = X_batch.to(DEVICE), y_batch.to(DEVICE)\n",
    "            optimizer.zero_grad()\n",
    "\n",
    "            # Forward pass\n",
    "            y_preds = model(X_batch)\n",
    "            loss = criterion(y_preds, y_batch)\n",
    "\n",
    "            # Backward pass\n",
    "            loss.backward()\n",
    "            optimizer.step()\n",
    "            \n",
    "\n",
    "    # Validation\n",
    "    model.eval()\n",
    "    y_preds_list = []\n",
    "    y_true_list = []\n",
    "    with torch.no_grad():\n",
    "        for X_batch, y_batch in val_loader_embed_balanced:\n",
    "            X_batch, y_batch = X_batch.to(DEVICE), y_batch.to(DEVICE)\n",
    "            y_preds = model(X_batch)\n",
    "\n",
    "            # Move predictions to CPU to avoid VRAM overload\n",
    "            y_preds_cpu = y_preds.detach().cpu().numpy()\n",
    "            y_batch_cpu =y_batch.detach().cpu().numpy()\n",
    "            \n",
    "\n",
    "            # Append predictions and true labels to lists for F1 computation\n",
    "            y_preds_list.extend(np.argmax(y_preds_cpu, axis=1))\n",
    "            y_true_list.extend(y_batch_cpu)\n",
    "\n",
    "            # Clear memory after each batch\n",
    "            del X_batch, y_batch, y_preds\n",
    "            torch.cuda.empty_cache()\n",
    "            gc.collect()\n",
    "    # Compute F1 score incrementally\n",
    "    f1 = f1_score(np.array(y_true_list), np.array(y_preds_list), average=\"weighted\", labels=[0, 1, 2, 3])\n",
    "    \n",
    "    # Cleanup model and cache after evaluation\n",
    "    del model\n",
    "    torch.cuda.empty_cache()\n",
    "    gc.collect()\n",
    "\n",
    "    return f1\n",
    "\n"
   ]
  },
  {
   "cell_type": "code",
   "execution_count": 19,
   "id": "d514f18f-7c85-40f0-90dc-d8b71b44e6c3",
   "metadata": {
    "collapsed": true,
    "jupyter": {
     "outputs_hidden": true,
     "source_hidden": true
    }
   },
   "outputs": [
    {
     "name": "stderr",
     "output_type": "stream",
     "text": [
      "[I 2025-05-10 21:08:57,643] A new study created in memory with name: no-name-7215fef3-cb1a-4778-a19b-8404d86bd29e\n",
      "[I 2025-05-10 21:09:08,873] Trial 0 finished with value: 0.6656562587493309 and parameters: {'embedding_dim': 768, 'hidden_dim': 128, 'num_layers': 2, 'bidirectional': True, 'dropout': 0.1, 'lr': 0.002844323381139709}. Best is trial 0 with value: 0.6656562587493309.\n",
      "[I 2025-05-10 21:09:19,715] Trial 1 finished with value: 0.7174626058109882 and parameters: {'embedding_dim': 768, 'hidden_dim': 512, 'num_layers': 2, 'bidirectional': False, 'dropout': 0.5, 'lr': 0.0014406787560723709}. Best is trial 1 with value: 0.7174626058109882.\n",
      "[I 2025-05-10 21:09:33,798] Trial 2 finished with value: 0.5944742203351513 and parameters: {'embedding_dim': 768, 'hidden_dim': 128, 'num_layers': 6, 'bidirectional': True, 'dropout': 0.1, 'lr': 0.0019966743816257613}. Best is trial 1 with value: 0.7174626058109882.\n",
      "[I 2025-05-10 21:09:45,554] Trial 3 finished with value: 0.6448282774905677 and parameters: {'embedding_dim': 768, 'hidden_dim': 256, 'num_layers': 4, 'bidirectional': False, 'dropout': 0.25, 'lr': 0.0018774090354990603}. Best is trial 1 with value: 0.7174626058109882.\n",
      "[I 2025-05-10 21:10:01,737] Trial 4 finished with value: 0.627970715025423 and parameters: {'embedding_dim': 768, 'hidden_dim': 256, 'num_layers': 5, 'bidirectional': True, 'dropout': 0.25, 'lr': 0.0030561366512459414}. Best is trial 1 with value: 0.7174626058109882.\n",
      "[I 2025-05-10 21:10:12,979] Trial 5 finished with value: 0.6130480785731776 and parameters: {'embedding_dim': 768, 'hidden_dim': 256, 'num_layers': 4, 'bidirectional': False, 'dropout': 0.5, 'lr': 0.0002952347580891115}. Best is trial 1 with value: 0.7174626058109882.\n",
      "[I 2025-05-10 21:10:36,821] Trial 6 finished with value: 0.6620695443492072 and parameters: {'embedding_dim': 768, 'hidden_dim': 512, 'num_layers': 5, 'bidirectional': True, 'dropout': 0.5, 'lr': 0.00032872574417761366}. Best is trial 1 with value: 0.7174626058109882.\n",
      "[I 2025-05-10 21:10:46,845] Trial 7 finished with value: 0.7012894766685299 and parameters: {'embedding_dim': 768, 'hidden_dim': 256, 'num_layers': 2, 'bidirectional': False, 'dropout': 0.1, 'lr': 0.0002081115752557228}. Best is trial 1 with value: 0.7174626058109882.\n",
      "[I 2025-05-10 21:11:00,106] Trial 8 finished with value: 0.6398445180312861 and parameters: {'embedding_dim': 768, 'hidden_dim': 128, 'num_layers': 5, 'bidirectional': True, 'dropout': 0.1, 'lr': 0.0013139055651157988}. Best is trial 1 with value: 0.7174626058109882.\n",
      "[I 2025-05-10 21:11:12,526] Trial 9 finished with value: 0.6480428575123912 and parameters: {'embedding_dim': 768, 'hidden_dim': 512, 'num_layers': 3, 'bidirectional': False, 'dropout': 0.25, 'lr': 0.009970526720557375}. Best is trial 1 with value: 0.7174626058109882.\n",
      "[I 2025-05-10 21:11:24,900] Trial 10 finished with value: 0.6816791076380919 and parameters: {'embedding_dim': 768, 'hidden_dim': 512, 'num_layers': 3, 'bidirectional': False, 'dropout': 0.5, 'lr': 0.00010126245542802962}. Best is trial 1 with value: 0.7174626058109882.\n",
      "[I 2025-05-10 21:11:35,306] Trial 11 finished with value: 0.6988484967591783 and parameters: {'embedding_dim': 768, 'hidden_dim': 256, 'num_layers': 2, 'bidirectional': False, 'dropout': 0.1, 'lr': 0.0004900411730992827}. Best is trial 1 with value: 0.7174626058109882.\n",
      "[I 2025-05-10 21:11:46,210] Trial 12 finished with value: 0.7299280179515252 and parameters: {'embedding_dim': 768, 'hidden_dim': 512, 'num_layers': 2, 'bidirectional': False, 'dropout': 0.5, 'lr': 0.0001013927614287239}. Best is trial 12 with value: 0.7299280179515252.\n",
      "[I 2025-05-10 21:11:58,788] Trial 13 finished with value: 0.6725819120774293 and parameters: {'embedding_dim': 768, 'hidden_dim': 512, 'num_layers': 3, 'bidirectional': False, 'dropout': 0.5, 'lr': 0.000697400061835354}. Best is trial 12 with value: 0.7299280179515252.\n",
      "[I 2025-05-10 21:12:09,591] Trial 14 finished with value: 0.6449829294024712 and parameters: {'embedding_dim': 768, 'hidden_dim': 512, 'num_layers': 2, 'bidirectional': False, 'dropout': 0.5, 'lr': 0.005854220453968281}. Best is trial 12 with value: 0.7299280179515252.\n",
      "[I 2025-05-10 21:12:21,354] Trial 15 finished with value: 0.673441435341844 and parameters: {'embedding_dim': 768, 'hidden_dim': 512, 'num_layers': 3, 'bidirectional': False, 'dropout': 0.5, 'lr': 0.00010115980271750061}. Best is trial 12 with value: 0.7299280179515252.\n",
      "[I 2025-05-10 21:12:32,229] Trial 16 finished with value: 0.7165154108191035 and parameters: {'embedding_dim': 768, 'hidden_dim': 512, 'num_layers': 2, 'bidirectional': False, 'dropout': 0.5, 'lr': 0.0007635943673416908}. Best is trial 12 with value: 0.7299280179515252.\n",
      "[I 2025-05-10 21:12:44,153] Trial 17 finished with value: 0.7027430326768954 and parameters: {'embedding_dim': 768, 'hidden_dim': 512, 'num_layers': 3, 'bidirectional': False, 'dropout': 0.5, 'lr': 0.0010431554134751474}. Best is trial 12 with value: 0.7299280179515252.\n",
      "[I 2025-05-10 21:12:57,612] Trial 18 finished with value: 0.6734762654873283 and parameters: {'embedding_dim': 768, 'hidden_dim': 512, 'num_layers': 4, 'bidirectional': False, 'dropout': 0.5, 'lr': 0.00022593432928016497}. Best is trial 12 with value: 0.7299280179515252.\n",
      "[I 2025-05-10 21:13:08,067] Trial 19 finished with value: 0.7114449824174498 and parameters: {'embedding_dim': 768, 'hidden_dim': 512, 'num_layers': 2, 'bidirectional': False, 'dropout': 0.5, 'lr': 0.00015764480957795643}. Best is trial 12 with value: 0.7299280179515252.\n",
      "[I 2025-05-10 21:13:19,193] Trial 20 finished with value: 0.5717899549252227 and parameters: {'embedding_dim': 768, 'hidden_dim': 128, 'num_layers': 6, 'bidirectional': False, 'dropout': 0.25, 'lr': 0.0004611371423064913}. Best is trial 12 with value: 0.7299280179515252.\n",
      "[I 2025-05-10 21:13:30,421] Trial 21 finished with value: 0.7160209279126193 and parameters: {'embedding_dim': 768, 'hidden_dim': 512, 'num_layers': 2, 'bidirectional': False, 'dropout': 0.5, 'lr': 0.0007325217656666539}. Best is trial 12 with value: 0.7299280179515252.\n",
      "[I 2025-05-10 21:13:41,593] Trial 22 finished with value: 0.7075852347078447 and parameters: {'embedding_dim': 768, 'hidden_dim': 512, 'num_layers': 2, 'bidirectional': False, 'dropout': 0.5, 'lr': 0.004334739801372162}. Best is trial 12 with value: 0.7299280179515252.\n",
      "[I 2025-05-10 21:13:54,367] Trial 23 finished with value: 0.7000997295136585 and parameters: {'embedding_dim': 768, 'hidden_dim': 512, 'num_layers': 3, 'bidirectional': False, 'dropout': 0.5, 'lr': 0.0015666515309875149}. Best is trial 12 with value: 0.7299280179515252.\n",
      "[I 2025-05-10 21:14:05,057] Trial 24 finished with value: 0.7041996353383642 and parameters: {'embedding_dim': 768, 'hidden_dim': 512, 'num_layers': 2, 'bidirectional': False, 'dropout': 0.5, 'lr': 0.0007781696424845395}. Best is trial 12 with value: 0.7299280179515252.\n",
      "[I 2025-05-10 21:14:17,684] Trial 25 finished with value: 0.6859362818006994 and parameters: {'embedding_dim': 768, 'hidden_dim': 512, 'num_layers': 3, 'bidirectional': False, 'dropout': 0.5, 'lr': 0.0004824794140815841}. Best is trial 12 with value: 0.7299280179515252.\n",
      "[I 2025-05-10 21:14:33,035] Trial 26 finished with value: 0.7066878411011096 and parameters: {'embedding_dim': 768, 'hidden_dim': 512, 'num_layers': 2, 'bidirectional': True, 'dropout': 0.5, 'lr': 0.0010302680208863788}. Best is trial 12 with value: 0.7299280179515252.\n",
      "[I 2025-05-10 21:14:45,188] Trial 27 finished with value: 0.6621581053245608 and parameters: {'embedding_dim': 768, 'hidden_dim': 512, 'num_layers': 3, 'bidirectional': False, 'dropout': 0.5, 'lr': 0.0027642786751819557}. Best is trial 12 with value: 0.7299280179515252.\n",
      "[I 2025-05-10 21:14:59,624] Trial 28 finished with value: 0.6178211995097947 and parameters: {'embedding_dim': 768, 'hidden_dim': 512, 'num_layers': 4, 'bidirectional': False, 'dropout': 0.25, 'lr': 0.00014897703413458704}. Best is trial 12 with value: 0.7299280179515252.\n",
      "[I 2025-05-10 21:15:10,176] Trial 29 finished with value: 0.7044454088077257 and parameters: {'embedding_dim': 768, 'hidden_dim': 128, 'num_layers': 2, 'bidirectional': True, 'dropout': 0.5, 'lr': 0.0029958233085061454}. Best is trial 12 with value: 0.7299280179515252.\n"
     ]
    },
    {
     "name": "stdout",
     "output_type": "stream",
     "text": [
      "Best hyperparameters: {'embedding_dim': 768, 'hidden_dim': 512, 'num_layers': 2, 'bidirectional': False, 'dropout': 0.5, 'lr': 0.0001013927614287239}\n"
     ]
    }
   ],
   "source": [
    "# ---- Run the Optuna Study ----\n",
    "study_embed_balanced = optuna.create_study(direction=\"maximize\")\n",
    "study_embed_balanced.optimize(objective_embed_balanced, n_trials=30)\n",
    "\n",
    "print(\"Best hyperparameters:\", study_embed_balanced.best_trial.params)"
   ]
  },
  {
   "cell_type": "code",
   "execution_count": 20,
   "id": "cd45cee5-198b-402b-be1f-33de4e24b42e",
   "metadata": {},
   "outputs": [],
   "source": [
    "def objective_embed_unbalanced(trial, epochs=5):\n",
    "    \n",
    "    # Hyperparameter search space\n",
    "    DEVICE = 'cuda'\n",
    "    embedding_dim = trial.suggest_categorical(\"embedding_dim\", [768])\n",
    "    hidden_dim = trial.suggest_categorical(\"hidden_dim\", [128, 256, 512])\n",
    "    num_layers = trial.suggest_int(\"num_layers\", 2, 6)\n",
    "    bidirectional = trial.suggest_categorical(\"bidirectional\", [True, False])\n",
    "    dropout = trial.suggest_categorical(\"dropout\", [0.1, 0.25, 0.5])\n",
    "    lr = trial.suggest_float(\"lr\", 1e-4, 1e-2, log=True)\n",
    "\n",
    "    NUM_CLASSES=4\n",
    "    model = LSTM(\n",
    "        vocab_size=len(VOCAB_UNBALANCED_SIZE)+1000,\n",
    "        embedding_dim=embedding_dim,\n",
    "        hidden_dim=hidden_dim,\n",
    "        num_layers=num_layers,\n",
    "        num_classes=NUM_CLASSES,\n",
    "        max_len=1,\n",
    "        bidirectional=bidirectional,\n",
    "        dropout=dropout,\n",
    "        is_embedding_layer=False\n",
    "    ).to(DEVICE)\n",
    "    weight=torch.tensor([0.9589603283173734, 1.7014563106796117, 1.874331550802139, 0.55327545382794]).to(DEVICE)\n",
    "    criterion = nn.CrossEntropyLoss(weight=weight)\n",
    "    optimizer = Adam(model.parameters(), lr=lr)\n",
    "    \n",
    "\t\n",
    "    model.train()\n",
    "    for epoch in range(epochs):\n",
    "        for X_batch, y_batch in train_loader_embed_unbalanced:\n",
    "            X_batch, y_batch = X_batch.to(DEVICE), y_batch.to(DEVICE)\n",
    "            optimizer.zero_grad()\n",
    "\n",
    "            # Forward pass\n",
    "            y_preds = model(X_batch)\n",
    "            loss = criterion(y_preds, y_batch)\n",
    "\n",
    "            # Backward pass\n",
    "            loss.backward()\n",
    "            optimizer.step()\n",
    "            \n",
    "\n",
    "    # Validation\n",
    "    model.eval()\n",
    "    y_preds_list = []\n",
    "    y_true_list = []\n",
    "    with torch.no_grad():\n",
    "        for X_batch, y_batch in val_loader_embed_unbalanced:\n",
    "            X_batch, y_batch = X_batch.to(DEVICE), y_batch.to(DEVICE)\n",
    "            y_preds = model(X_batch)\n",
    "\n",
    "            # Move predictions to CPU to avoid VRAM overload\n",
    "            y_preds_cpu = y_preds.detach().cpu().numpy()\n",
    "            y_batch_cpu =y_batch.detach().cpu().numpy()\n",
    "            \n",
    "\n",
    "            # Append predictions and true labels to lists for F1 computation\n",
    "            y_preds_list.extend(np.argmax(y_preds_cpu, axis=1))\n",
    "            y_true_list.extend(y_batch_cpu)\n",
    "\n",
    "            # Clear memory after each batch\n",
    "            del X_batch, y_batch, y_preds\n",
    "            torch.cuda.empty_cache()\n",
    "            gc.collect()\n",
    "    # Compute F1 score incrementally\n",
    "    f1 = f1_score(np.array(y_true_list), np.array(y_preds_list), average=\"weighted\", labels=[0, 1, 2, 3])\n",
    "    \n",
    "    # Cleanup model and cache after evaluation\n",
    "    del model\n",
    "    torch.cuda.empty_cache()\n",
    "    gc.collect()\n",
    "\n",
    "    return f1\n",
    "\n"
   ]
  },
  {
   "cell_type": "code",
   "execution_count": 21,
   "id": "f9478042-7877-40c5-af0d-0b4a39949282",
   "metadata": {
    "collapsed": true,
    "jupyter": {
     "outputs_hidden": true
    }
   },
   "outputs": [
    {
     "name": "stderr",
     "output_type": "stream",
     "text": [
      "[I 2025-05-10 21:15:10,199] A new study created in memory with name: no-name-d1439657-0221-43cf-a542-6adace99596a\n",
      "[I 2025-05-10 21:15:20,840] Trial 0 finished with value: 0.6170648256282029 and parameters: {'embedding_dim': 768, 'hidden_dim': 256, 'num_layers': 4, 'bidirectional': False, 'dropout': 0.5, 'lr': 0.00386706593804655}. Best is trial 0 with value: 0.6170648256282029.\n",
      "[I 2025-05-10 21:15:43,674] Trial 1 finished with value: 0.5576541145300451 and parameters: {'embedding_dim': 768, 'hidden_dim': 512, 'num_layers': 6, 'bidirectional': True, 'dropout': 0.5, 'lr': 0.001280537310804523}. Best is trial 0 with value: 0.6170648256282029.\n",
      "[I 2025-05-10 21:15:54,972] Trial 2 finished with value: 0.5412348568537367 and parameters: {'embedding_dim': 768, 'hidden_dim': 256, 'num_layers': 5, 'bidirectional': False, 'dropout': 0.5, 'lr': 0.003151375858270054}. Best is trial 0 with value: 0.6170648256282029.\n",
      "[I 2025-05-10 21:16:04,455] Trial 3 finished with value: 0.6952140623543489 and parameters: {'embedding_dim': 768, 'hidden_dim': 128, 'num_layers': 2, 'bidirectional': True, 'dropout': 0.1, 'lr': 0.0025988962967687223}. Best is trial 3 with value: 0.6952140623543489.\n",
      "[I 2025-05-10 21:16:16,107] Trial 4 finished with value: 0.5753796787112645 and parameters: {'embedding_dim': 768, 'hidden_dim': 256, 'num_layers': 6, 'bidirectional': False, 'dropout': 0.1, 'lr': 0.0016314397479660185}. Best is trial 3 with value: 0.6952140623543489.\n",
      "[I 2025-05-10 21:16:25,550] Trial 5 finished with value: 0.7202579951521165 and parameters: {'embedding_dim': 768, 'hidden_dim': 512, 'num_layers': 2, 'bidirectional': False, 'dropout': 0.1, 'lr': 0.0007415259148046213}. Best is trial 5 with value: 0.7202579951521165.\n",
      "[I 2025-05-10 21:16:48,469] Trial 6 finished with value: 0.11034953539237403 and parameters: {'embedding_dim': 768, 'hidden_dim': 512, 'num_layers': 6, 'bidirectional': True, 'dropout': 0.1, 'lr': 0.006582837741098493}. Best is trial 5 with value: 0.7202579951521165.\n",
      "[I 2025-05-10 21:16:59,638] Trial 7 finished with value: 0.6744950275570363 and parameters: {'embedding_dim': 768, 'hidden_dim': 512, 'num_layers': 3, 'bidirectional': False, 'dropout': 0.5, 'lr': 0.002084575526484676}. Best is trial 5 with value: 0.7202579951521165.\n",
      "[I 2025-05-10 21:17:08,287] Trial 8 finished with value: 0.692876181052291 and parameters: {'embedding_dim': 768, 'hidden_dim': 128, 'num_layers': 2, 'bidirectional': False, 'dropout': 0.5, 'lr': 0.0009829024222930357}. Best is trial 5 with value: 0.7202579951521165.\n",
      "[I 2025-05-10 21:17:21,379] Trial 9 finished with value: 0.5044758440849713 and parameters: {'embedding_dim': 768, 'hidden_dim': 128, 'num_layers': 6, 'bidirectional': True, 'dropout': 0.5, 'lr': 0.0001232816750967319}. Best is trial 5 with value: 0.7202579951521165.\n",
      "[I 2025-05-10 21:17:33,038] Trial 10 finished with value: 0.6952842695009427 and parameters: {'embedding_dim': 768, 'hidden_dim': 512, 'num_layers': 3, 'bidirectional': False, 'dropout': 0.25, 'lr': 0.0003808573109535266}. Best is trial 5 with value: 0.7202579951521165.\n",
      "[I 2025-05-10 21:17:44,903] Trial 11 finished with value: 0.6995882929762139 and parameters: {'embedding_dim': 768, 'hidden_dim': 512, 'num_layers': 3, 'bidirectional': False, 'dropout': 0.25, 'lr': 0.00045542609113364055}. Best is trial 5 with value: 0.7202579951521165.\n",
      "[I 2025-05-10 21:17:56,511] Trial 12 finished with value: 0.7139534555492728 and parameters: {'embedding_dim': 768, 'hidden_dim': 512, 'num_layers': 3, 'bidirectional': False, 'dropout': 0.25, 'lr': 0.00047621004809330676}. Best is trial 5 with value: 0.7202579951521165.\n",
      "[I 2025-05-10 21:18:06,510] Trial 13 finished with value: 0.7294268407162944 and parameters: {'embedding_dim': 768, 'hidden_dim': 512, 'num_layers': 2, 'bidirectional': False, 'dropout': 0.25, 'lr': 0.00046722568383779746}. Best is trial 13 with value: 0.7294268407162944.\n",
      "[I 2025-05-10 21:18:16,542] Trial 14 finished with value: 0.7153474186399472 and parameters: {'embedding_dim': 768, 'hidden_dim': 512, 'num_layers': 2, 'bidirectional': False, 'dropout': 0.1, 'lr': 0.0002004996591712066}. Best is trial 13 with value: 0.7294268407162944.\n",
      "[I 2025-05-10 21:18:29,526] Trial 15 finished with value: 0.6086817681938848 and parameters: {'embedding_dim': 768, 'hidden_dim': 512, 'num_layers': 4, 'bidirectional': False, 'dropout': 0.25, 'lr': 0.0006841999208998331}. Best is trial 13 with value: 0.7294268407162944.\n",
      "[I 2025-05-10 21:18:39,585] Trial 16 finished with value: 0.6998487417626883 and parameters: {'embedding_dim': 768, 'hidden_dim': 512, 'num_layers': 2, 'bidirectional': False, 'dropout': 0.1, 'lr': 0.0002233693935571143}. Best is trial 13 with value: 0.7294268407162944.\n",
      "[I 2025-05-10 21:18:49,825] Trial 17 finished with value: 0.7216815539426621 and parameters: {'embedding_dim': 768, 'hidden_dim': 512, 'num_layers': 2, 'bidirectional': False, 'dropout': 0.25, 'lr': 0.0007891209928716187}. Best is trial 13 with value: 0.7294268407162944.\n",
      "[I 2025-05-10 21:19:04,027] Trial 18 finished with value: 0.6263396687298631 and parameters: {'embedding_dim': 768, 'hidden_dim': 256, 'num_layers': 5, 'bidirectional': True, 'dropout': 0.25, 'lr': 0.00030110626379084836}. Best is trial 13 with value: 0.7294268407162944.\n",
      "[I 2025-05-10 21:19:13,163] Trial 19 finished with value: 0.6340143584219742 and parameters: {'embedding_dim': 768, 'hidden_dim': 128, 'num_layers': 3, 'bidirectional': False, 'dropout': 0.25, 'lr': 0.00012921436307992187}. Best is trial 13 with value: 0.7294268407162944.\n",
      "[I 2025-05-10 21:19:24,724] Trial 20 finished with value: 0.6177764578922738 and parameters: {'embedding_dim': 768, 'hidden_dim': 512, 'num_layers': 4, 'bidirectional': False, 'dropout': 0.25, 'lr': 0.0007126816278751846}. Best is trial 13 with value: 0.7294268407162944.\n",
      "[I 2025-05-10 21:19:34,186] Trial 21 finished with value: 0.6993341148995078 and parameters: {'embedding_dim': 768, 'hidden_dim': 512, 'num_layers': 2, 'bidirectional': False, 'dropout': 0.25, 'lr': 0.000714385775763212}. Best is trial 13 with value: 0.7294268407162944.\n",
      "[I 2025-05-10 21:19:43,437] Trial 22 finished with value: 0.6624626538244427 and parameters: {'embedding_dim': 768, 'hidden_dim': 512, 'num_layers': 2, 'bidirectional': False, 'dropout': 0.1, 'lr': 0.0010980368368658847}. Best is trial 13 with value: 0.7294268407162944.\n",
      "[I 2025-05-10 21:19:52,687] Trial 23 finished with value: 0.6989599198408177 and parameters: {'embedding_dim': 768, 'hidden_dim': 512, 'num_layers': 2, 'bidirectional': False, 'dropout': 0.25, 'lr': 0.0006684381124273275}. Best is trial 13 with value: 0.7294268407162944.\n",
      "[I 2025-05-10 21:20:03,294] Trial 24 finished with value: 0.7020541965378346 and parameters: {'embedding_dim': 768, 'hidden_dim': 512, 'num_layers': 3, 'bidirectional': False, 'dropout': 0.25, 'lr': 0.000272277939460779}. Best is trial 13 with value: 0.7294268407162944.\n",
      "[I 2025-05-10 21:20:12,799] Trial 25 finished with value: 0.6994280607179708 and parameters: {'embedding_dim': 768, 'hidden_dim': 512, 'num_layers': 2, 'bidirectional': False, 'dropout': 0.1, 'lr': 0.0004952464488024432}. Best is trial 13 with value: 0.7294268407162944.\n",
      "[I 2025-05-10 21:20:27,601] Trial 26 finished with value: 0.7115644653949308 and parameters: {'embedding_dim': 768, 'hidden_dim': 512, 'num_layers': 3, 'bidirectional': True, 'dropout': 0.25, 'lr': 0.0009425162796059719}. Best is trial 13 with value: 0.7294268407162944.\n",
      "[I 2025-05-10 21:20:37,573] Trial 27 finished with value: 0.6693636259224127 and parameters: {'embedding_dim': 768, 'hidden_dim': 512, 'num_layers': 2, 'bidirectional': False, 'dropout': 0.1, 'lr': 0.00170500470670577}. Best is trial 13 with value: 0.7294268407162944.\n",
      "[I 2025-05-10 21:20:47,772] Trial 28 finished with value: 0.5297542863271654 and parameters: {'embedding_dim': 768, 'hidden_dim': 128, 'num_layers': 5, 'bidirectional': False, 'dropout': 0.25, 'lr': 0.00032717278311519225}. Best is trial 13 with value: 0.7294268407162944.\n",
      "[I 2025-05-10 21:20:57,668] Trial 29 finished with value: 0.6298207812611137 and parameters: {'embedding_dim': 768, 'hidden_dim': 256, 'num_layers': 3, 'bidirectional': False, 'dropout': 0.1, 'lr': 0.005664234079106269}. Best is trial 13 with value: 0.7294268407162944.\n"
     ]
    },
    {
     "name": "stdout",
     "output_type": "stream",
     "text": [
      "Best hyperparameters: {'embedding_dim': 768, 'hidden_dim': 512, 'num_layers': 2, 'bidirectional': False, 'dropout': 0.25, 'lr': 0.00046722568383779746}\n"
     ]
    }
   ],
   "source": [
    "# ---- Run the Optuna Study ----\n",
    "study_embed_unbalanced = optuna.create_study(direction=\"maximize\")\n",
    "study_embed_unbalanced.optimize(objective_embed_unbalanced, n_trials=30)\n",
    "\n",
    "print(\"Best hyperparameters:\", study_embed_unbalanced.best_trial.params)"
   ]
  },
  {
   "cell_type": "code",
   "execution_count": 65,
   "id": "8dcc2d82",
   "metadata": {},
   "outputs": [],
   "source": [
    "def train_val(\n",
    "        model: LSTM,\n",
    "        optim: torch.optim.Optimizer,\n",
    "        criterion: nn.CrossEntropyLoss,\n",
    "        epochs: int,\n",
    "        train_dataloader: DataLoader,\n",
    "        val_dataloader: DataLoader,\n",
    "        device\n",
    "    ):\n",
    "    best_f1 = 0\n",
    "    best_model = None\n",
    "    model.to(device)\n",
    "\n",
    "    for epoch in tqdm(range(epochs)):\n",
    "        model.train()\n",
    "        train_loss = 0\n",
    "        y_preds_train = []\n",
    "        y_true_train = []\n",
    "\n",
    "        for train_X, train_y in train_dataloader:\n",
    "            train_X, train_y = train_X.to(device), train_y.to(device).long()\n",
    "\n",
    "            y_preds = model(train_X)\n",
    "            loss = criterion(y_preds, train_y)\n",
    "\n",
    "            optim.zero_grad()\n",
    "            loss.backward()\n",
    "            optim.step()\n",
    "\n",
    "            train_loss += loss.item()\n",
    "            y_preds_train.extend(torch.argmax(y_preds, dim=1).cpu().numpy())\n",
    "            y_true_train.extend(train_y.cpu().numpy())\n",
    "\n",
    "            del train_X, train_y, y_preds\n",
    "            torch.cuda.empty_cache()\n",
    "            gc.collect()\n",
    "\n",
    "        train_f1 = f1_score(y_true_train, y_preds_train, average=\"weighted\", labels=[0, 1, 2, 3])\n",
    "\n",
    "        # Validation\n",
    "        model.eval()\n",
    "        val_loss = 0\n",
    "        y_preds_val = []\n",
    "        y_true_val = []\n",
    "\n",
    "        with torch.no_grad():\n",
    "            for val_X, val_y in val_dataloader:\n",
    "                val_X, val_y = val_X.to(device), val_y.to(device).long()\n",
    "\n",
    "                y_preds = model(val_X)\n",
    "                loss = criterion(y_preds, val_y)\n",
    "                val_loss += loss.item()\n",
    "\n",
    "                y_preds_val.extend(torch.argmax(y_preds, dim=1).cpu().numpy())\n",
    "                y_true_val.extend(val_y.cpu().numpy())\n",
    "\n",
    "                del val_X, val_y, y_preds\n",
    "                torch.cuda.empty_cache()\n",
    "                gc.collect()\n",
    "\n",
    "        val_f1 = f1_score(y_true_val, y_preds_val, average=\"weighted\", labels=[0, 1, 2, 3])\n",
    "\n",
    "        if val_f1 > best_f1:\n",
    "            best_f1 = val_f1\n",
    "            best_model = model.state_dict()\n",
    "\n",
    "        print(\n",
    "            f\"Epoch {epoch+1}/{epochs}, \"\n",
    "            f\"Train Loss: {train_loss/len(train_dataloader):.4f}, \"\n",
    "            f\"Val Loss: {val_loss/len(val_dataloader):.4f}, \"\n",
    "            f\"Train F1: {train_f1*100:.2f}%, \"\n",
    "            f\"Val F1: {val_f1*100:.2f}%\"\n",
    "        )\n",
    "    model.load_state_dict(best_model)\n",
    "    return model\n"
   ]
  },
  {
   "cell_type": "code",
   "execution_count": 66,
   "id": "539236a3-c6bb-45f7-8b89-7eff7dd73547",
   "metadata": {},
   "outputs": [],
   "source": [
    "DEVICE='cuda'"
   ]
  },
  {
   "cell_type": "code",
   "execution_count": 67,
   "id": "a9541a4a-d5d7-415d-9ba6-d2e86037b461",
   "metadata": {
    "scrolled": true
   },
   "outputs": [
    {
     "name": "stderr",
     "output_type": "stream",
     "text": [
      " 20%|█████████████████                                                                    | 1/5 [00:27<01:50, 27.62s/it]"
     ]
    },
    {
     "name": "stdout",
     "output_type": "stream",
     "text": [
      "Epoch 1/5, Train Loss: 1.2460, Val Loss: 1.1144, Train F1: 37.92%, Val F1: 48.08%\n"
     ]
    },
    {
     "name": "stderr",
     "output_type": "stream",
     "text": [
      " 40%|██████████████████████████████████                                                   | 2/5 [00:55<01:23, 27.93s/it]"
     ]
    },
    {
     "name": "stdout",
     "output_type": "stream",
     "text": [
      "Epoch 2/5, Train Loss: 0.8498, Val Loss: 1.0266, Train F1: 66.84%, Val F1: 62.87%\n"
     ]
    },
    {
     "name": "stderr",
     "output_type": "stream",
     "text": [
      " 60%|███████████████████████████████████████████████████                                  | 3/5 [01:24<00:56, 28.26s/it]"
     ]
    },
    {
     "name": "stdout",
     "output_type": "stream",
     "text": [
      "Epoch 3/5, Train Loss: 0.5234, Val Loss: 1.0473, Train F1: 82.26%, Val F1: 65.12%\n"
     ]
    },
    {
     "name": "stderr",
     "output_type": "stream",
     "text": [
      " 80%|████████████████████████████████████████████████████████████████████                 | 4/5 [01:52<00:28, 28.29s/it]"
     ]
    },
    {
     "name": "stdout",
     "output_type": "stream",
     "text": [
      "Epoch 4/5, Train Loss: 0.3523, Val Loss: 1.1165, Train F1: 87.80%, Val F1: 64.57%\n"
     ]
    },
    {
     "name": "stderr",
     "output_type": "stream",
     "text": [
      "100%|█████████████████████████████████████████████████████████████████████████████████████| 5/5 [02:21<00:00, 28.22s/it]"
     ]
    },
    {
     "name": "stdout",
     "output_type": "stream",
     "text": [
      "Epoch 5/5, Train Loss: 0.2642, Val Loss: 1.2113, Train F1: 90.36%, Val F1: 63.78%\n"
     ]
    },
    {
     "name": "stderr",
     "output_type": "stream",
     "text": [
      "\n"
     ]
    }
   ],
   "source": [
    "model_balanced = LSTM(\n",
    "\t\t\tvocab_size=len(VOCAB_BALANCED_SIZE),\n",
    "\t\t\tembedding_dim=study_balanced.best_trial.params['embedding_dim'],\n",
    "\t\t\thidden_dim=study_balanced.best_trial.params['hidden_dim'],\n",
    "\t\t\tnum_layers=study_balanced.best_trial.params['num_layers'],\n",
    "\t\t\tnum_classes=NUM_CLASSES,\n",
    "\t\t\tmax_len=MAX_LEN,\n",
    "\t\t\tbidirectional=study_balanced.best_trial.params['bidirectional'],\n",
    "            is_embedding_layer=True\n",
    "\t\t)\n",
    "criterion = nn.CrossEntropyLoss()\n",
    "optimizer = Adam(model_balanced.parameters(), lr=study_balanced.best_trial.params['lr'])\n",
    "best_balanced = train_val(\n",
    "    model_balanced,\n",
    "    optimizer,\n",
    "    criterion,\n",
    "    epochs = 5,\n",
    "    train_dataloader = train_loader_balanced,\n",
    "    val_dataloader = val_loader_balanced,\n",
    "    device=DEVICE\n",
    ")"
   ]
  },
  {
   "cell_type": "code",
   "execution_count": 76,
   "id": "8d400284-ef80-43cb-84a7-92cf35cbd198",
   "metadata": {},
   "outputs": [
    {
     "name": "stderr",
     "output_type": "stream",
     "text": [
      " 20%|█████████████████                                                                    | 1/5 [00:56<03:44, 56.14s/it]"
     ]
    },
    {
     "name": "stdout",
     "output_type": "stream",
     "text": [
      "Epoch 1/5, Train Loss: 1.1308, Val Loss: 0.8757, Train F1: 48.37%, Val F1: 60.85%\n"
     ]
    },
    {
     "name": "stderr",
     "output_type": "stream",
     "text": [
      " 40%|██████████████████████████████████                                                   | 2/5 [01:52<02:48, 56.11s/it]"
     ]
    },
    {
     "name": "stdout",
     "output_type": "stream",
     "text": [
      "Epoch 2/5, Train Loss: 0.8737, Val Loss: 0.7626, Train F1: 62.67%, Val F1: 67.98%\n"
     ]
    },
    {
     "name": "stderr",
     "output_type": "stream",
     "text": [
      " 60%|███████████████████████████████████████████████████                                  | 3/5 [02:48<01:52, 56.24s/it]"
     ]
    },
    {
     "name": "stdout",
     "output_type": "stream",
     "text": [
      "Epoch 3/5, Train Loss: 0.7705, Val Loss: 0.7089, Train F1: 66.66%, Val F1: 74.49%\n"
     ]
    },
    {
     "name": "stderr",
     "output_type": "stream",
     "text": [
      " 80%|████████████████████████████████████████████████████████████████████                 | 4/5 [04:01<01:02, 62.84s/it]"
     ]
    },
    {
     "name": "stdout",
     "output_type": "stream",
     "text": [
      "Epoch 4/5, Train Loss: 0.6963, Val Loss: 0.7124, Train F1: 70.19%, Val F1: 70.72%\n"
     ]
    },
    {
     "name": "stderr",
     "output_type": "stream",
     "text": [
      "100%|█████████████████████████████████████████████████████████████████████████████████████| 5/5 [05:02<00:00, 60.53s/it]"
     ]
    },
    {
     "name": "stdout",
     "output_type": "stream",
     "text": [
      "Epoch 5/5, Train Loss: 0.6242, Val Loss: 0.7430, Train F1: 72.81%, Val F1: 73.02%\n"
     ]
    },
    {
     "name": "stderr",
     "output_type": "stream",
     "text": [
      "\n"
     ]
    }
   ],
   "source": [
    "model_embed_balanced = LSTM(\n",
    "\t\t\tvocab_size=len(VOCAB_BALANCED_SIZE),\n",
    "\t\t\tembedding_dim=study_embed_balanced.best_trial.params['embedding_dim'],\n",
    "\t\t\thidden_dim=study_embed_balanced.best_trial.params['hidden_dim'],\n",
    "\t\t\tnum_layers=study_embed_balanced.best_trial.params['num_layers'],\n",
    "\t\t\tnum_classes=NUM_CLASSES,\n",
    "\t\t\tmax_len=1,\n",
    "\t\t\tbidirectional=study_embed_balanced.best_trial.params['bidirectional'],\n",
    "            is_embedding_layer=False\n",
    "\t\t)\n",
    "criterion = nn.CrossEntropyLoss()\n",
    "optimizer_embed_balanced = Adam(model_embed_balanced.parameters(), lr=study_embed_balanced.best_trial.params['lr'])\n",
    "\n",
    "best_embed_balanced=train_val(\n",
    "    model_embed_balanced,\n",
    "    optimizer_embed_balanced,\n",
    "    criterion,\n",
    "    epochs = 5,\n",
    "    train_dataloader = train_loader_embed_balanced,\n",
    "    val_dataloader = val_loader_embed_balanced,\n",
    "    device=DEVICE\n",
    ")"
   ]
  },
  {
   "cell_type": "code",
   "execution_count": 77,
   "id": "c351cfa7-9759-47d1-9019-1da4962ec6f5",
   "metadata": {
    "scrolled": true
   },
   "outputs": [
    {
     "name": "stderr",
     "output_type": "stream",
     "text": [
      " 20%|█████████████████                                                                    | 1/5 [00:21<01:26, 21.53s/it]"
     ]
    },
    {
     "name": "stdout",
     "output_type": "stream",
     "text": [
      "Epoch 1/5, Train Loss: 1.3904, Val Loss: 1.3893, Train F1: 29.05%, Val F1: 11.03%\n"
     ]
    },
    {
     "name": "stderr",
     "output_type": "stream",
     "text": [
      " 40%|██████████████████████████████████                                                   | 2/5 [00:43<01:06, 22.04s/it]"
     ]
    },
    {
     "name": "stdout",
     "output_type": "stream",
     "text": [
      "Epoch 2/5, Train Loss: 1.3798, Val Loss: 1.3929, Train F1: 32.75%, Val F1: 4.69%\n"
     ]
    },
    {
     "name": "stderr",
     "output_type": "stream",
     "text": [
      " 60%|███████████████████████████████████████████████████                                  | 3/5 [01:06<00:44, 22.18s/it]"
     ]
    },
    {
     "name": "stdout",
     "output_type": "stream",
     "text": [
      "Epoch 3/5, Train Loss: 1.3684, Val Loss: 1.3769, Train F1: 38.18%, Val F1: 11.15%\n"
     ]
    },
    {
     "name": "stderr",
     "output_type": "stream",
     "text": [
      " 80%|████████████████████████████████████████████████████████████████████                 | 4/5 [01:29<00:22, 22.52s/it]"
     ]
    },
    {
     "name": "stdout",
     "output_type": "stream",
     "text": [
      "Epoch 4/5, Train Loss: 1.3380, Val Loss: 1.3554, Train F1: 42.82%, Val F1: 35.87%\n"
     ]
    },
    {
     "name": "stderr",
     "output_type": "stream",
     "text": [
      "100%|█████████████████████████████████████████████████████████████████████████████████████| 5/5 [01:52<00:00, 22.50s/it]"
     ]
    },
    {
     "name": "stdout",
     "output_type": "stream",
     "text": [
      "Epoch 5/5, Train Loss: 1.2429, Val Loss: 1.3668, Train F1: 49.48%, Val F1: 30.81%\n"
     ]
    },
    {
     "name": "stderr",
     "output_type": "stream",
     "text": [
      "\n"
     ]
    }
   ],
   "source": [
    "model_unbalanced = LSTM(\n",
    "\t\t\tvocab_size=len(VOCAB_UNBALANCED_SIZE) + 1000,\n",
    "\t\t\tembedding_dim=study_unbalanced.best_trial.params['embedding_dim'],\n",
    "\t\t\thidden_dim=study_unbalanced.best_trial.params['hidden_dim'],\n",
    "\t\t\tnum_layers=study_unbalanced.best_trial.params['num_layers'],\n",
    "\t\t\tnum_classes=NUM_CLASSES,\n",
    "\t\t\tmax_len=MAX_LEN,\n",
    "\t\t\tbidirectional=study_unbalanced.best_trial.params['bidirectional'],\n",
    "            is_embedding_layer=True\n",
    "\t\t)\n",
    "weight=torch.tensor([0.9589603283173734, 1.7014563106796117, 1.874331550802139, 0.55327545382794]).to(DEVICE)\n",
    "criterion = nn.CrossEntropyLoss(weight=weight)\n",
    "optimizer_unbalanced = Adam(model_unbalanced.parameters(), lr=study_unbalanced.best_trial.params['lr'])\n",
    "best_unbalanced = train_val(\n",
    "    model_unbalanced,\n",
    "    optimizer_unbalanced,\n",
    "    criterion,\n",
    "    epochs = 5,\n",
    "    train_dataloader = train_loader_unbalanced,\n",
    "    val_dataloader = val_loader_unbalanced,\n",
    "    device=DEVICE\n",
    ")"
   ]
  },
  {
   "cell_type": "code",
   "execution_count": 78,
   "id": "8f6b5981-2b4b-4049-9811-b9ba45f31e81",
   "metadata": {},
   "outputs": [
    {
     "name": "stderr",
     "output_type": "stream",
     "text": [
      " 20%|█████████████████                                                                    | 1/5 [00:52<03:28, 52.07s/it]"
     ]
    },
    {
     "name": "stdout",
     "output_type": "stream",
     "text": [
      "Epoch 1/5, Train Loss: 1.0066, Val Loss: 0.8611, Train F1: 61.65%, Val F1: 66.33%\n"
     ]
    },
    {
     "name": "stderr",
     "output_type": "stream",
     "text": [
      " 40%|██████████████████████████████████                                                   | 2/5 [01:44<02:37, 52.46s/it]"
     ]
    },
    {
     "name": "stdout",
     "output_type": "stream",
     "text": [
      "Epoch 2/5, Train Loss: 0.6678, Val Loss: 0.7779, Train F1: 75.12%, Val F1: 68.70%\n"
     ]
    },
    {
     "name": "stderr",
     "output_type": "stream",
     "text": [
      " 60%|███████████████████████████████████████████████████                                  | 3/5 [02:34<01:42, 51.09s/it]"
     ]
    },
    {
     "name": "stdout",
     "output_type": "stream",
     "text": [
      "Epoch 3/5, Train Loss: 0.4694, Val Loss: 0.8453, Train F1: 82.45%, Val F1: 69.33%\n"
     ]
    },
    {
     "name": "stderr",
     "output_type": "stream",
     "text": [
      " 80%|████████████████████████████████████████████████████████████████████                 | 4/5 [03:26<00:51, 51.43s/it]"
     ]
    },
    {
     "name": "stdout",
     "output_type": "stream",
     "text": [
      "Epoch 4/5, Train Loss: 0.2954, Val Loss: 1.0231, Train F1: 87.93%, Val F1: 68.91%\n"
     ]
    },
    {
     "name": "stderr",
     "output_type": "stream",
     "text": [
      "100%|█████████████████████████████████████████████████████████████████████████████████████| 5/5 [04:17<00:00, 51.47s/it]"
     ]
    },
    {
     "name": "stdout",
     "output_type": "stream",
     "text": [
      "Epoch 5/5, Train Loss: 0.1661, Val Loss: 1.3642, Train F1: 93.42%, Val F1: 69.74%\n"
     ]
    },
    {
     "name": "stderr",
     "output_type": "stream",
     "text": [
      "\n"
     ]
    }
   ],
   "source": [
    "model_embed_unbalanced = LSTM(\n",
    "\t\t\tvocab_size=len(VOCAB_UNBALANCED_SIZE) + 1000,\n",
    "\t\t\tembedding_dim=study_embed_unbalanced.best_trial.params['embedding_dim'],\n",
    "\t\t\thidden_dim=study_embed_unbalanced.best_trial.params['hidden_dim'],\n",
    "\t\t\tnum_layers=study_embed_unbalanced.best_trial.params['num_layers'],\n",
    "\t\t\tnum_classes=NUM_CLASSES,\n",
    "\t\t\tmax_len=1,\n",
    "\t\t\tbidirectional=study_embed_unbalanced.best_trial.params['bidirectional'],\n",
    "            is_embedding_layer=False\n",
    "\t\t).to(DEVICE)\n",
    "weight=torch.tensor([0.9589603283173734, 1.7014563106796117, 1.874331550802139, 0.55327545382794]).to(DEVICE)\n",
    "criterion = nn.CrossEntropyLoss(weight=weight)\n",
    "optimizer_embed_unbalanced = Adam(model_embed_unbalanced.parameters(), lr=study_embed_unbalanced.best_trial.params['lr'])\n",
    "\n",
    "best_embed_unbalanced=train_val(\n",
    "    model_embed_unbalanced,\n",
    "    optimizer_embed_unbalanced,\n",
    "    criterion,\n",
    "    epochs = 5,\n",
    "    train_dataloader = train_loader_embed_unbalanced,\n",
    "    val_dataloader = val_loader_embed_unbalanced,\n",
    "    device=DEVICE\n",
    ")"
   ]
  },
  {
   "cell_type": "markdown",
   "id": "ab6c1dfb",
   "metadata": {},
   "source": [
    "# Test"
   ]
  },
  {
   "cell_type": "code",
   "execution_count": 73,
   "id": "ad40d640",
   "metadata": {},
   "outputs": [],
   "source": [
    "from sklearn.metrics import classification_report, confusion_matrix"
   ]
  },
  {
   "cell_type": "code",
   "execution_count": 74,
   "id": "8363a59c",
   "metadata": {},
   "outputs": [],
   "source": [
    "def test(\n",
    "    model: LSTM,\n",
    "    criterion: nn.CrossEntropyLoss,\n",
    "    test_dataloader: DataLoader,\n",
    "    device\n",
    "):\n",
    "    model.eval()\n",
    "    test_loss = 0\n",
    "    test_correct = 0\n",
    "    test_total = 0\n",
    "    y_preds_list = []\n",
    "    y_true_list = []\n",
    "\n",
    "    with torch.no_grad():\n",
    "        for test_X, test_y in test_dataloader:\n",
    "            test_X = test_X.to(device)\n",
    "            test_y = test_y.to(device).long()\n",
    "\n",
    "            y_preds = model(test_X)\n",
    "            loss = criterion(y_preds, test_y)\n",
    "            test_loss += loss.item()\n",
    "\n",
    "            predicted = torch.argmax(y_preds, dim=1)\n",
    "            test_correct += (predicted == test_y).sum().item()\n",
    "            test_total += test_y.size(0)\n",
    "\n",
    "            y_preds_list.extend(predicted.detach().cpu().numpy())\n",
    "            y_true_list.extend(test_y.detach().cpu().numpy())\n",
    "\n",
    "            del test_X, test_y, y_preds\n",
    "            torch.cuda.empty_cache()\n",
    "            gc.collect()\n",
    "\n",
    "    acc = 100 * test_correct / test_total\n",
    "    f1 = f1_score(y_true_list, y_preds_list, average=\"weighted\", labels=[0, 1, 2, 3])\n",
    "\n",
    "    print(\n",
    "        f\"\\nTest Loss: {test_loss/len(test_dataloader):.4f}, \"\n",
    "        f\"Test Accuracy: {acc:.2f}%, \"\n",
    "        f\"Test F1 Score: {f1:.2f}\"\n",
    "    )\n",
    "    \n",
    "    print(\"\\nClassification Report:\")\n",
    "    print(classification_report(y_true_list, y_preds_list, labels=[0, 1, 2, 3]))\n",
    "\n",
    "    print(\"\\nConfusion Matrix:\")\n",
    "    print(confusion_matrix(y_true_list, y_preds_list, labels=[0, 1, 2, 3]))"
   ]
  },
  {
   "cell_type": "code",
   "execution_count": 79,
   "id": "b3b4e587-bb8f-4531-93db-3a39b50a3666",
   "metadata": {},
   "outputs": [
    {
     "name": "stdout",
     "output_type": "stream",
     "text": [
      "\n",
      "Test Loss: 1.0844, Test Accuracy: 59.89%, Test F1 Score: 0.58\n",
      "\n",
      "Classification Report:\n",
      "              precision    recall  f1-score   support\n",
      "\n",
      "           0       0.57      0.72      0.64       148\n",
      "           1       0.41      0.32      0.36        82\n",
      "           2       0.45      0.23      0.30        75\n",
      "           3       0.69      0.73      0.71       256\n",
      "\n",
      "    accuracy                           0.60       561\n",
      "   macro avg       0.53      0.50      0.50       561\n",
      "weighted avg       0.58      0.60      0.58       561\n",
      "\n",
      "\n",
      "Confusion Matrix:\n",
      "[[107   6   7  28]\n",
      " [ 23  26   6  27]\n",
      " [ 18  11  17  29]\n",
      " [ 41  21   8 186]]\n"
     ]
    }
   ],
   "source": [
    "criterion=nn.CrossEntropyLoss()\n",
    "test(best_balanced, criterion, test_loader_balanced, 'cuda')"
   ]
  },
  {
   "cell_type": "code",
   "execution_count": 80,
   "id": "6341ee6e-de17-4e0d-a9a4-3d688fdf7aa4",
   "metadata": {},
   "outputs": [
    {
     "name": "stdout",
     "output_type": "stream",
     "text": [
      "\n",
      "Test Loss: 0.7371, Test Accuracy: 71.48%, Test F1 Score: 0.71\n",
      "\n",
      "Classification Report:\n",
      "              precision    recall  f1-score   support\n",
      "\n",
      "           0       0.69      0.77      0.73       148\n",
      "           1       0.57      0.61      0.59        82\n",
      "           2       0.62      0.51      0.56        75\n",
      "           3       0.81      0.78      0.79       256\n",
      "\n",
      "    accuracy                           0.71       561\n",
      "   macro avg       0.67      0.67      0.67       561\n",
      "weighted avg       0.72      0.71      0.71       561\n",
      "\n",
      "\n",
      "Confusion Matrix:\n",
      "[[114   6   5  23]\n",
      " [ 15  50   3  14]\n",
      " [ 18   8  38  11]\n",
      " [ 19  23  15 199]]\n"
     ]
    }
   ],
   "source": [
    "test(best_embed_balanced, criterion, test_loader_embed_balanced, 'cuda')"
   ]
  },
  {
   "cell_type": "code",
   "execution_count": 81,
   "id": "8ad43668-4fa8-4cbd-863c-7aec5403414d",
   "metadata": {},
   "outputs": [
    {
     "name": "stdout",
     "output_type": "stream",
     "text": [
      "\n",
      "Test Loss: 1.3839, Test Accuracy: 28.88%, Test F1 Score: 0.30\n",
      "\n",
      "Classification Report:\n",
      "              precision    recall  f1-score   support\n",
      "\n",
      "           0       0.34      0.24      0.28       148\n",
      "           1       0.16      0.09      0.11        82\n",
      "           2       0.16      0.47      0.23        75\n",
      "           3       0.44      0.33      0.38       256\n",
      "\n",
      "    accuracy                           0.29       561\n",
      "   macro avg       0.28      0.28      0.25       561\n",
      "weighted avg       0.34      0.29      0.30       561\n",
      "\n",
      "\n",
      "Confusion Matrix:\n",
      "[[ 36  13  50  49]\n",
      " [ 18   7  28  29]\n",
      " [ 10   3  35  27]\n",
      " [ 41  20 111  84]]\n"
     ]
    }
   ],
   "source": [
    "criterion = nn.CrossEntropyLoss(weight=weight)\n",
    "test(best_unbalanced, criterion, test_loader_unbalanced, 'cuda')"
   ]
  },
  {
   "cell_type": "code",
   "execution_count": 83,
   "id": "41b17ddc-17c1-4934-b8e3-0045b824f311",
   "metadata": {},
   "outputs": [
    {
     "name": "stdout",
     "output_type": "stream",
     "text": [
      "\n",
      "Test Loss: 1.3839, Test Accuracy: 28.88%, Test F1 Score: 0.30\n",
      "\n",
      "Classification Report:\n",
      "              precision    recall  f1-score   support\n",
      "\n",
      "           0       0.34      0.24      0.28       148\n",
      "           1       0.16      0.09      0.11        82\n",
      "           2       0.16      0.47      0.23        75\n",
      "           3       0.44      0.33      0.38       256\n",
      "\n",
      "    accuracy                           0.29       561\n",
      "   macro avg       0.28      0.28      0.25       561\n",
      "weighted avg       0.34      0.29      0.30       561\n",
      "\n",
      "\n",
      "Confusion Matrix:\n",
      "[[ 36  13  50  49]\n",
      " [ 18   7  28  29]\n",
      " [ 10   3  35  27]\n",
      " [ 41  20 111  84]]\n"
     ]
    }
   ],
   "source": [
    "criterion = nn.CrossEntropyLoss(weight=weight)\n",
    "test(best_unbalanced, criterion, test_loader_unbalanced, 'cuda')"
   ]
  },
  {
   "cell_type": "code",
   "execution_count": 82,
   "id": "dbccbced-4926-464a-bb56-c270baed462c",
   "metadata": {},
   "outputs": [
    {
     "name": "stdout",
     "output_type": "stream",
     "text": [
      "\n",
      "Test Loss: 1.1867, Test Accuracy: 69.34%, Test F1 Score: 0.69\n",
      "\n",
      "Classification Report:\n",
      "              precision    recall  f1-score   support\n",
      "\n",
      "           0       0.67      0.74      0.70       148\n",
      "           1       0.56      0.70      0.62        82\n",
      "           2       0.62      0.45      0.52        75\n",
      "           3       0.78      0.74      0.76       256\n",
      "\n",
      "    accuracy                           0.69       561\n",
      "   macro avg       0.66      0.66      0.65       561\n",
      "weighted avg       0.70      0.69      0.69       561\n",
      "\n",
      "\n",
      "Confusion Matrix:\n",
      "[[109   9   6  24]\n",
      " [ 12  57   3  10]\n",
      " [ 15   7  34  19]\n",
      " [ 26  29  12 189]]\n"
     ]
    }
   ],
   "source": [
    "criterion = nn.CrossEntropyLoss(weight=weight)\n",
    "test(best_embed_unbalanced, criterion, test_loader_embed_unbalanced, 'cuda')"
   ]
  }
 ],
 "metadata": {
  "kernelspec": {
   "display_name": "venv",
   "language": "python",
   "name": "venv"
  },
  "language_info": {
   "codemirror_mode": {
    "name": "ipython",
    "version": 3
   },
   "file_extension": ".py",
   "mimetype": "text/x-python",
   "name": "python",
   "nbconvert_exporter": "python",
   "pygments_lexer": "ipython3",
   "version": "3.10.12"
  }
 },
 "nbformat": 4,
 "nbformat_minor": 5
}
